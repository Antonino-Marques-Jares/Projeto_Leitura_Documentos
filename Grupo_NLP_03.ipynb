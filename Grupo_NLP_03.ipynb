{
 "cells": [
  {
   "cell_type": "markdown",
   "id": "18d2ff4d",
   "metadata": {},
   "source": [
    "# Pré - Processamento\n",
    "## Vamos ler os pdfs e colocar em uma Planilha Excell inicial"
   ]
  },
  {
   "cell_type": "code",
   "execution_count": 1202,
   "id": "59ea916e",
   "metadata": {},
   "outputs": [],
   "source": [
    "import glob\n",
    "import pandas as pd\n",
    "import re\n",
    "from pypdf import PdfReader\n",
    "import time"
   ]
  },
  {
   "cell_type": "markdown",
   "id": "dad74eab",
   "metadata": {},
   "source": [
    "# Continuando a partir do acordao03"
   ]
  },
  {
   "cell_type": "code",
   "execution_count": 1203,
   "id": "410ab41f",
   "metadata": {},
   "outputs": [],
   "source": [
    "passo02 = pd.read_excel(r\"C:\\Users\\anton\\OneDrive\\Documentos\\dados_projeto\\dados_grup_nlp\\acordaos02.xlsx\")\n",
    "passo03 = pd.read_excel(r\"C:\\Users\\anton\\OneDrive\\Documentos\\dados_projeto\\dados_grup_nlp\\acordaos03.xlsx\")"
   ]
  },
  {
   "cell_type": "code",
   "execution_count": 1204,
   "id": "40861607",
   "metadata": {},
   "outputs": [],
   "source": [
    "del passo02[\"Unnamed: 0\"]\n",
    "del passo03[\"Unnamed: 0\"]"
   ]
  },
  {
   "cell_type": "code",
   "execution_count": 1205,
   "id": "8eca344a",
   "metadata": {},
   "outputs": [
    {
     "data": {
      "text/html": [
       "<div>\n",
       "<style scoped>\n",
       "    .dataframe tbody tr th:only-of-type {\n",
       "        vertical-align: middle;\n",
       "    }\n",
       "\n",
       "    .dataframe tbody tr th {\n",
       "        vertical-align: top;\n",
       "    }\n",
       "\n",
       "    .dataframe thead th {\n",
       "        text-align: right;\n",
       "    }\n",
       "</style>\n",
       "<table border=\"1\" class=\"dataframe\">\n",
       "  <thead>\n",
       "    <tr style=\"text-align: right;\">\n",
       "      <th></th>\n",
       "      <th>acordao</th>\n",
       "      <th>conteudo</th>\n",
       "    </tr>\n",
       "  </thead>\n",
       "  <tbody>\n",
       "    <tr>\n",
       "      <th>0</th>\n",
       "      <td>1</td>\n",
       "      <td>NaN</td>\n",
       "    </tr>\n",
       "    <tr>\n",
       "      <th>1</th>\n",
       "      <td>2</td>\n",
       "      <td>NaN</td>\n",
       "    </tr>\n",
       "    <tr>\n",
       "      <th>2</th>\n",
       "      <td>3</td>\n",
       "      <td>NaN</td>\n",
       "    </tr>\n",
       "    <tr>\n",
       "      <th>3</th>\n",
       "      <td>4</td>\n",
       "      <td>NaN</td>\n",
       "    </tr>\n",
       "    <tr>\n",
       "      <th>4</th>\n",
       "      <td>5</td>\n",
       "      <td>NaN</td>\n",
       "    </tr>\n",
       "  </tbody>\n",
       "</table>\n",
       "</div>"
      ],
      "text/plain": [
       "   acordao conteudo\n",
       "0        1      NaN\n",
       "1        2      NaN\n",
       "2        3      NaN\n",
       "3        4      NaN\n",
       "4        5      NaN"
      ]
     },
     "execution_count": 1205,
     "metadata": {},
     "output_type": "execute_result"
    }
   ],
   "source": [
    "passo02.head()"
   ]
  },
  {
   "cell_type": "code",
   "execution_count": 1206,
   "id": "0d78fefd",
   "metadata": {},
   "outputs": [
    {
     "data": {
      "text/html": [
       "<div>\n",
       "<style scoped>\n",
       "    .dataframe tbody tr th:only-of-type {\n",
       "        vertical-align: middle;\n",
       "    }\n",
       "\n",
       "    .dataframe tbody tr th {\n",
       "        vertical-align: top;\n",
       "    }\n",
       "\n",
       "    .dataframe thead th {\n",
       "        text-align: right;\n",
       "    }\n",
       "</style>\n",
       "<table border=\"1\" class=\"dataframe\">\n",
       "  <thead>\n",
       "    <tr style=\"text-align: right;\">\n",
       "      <th></th>\n",
       "      <th>acordao</th>\n",
       "      <th>conteudo</th>\n",
       "    </tr>\n",
       "  </thead>\n",
       "  <tbody>\n",
       "    <tr>\n",
       "      <th>0</th>\n",
       "      <td>20</td>\n",
       "      <td>acórdão nº 176 feito \\t processo n 2 57091tce...</td>\n",
       "    </tr>\n",
       "    <tr>\n",
       "      <th>1</th>\n",
       "      <td>128</td>\n",
       "      <td>acórdão nº 7556 natureza do feito processo nº...</td>\n",
       "    </tr>\n",
       "    <tr>\n",
       "      <th>2</th>\n",
       "      <td>129</td>\n",
       "      <td>acórdão nº 7557 natureza do feito processo nº...</td>\n",
       "    </tr>\n",
       "    <tr>\n",
       "      <th>3</th>\n",
       "      <td>130</td>\n",
       "      <td>acórdão nº 7560 natureza do feito processo nº...</td>\n",
       "    </tr>\n",
       "    <tr>\n",
       "      <th>4</th>\n",
       "      <td>131</td>\n",
       "      <td>acórdão nº 7564 natureza do feito processo nº...</td>\n",
       "    </tr>\n",
       "  </tbody>\n",
       "</table>\n",
       "</div>"
      ],
      "text/plain": [
       "   acordao                                           conteudo\n",
       "0       20   acórdão nº 176 feito \\t processo n 2 57091tce...\n",
       "1      128   acórdão nº 7556 natureza do feito processo nº...\n",
       "2      129   acórdão nº 7557 natureza do feito processo nº...\n",
       "3      130   acórdão nº 7560 natureza do feito processo nº...\n",
       "4      131   acórdão nº 7564 natureza do feito processo nº..."
      ]
     },
     "execution_count": 1206,
     "metadata": {},
     "output_type": "execute_result"
    }
   ],
   "source": [
    "passo03.head()"
   ]
  },
  {
   "cell_type": "code",
   "execution_count": 1207,
   "id": "7bcf9cce",
   "metadata": {},
   "outputs": [],
   "source": [
    "antes = passo02.conteudo[19]\n",
    "depois = passo03.conteudo[19]"
   ]
  },
  {
   "cell_type": "code",
   "execution_count": 1208,
   "id": "5c36733e",
   "metadata": {},
   "outputs": [],
   "source": [
    "def titulo(texto):\n",
    "    print(f\"\"\"\n",
    "    \n",
    "    =========================================\n",
    "      {texto}\n",
    "    =========================================\n",
    "    \n",
    "    \"\"\")"
   ]
  },
  {
   "cell_type": "code",
   "execution_count": 1209,
   "id": "fdb30b8c",
   "metadata": {},
   "outputs": [
    {
     "name": "stdout",
     "output_type": "stream",
     "text": [
      "\n",
      "    \n",
      "    =========================================\n",
      "      conteudo anterior com indice 19\n",
      "    =========================================\n",
      "    \n",
      "    \n",
      "stado do Acre.  \n",
      "ACÓRDÃO Ne 176 \n",
      "Feito \t : Processo N 2  570/91-TCE/ACRE \n",
      "Relator \t : Conselheiro MARCILIANO REIS FLEMING \n",
      "Voto Vencedor : Conselheiro ISNARD BASTOS BARBOSA LEITE \n",
      "Assunto \t : Contratos de Prestação de Serviços firmados en \n",
      "tre a Secretaria de Transportes e Obras Públi-\n",
      "cas e as firmas Azevedo Auditores Associados e \n",
      "F. M. Barroso. \n",
      "Contrato de Prestação de Serviços \n",
      "Túcnicos entre a Secretaria de \n",
      "Transportes e Obras Públicas e \n",
      "as firmas Azevedo Auditores Associa-\n",
      "dos e F. M. Barroso, objetivando \n",
      "a execução de serviços tecnicos \n",
      "especializados - considerados irregu-\n",
      "lares os Contratos de N 2  01 e 07/90. \n",
      "Vistos, relatados e discutidos os autos do \n",
      "Processo N 2  570/91, acima indicado,ACORDAMos Membros \n",
      "do Tribunal de Contas do Estado do Acre, por maioria, acolher \n",
      "o Voto Vencedor do Conselheiro Isnard Bastos Barbosa Leite, \n",
      "para considerar irregulares Contratos de N 2  01 e 07/90, em \n",
      "análise, firmados na, gestão do Engenheiro Civil Ricardo fileira \n",
      "Eluan, então Secretario de Estado \tde Transportes e Obras \n",
      "Públicas, comuncando-se esta decisão aos Chefes dos Poderes \n",
      "Executivo e Le O-AM:uivos  .respectivamente. Vencido, o Conse-\n",
      "lheiro Relator, acompanhado do Conselheiro Alcides Dutra de \n",
      "Lima, que votaram pela notificação do Titular da Secretaria, \n",
      "para sanar as irregularidades, cumpridas as exigencias do \n",
      "Decreto-Lei N 2  2.300/86 e da Lei N 2  4.320/64. O Conselheiro \n",
      "Helio Saraiva de Freitas, votou no sentido de considerar nulos \n",
      "os contratos, por descumprimento das formalidades legais e \n",
      "pela notificação dos responsáveis, para, no prazo de trinta \n",
      "(30) dias, devolver aos cofres públicos, os recursos indevida-\n",
      "mente pagos, corrigidos, concedido igual prazo, para defesa, \n",
      "querendo.- \n",
      "Sala das Sessões do Tribunal de Contas do \n",
      "Rio Branco, 02 de abril de 1992. \n",
      "Cons. JOSÉ EUGE O DE LEÃO BRAGA \n",
      "P re si clente \n"
     ]
    }
   ],
   "source": [
    "indice = 19\n",
    "titulo(f'conteudo anterior com indice {indice}')\n",
    "print(passo02.conteudo[indice])"
   ]
  },
  {
   "cell_type": "code",
   "execution_count": 1210,
   "id": "0efbff04",
   "metadata": {},
   "outputs": [
    {
     "name": "stdout",
     "output_type": "stream",
     "text": [
      "\n",
      "    \n",
      "    =========================================\n",
      "      conteudo atual com indice 19\n",
      "    =========================================\n",
      "    \n",
      "    \n",
      " acórdão nº 7582 natureza do feito processo nº 18840200775tce assunto prestação de contas da secretaria de extrativismo e produção familiar do estado do acre seprof exercício de 2006 responsável senhora denise regina garrafiel relator conselheiro valmir gomes ribeiro prestação de contas secretaria de extrativismo e produção familiar do estado do acre ausência do nome e assinatura do responsável pela contabilidade ausência dos atos que designaram as comissões para proceder ao inventário anual e do inventário geral de bens móveis divergência de valores entre a variação constante do anexo 14a e o inventário físico regularidade com ressalva arquivamento do processo vistos relatados e discutidos os autos do processo acima identificado acordam os membros do tribunal de contas do estado do acre à unanimidade nos termos do voto do conselheirorelator considerar regular com ressalva a prestação de contas em epígrafe de responsabilidade da senhora denise regina garrafiel secretária de estado com fulcro no inciso ii do art 51 da lei complementar estadual n 3893 valendo como ressalva a ausência do nome e assinatura do responsável pela contabilidade dos atos que designaram as comissões para proceder ao inventário anual e do inventário geral de bens móveis e a divergência de valores entre a variação constante do anexo 14a fl 154 e o inventário físico após as formalidades de estilo pelo arquivamento do processo rio branco 09022012 conselheiro ronald polanco ribeiro presidente do tceacre conselheiro valmir gomes ribeiro relator fui presente joão izidro de melo neto procuradorchefe do mpetceacre\n"
     ]
    }
   ],
   "source": [
    "titulo(f'conteudo atual com indice {indice}')\n",
    "print(passo03.conteudo[indice])"
   ]
  },
  {
   "cell_type": "code",
   "execution_count": 1211,
   "id": "5a3b04e0",
   "metadata": {},
   "outputs": [],
   "source": [
    "def substituir(texto_original,novo_texto,regex):\n",
    "    if type(texto_original) == str:\n",
    "        return regex.sub(novo_texto,texto_original)\n",
    "    else:\n",
    "        return[regex.sub(novo_texto,texto) for texto in textos]"
   ]
  },
  {
   "cell_type": "code",
   "execution_count": 1212,
   "id": "340fa747",
   "metadata": {},
   "outputs": [],
   "source": [
    "def quantidade_ocorrencias(tabela, expressao_regular_a_procurar):\n",
    "    resultado = []\n",
    "    for i in tabela.index:\n",
    "        previa = re.findall(expressao_regular_a_procurar,tabela.conteudo[i])\n",
    "        if previa != []:\n",
    "            resultado = resultado + previa\n",
    "    return len(resultado)"
   ]
  },
  {
   "cell_type": "code",
   "execution_count": 1213,
   "id": "39e89a20",
   "metadata": {},
   "outputs": [],
   "source": [
    "def tipo_de_situacoes(tabela,expressao_regular_a_procurar):\n",
    "    resultado = []\n",
    "    for i in tabela.index:\n",
    "        previa = re.findall(expressao_regular_a_procurar,tabela.conteudo[i])\n",
    "        if previa != []:\n",
    "            resultado.append([i,previa])\n",
    "    return resultado"
   ]
  },
  {
   "cell_type": "code",
   "execution_count": 1214,
   "id": "5954f6f0",
   "metadata": {},
   "outputs": [],
   "source": [
    "def indice_que_encontrou(tabela,expressao_regular_a_procurar):\n",
    "    resultado = []\n",
    "    for i in tabela.index:\n",
    "        previa = re.findall(expressao_regular_a_procurar,tabela.conteudo[i])\n",
    "        if previa != []:\n",
    "            resultado.append(i)\n",
    "    return resultado"
   ]
  },
  {
   "cell_type": "code",
   "execution_count": 1215,
   "id": "909679f6",
   "metadata": {},
   "outputs": [
    {
     "data": {
      "text/plain": [
       "[]"
      ]
     },
     "execution_count": 1215,
     "metadata": {},
     "output_type": "execute_result"
    }
   ],
   "source": [
    "indice_que_encontrou(passo03,'a c ó r d ã o')"
   ]
  },
  {
   "cell_type": "code",
   "execution_count": 1216,
   "id": "a15673a4",
   "metadata": {
    "scrolled": true
   },
   "outputs": [
    {
     "data": {
      "text/plain": [
       "'tribunal de contas do estado do acre primeira câmara secretaria das sessões acórdão nº 8373 1ª câmara natureza do feito processo nº 17267201380tce assunto relatório resumido da execução orçamentária da prefeitura municipal de acrelândia relativo ao 1º bimestre de 2013 responsável senhor jonas dalles da costa silva relatora conselheira naluh maria lima gouveia dos santos relatório resumido da execução orçamentária prefeitura municipal valor destinado com a manutenção e o desenvolvimento do ensino com a remuneração dos profissionais do magistério em efetivo exercício na educação básica e com as ações e serviços públicos na área de saúde aos limites legais respectivos recondução alerta ao gestor envio ao sistema de coleta de dados contábeis e fiscais dos entes da federação sistn as informações relativo ao 1º bimestre de 2013 notificação ao gestor normas da portaria stn nº 6372012 quanto ao correto preenchimento dos anexos vi vii ix x e xvi fazer cumprir limite mínimo constitucional estabelecido para a manutenção e o desenvolvimento do ensino e a remuneração dos profissionais do magistério da educação básica e limite constitucional com as ações e serviços públicos de saúde cientificação aos conselhos do fundeb e da saúde inconsistência encontrada pela 2ª igce relativo ao saldo de exercícios anteriores de restos a pagar recomendação à dafo para observar na prestação de contas de 2012 vistos relatados e discutidos os autos do processo acima identificado acordam os membros da 1ª câmara do tribunal de contas do estado do acre à unanimidade nos termos do voto da conselheirarelatora 1emitir alerta com fulcro no inciso v do 1º do art 59 da lcf nº 1012000 determinando que no prazo de 60 sessenta dias a contar da data do recebimento do comunicado o gestor juntamente com o responsável pela contabilidade reconduza o valor destinado com a manutenção e o desenvolvimento do ensino com a remuneração dos profissionais do magistério em efetivo exercício na educação básica e com as ações e serviços públicos na área de saúde aos limites legais respectivos 2notificar o senhor jonas dalles da costa silva prefeito para que no prazo de 30 trinta dias a partir da notificação envie ao sistema de coleta de dados contábeis e fiscais dos entes da federação sistn as informações relativo ao 1º bimestre de 2013 3notificar o gestor juntamente com o profissional responsável pela contabilidade que nas próximas edições a contar da data do recebimento da notificação faça cumprir as normas da portaria stn nº 6372012 quanto ao correto preenchimento dos anexos vi vii ix x e xvi sob pena de responsabilidade em caso de reincidência 4cientificar ao conselho municipal do fundeb sobre a tendência desfavorável ao cumprimento do limite mínimo constitucional estabelecido para a manutenção e o desenvolvimento do ensino e a remuneração dos profissionais do magistério da educação básica relativo ao 1º bimestre de 2013 5cientificar ao conselho municipal de saúde'"
      ]
     },
     "execution_count": 1216,
     "metadata": {},
     "output_type": "execute_result"
    }
   ],
   "source": [
    "passo03.conteudo[145]"
   ]
  },
  {
   "cell_type": "code",
   "execution_count": 1217,
   "id": "a4594ee4",
   "metadata": {},
   "outputs": [],
   "source": [
    "regex_tceac_ss = re.compile(r\"(tribunal de contas do estado do acre)(.*)(secretaria das sessões)\")"
   ]
  },
  {
   "cell_type": "code",
   "execution_count": 1218,
   "id": "fbd612c2",
   "metadata": {},
   "outputs": [],
   "source": [
    "regex_acordao = re.compile(r\"(a c ó r d ã o)\")\n",
    "regex_ate_acordao = re.compile('^(.*)(br|)( |)(acórdão nº{1})')"
   ]
  },
  {
   "cell_type": "code",
   "execution_count": 1219,
   "id": "52e08b89",
   "metadata": {},
   "outputs": [],
   "source": [
    "regex_espacos_em_branco_em_duplicidade = re.compile(r\"( {2,})\")"
   ]
  },
  {
   "cell_type": "code",
   "execution_count": 1220,
   "id": "151196fc",
   "metadata": {},
   "outputs": [],
   "source": [
    "regex_numero = re.compile(r\"(acórdão n º|acórdão ni)\")"
   ]
  },
  {
   "cell_type": "code",
   "execution_count": 1221,
   "id": "aee8e09f",
   "metadata": {},
   "outputs": [],
   "source": [
    "regex_acordao_acordao = re.compile(r\"(acórdão acórdão)\")\n",
    "regex_acordao_complemento = re.compile(r\"(plenáriotceac|plenariotceac)\")"
   ]
  },
  {
   "cell_type": "code",
   "execution_count": 1222,
   "id": "cc49852a",
   "metadata": {},
   "outputs": [],
   "source": [
    "def tratar_textos(tabela):\n",
    "    print(f'Aguarde um momento ...')\n",
    "    time.sleep(0.3)\n",
    "    for i in tabela.index:\n",
    "        antes = tabela.conteudo[i]\n",
    "        depois = substituir(antes,\" \",regex_tceac_ss)\n",
    "        depois = substituir(depois,\"acórdão nº\",regex_numero)\n",
    "        depois = substituir(depois,\"\",regex_acordao_complemento)\n",
    "        depois = substituir(depois,\"acórdão\",regex_acordao)\n",
    "        depois = substituir(depois,\"acórdão nº\",regex_acordao_acordao)\n",
    "        depois = substituir(depois,\"acórdão nº\",regex_ate_acordao)\n",
    "        \n",
    "        depois = substituir(depois,\" \",regex_espacos_em_branco_em_duplicidade)\n",
    "        tabela.loc[i,'conteudo_atualizado'] = depois\n",
    "    print('Texto processado com sucesso !')"
   ]
  },
  {
   "cell_type": "code",
   "execution_count": 1223,
   "id": "b37dcd3c",
   "metadata": {},
   "outputs": [
    {
     "name": "stdout",
     "output_type": "stream",
     "text": [
      "Aguarde um momento ...\n",
      "Texto processado com sucesso !\n"
     ]
    }
   ],
   "source": [
    "tratar_textos(passo03)"
   ]
  },
  {
   "cell_type": "code",
   "execution_count": 1224,
   "id": "0d7f86fe",
   "metadata": {},
   "outputs": [
    {
     "data": {
      "text/html": [
       "<div>\n",
       "<style scoped>\n",
       "    .dataframe tbody tr th:only-of-type {\n",
       "        vertical-align: middle;\n",
       "    }\n",
       "\n",
       "    .dataframe tbody tr th {\n",
       "        vertical-align: top;\n",
       "    }\n",
       "\n",
       "    .dataframe thead th {\n",
       "        text-align: right;\n",
       "    }\n",
       "</style>\n",
       "<table border=\"1\" class=\"dataframe\">\n",
       "  <thead>\n",
       "    <tr style=\"text-align: right;\">\n",
       "      <th></th>\n",
       "      <th>acordao</th>\n",
       "      <th>conteudo</th>\n",
       "      <th>conteudo_atualizado</th>\n",
       "    </tr>\n",
       "  </thead>\n",
       "  <tbody>\n",
       "    <tr>\n",
       "      <th>0</th>\n",
       "      <td>20</td>\n",
       "      <td>acórdão nº 176 feito \\t processo n 2 57091tce...</td>\n",
       "      <td>acórdão nº 176 feito \\t processo n 2 57091tcea...</td>\n",
       "    </tr>\n",
       "    <tr>\n",
       "      <th>1</th>\n",
       "      <td>128</td>\n",
       "      <td>acórdão nº 7556 natureza do feito processo nº...</td>\n",
       "      <td>acórdão nº 7556 natureza do feito processo nº ...</td>\n",
       "    </tr>\n",
       "    <tr>\n",
       "      <th>2</th>\n",
       "      <td>129</td>\n",
       "      <td>acórdão nº 7557 natureza do feito processo nº...</td>\n",
       "      <td>acórdão nº 7557 natureza do feito processo nº ...</td>\n",
       "    </tr>\n",
       "    <tr>\n",
       "      <th>3</th>\n",
       "      <td>130</td>\n",
       "      <td>acórdão nº 7560 natureza do feito processo nº...</td>\n",
       "      <td>acórdão nº 7560 natureza do feito processo nº ...</td>\n",
       "    </tr>\n",
       "    <tr>\n",
       "      <th>4</th>\n",
       "      <td>131</td>\n",
       "      <td>acórdão nº 7564 natureza do feito processo nº...</td>\n",
       "      <td>acórdão nº 7564 natureza do feito processo nº ...</td>\n",
       "    </tr>\n",
       "  </tbody>\n",
       "</table>\n",
       "</div>"
      ],
      "text/plain": [
       "   acordao                                           conteudo  \\\n",
       "0       20   acórdão nº 176 feito \\t processo n 2 57091tce...   \n",
       "1      128   acórdão nº 7556 natureza do feito processo nº...   \n",
       "2      129   acórdão nº 7557 natureza do feito processo nº...   \n",
       "3      130   acórdão nº 7560 natureza do feito processo nº...   \n",
       "4      131   acórdão nº 7564 natureza do feito processo nº...   \n",
       "\n",
       "                                 conteudo_atualizado  \n",
       "0  acórdão nº 176 feito \\t processo n 2 57091tcea...  \n",
       "1  acórdão nº 7556 natureza do feito processo nº ...  \n",
       "2  acórdão nº 7557 natureza do feito processo nº ...  \n",
       "3  acórdão nº 7560 natureza do feito processo nº ...  \n",
       "4  acórdão nº 7564 natureza do feito processo nº ...  "
      ]
     },
     "execution_count": 1224,
     "metadata": {},
     "output_type": "execute_result"
    }
   ],
   "source": [
    "passo03.head()"
   ]
  },
  {
   "cell_type": "code",
   "execution_count": 1225,
   "id": "95c6d248",
   "metadata": {},
   "outputs": [
    {
     "data": {
      "text/html": [
       "<div>\n",
       "<style scoped>\n",
       "    .dataframe tbody tr th:only-of-type {\n",
       "        vertical-align: middle;\n",
       "    }\n",
       "\n",
       "    .dataframe tbody tr th {\n",
       "        vertical-align: top;\n",
       "    }\n",
       "\n",
       "    .dataframe thead th {\n",
       "        text-align: right;\n",
       "    }\n",
       "</style>\n",
       "<table border=\"1\" class=\"dataframe\">\n",
       "  <thead>\n",
       "    <tr style=\"text-align: right;\">\n",
       "      <th></th>\n",
       "      <th>acordao</th>\n",
       "      <th>conteudo</th>\n",
       "    </tr>\n",
       "  </thead>\n",
       "  <tbody>\n",
       "  </tbody>\n",
       "</table>\n",
       "</div>"
      ],
      "text/plain": [
       "Empty DataFrame\n",
       "Columns: [acordao, conteudo]\n",
       "Index: []"
      ]
     },
     "execution_count": 1225,
     "metadata": {},
     "output_type": "execute_result"
    }
   ],
   "source": [
    "passo04 = pd.read_excel(r\"C:\\Users\\anton\\OneDrive\\Documentos\\dados_projeto\\dados_grup_nlp\\acordaos01.xlsx\")\n",
    "passo04.head()"
   ]
  },
  {
   "cell_type": "code",
   "execution_count": 1226,
   "id": "1e5b24aa",
   "metadata": {},
   "outputs": [],
   "source": [
    "passo04['acordao'] = passo03['acordao']\n",
    "passo04['conteudo'] = passo03['conteudo_atualizado']"
   ]
  },
  {
   "cell_type": "code",
   "execution_count": 1227,
   "id": "07a6c7b9",
   "metadata": {},
   "outputs": [
    {
     "data": {
      "text/html": [
       "<div>\n",
       "<style scoped>\n",
       "    .dataframe tbody tr th:only-of-type {\n",
       "        vertical-align: middle;\n",
       "    }\n",
       "\n",
       "    .dataframe tbody tr th {\n",
       "        vertical-align: top;\n",
       "    }\n",
       "\n",
       "    .dataframe thead th {\n",
       "        text-align: right;\n",
       "    }\n",
       "</style>\n",
       "<table border=\"1\" class=\"dataframe\">\n",
       "  <thead>\n",
       "    <tr style=\"text-align: right;\">\n",
       "      <th></th>\n",
       "      <th>acordao</th>\n",
       "      <th>conteudo</th>\n",
       "    </tr>\n",
       "  </thead>\n",
       "  <tbody>\n",
       "    <tr>\n",
       "      <th>0</th>\n",
       "      <td>20</td>\n",
       "      <td>acórdão nº 176 feito \\t processo n 2 57091tcea...</td>\n",
       "    </tr>\n",
       "    <tr>\n",
       "      <th>1</th>\n",
       "      <td>128</td>\n",
       "      <td>acórdão nº 7556 natureza do feito processo nº ...</td>\n",
       "    </tr>\n",
       "    <tr>\n",
       "      <th>2</th>\n",
       "      <td>129</td>\n",
       "      <td>acórdão nº 7557 natureza do feito processo nº ...</td>\n",
       "    </tr>\n",
       "    <tr>\n",
       "      <th>3</th>\n",
       "      <td>130</td>\n",
       "      <td>acórdão nº 7560 natureza do feito processo nº ...</td>\n",
       "    </tr>\n",
       "    <tr>\n",
       "      <th>4</th>\n",
       "      <td>131</td>\n",
       "      <td>acórdão nº 7564 natureza do feito processo nº ...</td>\n",
       "    </tr>\n",
       "  </tbody>\n",
       "</table>\n",
       "</div>"
      ],
      "text/plain": [
       "   acordao                                           conteudo\n",
       "0       20  acórdão nº 176 feito \\t processo n 2 57091tcea...\n",
       "1      128  acórdão nº 7556 natureza do feito processo nº ...\n",
       "2      129  acórdão nº 7557 natureza do feito processo nº ...\n",
       "3      130  acórdão nº 7560 natureza do feito processo nº ...\n",
       "4      131  acórdão nº 7564 natureza do feito processo nº ..."
      ]
     },
     "execution_count": 1227,
     "metadata": {},
     "output_type": "execute_result"
    }
   ],
   "source": [
    "passo04.head()"
   ]
  },
  {
   "cell_type": "markdown",
   "id": "3c3d4671",
   "metadata": {},
   "source": [
    "# Continuar do Grupo MPL 04"
   ]
  },
  {
   "cell_type": "code",
   "execution_count": 1228,
   "id": "1eb177c4",
   "metadata": {},
   "outputs": [
    {
     "data": {
      "text/plain": [
       "[145,\n",
       " 146,\n",
       " 213,\n",
       " 634,\n",
       " 635,\n",
       " 775,\n",
       " 776,\n",
       " 777,\n",
       " 778,\n",
       " 779,\n",
       " 780,\n",
       " 781,\n",
       " 782,\n",
       " 783,\n",
       " 784,\n",
       " 796,\n",
       " 797,\n",
       " 798,\n",
       " 799,\n",
       " 800,\n",
       " 801,\n",
       " 802,\n",
       " 803,\n",
       " 804,\n",
       " 805,\n",
       " 806,\n",
       " 860,\n",
       " 869,\n",
       " 870,\n",
       " 871,\n",
       " 878,\n",
       " 1028,\n",
       " 1029,\n",
       " 1030,\n",
       " 1040,\n",
       " 1364,\n",
       " 1365,\n",
       " 1366,\n",
       " 1368,\n",
       " 1371,\n",
       " 1372,\n",
       " 1373,\n",
       " 1374,\n",
       " 1375,\n",
       " 1382,\n",
       " 1383,\n",
       " 1384,\n",
       " 1385,\n",
       " 1386,\n",
       " 1387,\n",
       " 1388,\n",
       " 1396]"
      ]
     },
     "execution_count": 1228,
     "metadata": {},
     "output_type": "execute_result"
    }
   ],
   "source": [
    "acordaos = tipo_de_situacoes(passo04,'1ª câmara')\n",
    "processos_primeira_camara = [x[0] for x in acordaos]\n",
    "processos_primeira_camara"
   ]
  },
  {
   "cell_type": "code",
   "execution_count": 1229,
   "id": "1706c3e1",
   "metadata": {},
   "outputs": [
    {
     "name": "stdout",
     "output_type": "stream",
     "text": [
      "<class 'pandas.core.frame.DataFrame'>\n",
      "RangeIndex: 2454 entries, 0 to 2453\n",
      "Data columns (total 2 columns):\n",
      " #   Column    Non-Null Count  Dtype \n",
      "---  ------    --------------  ----- \n",
      " 0   acordao   2454 non-null   int64 \n",
      " 1   conteudo  2454 non-null   object\n",
      "dtypes: int64(1), object(1)\n",
      "memory usage: 38.5+ KB\n",
      "Quantidade de linhas antes None\n",
      "\n",
      "\n",
      "<class 'pandas.core.frame.DataFrame'>\n",
      "RangeIndex: 2454 entries, 0 to 2453\n",
      "Data columns (total 2 columns):\n",
      " #   Column    Non-Null Count  Dtype \n",
      "---  ------    --------------  ----- \n",
      " 0   acordao   2454 non-null   int64 \n",
      " 1   conteudo  2454 non-null   object\n",
      "dtypes: int64(1), object(1)\n",
      "memory usage: 38.5+ KB\n",
      "Quantidade de linhas None\n"
     ]
    }
   ],
   "source": [
    "print(f'Quantidade de linhas antes {passo04.info()}')\n",
    "for i in processos_primeira_camara:\n",
    "    passo04.drop(i)\n",
    "print('')\n",
    "print('')\n",
    "print(f'Quantidade de linhas {passo04.info()}')"
   ]
  },
  {
   "cell_type": "code",
   "execution_count": 1230,
   "id": "6e40bc57",
   "metadata": {},
   "outputs": [
    {
     "data": {
      "text/plain": [
       "'acórdão nº 92232015 natureza do feito processo no17278201380tce assunto responsávelprestação de contas da câmara municipal de santa rosa do purus exercício de 2012 senhor rosimar lima de oliveira relatora conselheira dulcinéa benício de araújo prestação de contas câmara municipal irregularidade condenação devolução aplicação de multas envio de ofício ao conselho regional de contabilidade remessa do apurado ao ministério público do estado do acre instauração de tomada de contas especial vistos relatados e discutidos os autos do processo acima identificado acordam os membros do tribunal de contas do estado do acre à unanimidade nos termos do voto da conselheirarelatora 1considerar irregular a prestação de contas da câmara municipal de santa rosa do purus relativa ao exercício de 2012 de responsabilidade de seu então presidente senhor rosimar lima de oliveira nos termos do artigo 51 inciso iii alíneas b e c da lei complementar estadual nº 3893 em razão das seguintes falhas anão encaminhamento dos documentos elencados nos itens iii v viii ix xi xii e xiii do anexo v da resolução nº 622008 bpagamentos de diárias em que não foi demonstrada sua legalidade cdescumprimento da lei nº 866693 em razão da contratação de consultoria sem o devido procedimento licitatório ou justificativa de dispensa eou inexigibilidade ddivergências na demonstração das variações patrimoniais enão envio do inventário atualizado de bens móveis e imóveis fausência de comprovação dos valores pagos aos vereadores a título de subsídio e ginexistência de controle interno 2condenar o gestor à devolução aos cofres do município no prazo de 30 trinta dias da quantia de r 38976 04 trinta e oito mil novecentos e setenta e seis reais e quatro centavos referente às diárias concedidas em que não foi demonstrada sua legalidade conforme previsto no caput do artigo 54 da lce 3893 impor ainda o pagamento de multa der 3897 60 três mil oitocentos e noventa e sete reais e sessenta centavos que corresponde a 10 dez por cento sobre o valor a ser devolvido nos termos do artigo 88 da lei complementar estadual nº 3893 3 fixar multa prevista no artigo 89 incisos ii e iii da lce nº 3893 combinado com o artigo 139 incisos ii e iii da resoluçãotce nº 3096 ao senhor rosimar lima de oliveira no valor equivalente a r 7140 00 sete mil cento e quarenta reais em razão das falhas apuradas considerando o efeito pedagógico bem como os princípios da razoabilidade e proporcionalidade a ser recolhida em favor do tesouro do estado do acre no prazo de 30 trinta dias na hipótese de descumprimento deverá ser procedida sua cobrança pela via judicial nos termos dos artigos 23 iii e 63 ii da lei complementar estadual nº 3893 4fixar multa prevista no artigo 89 incisos ii e iii da lce nº 3893 combinado com o artigo 139 incisos ii e iii da resoluçãotce nº 3096 ao senhor paulo lopes mateus kaxinawa no valor equivalente a r 3570 00 três mil quinhentos e setenta reais '"
      ]
     },
     "execution_count": 1230,
     "metadata": {},
     "output_type": "execute_result"
    }
   ],
   "source": [
    "passo04.conteudo[374]"
   ]
  },
  {
   "cell_type": "code",
   "execution_count": 1231,
   "id": "6f1fc514",
   "metadata": {},
   "outputs": [],
   "source": [
    "passo04.to_excel(r\"C:\\Users\\anton\\OneDrive\\Documentos\\dados_projeto\\dados_grup_nlp\\acordaos04.xlsx\")"
   ]
  },
  {
   "cell_type": "markdown",
   "id": "e6162d9f",
   "metadata": {},
   "source": [
    "# Continuar do Acordao 04"
   ]
  },
  {
   "cell_type": "code",
   "execution_count": 1232,
   "id": "2948002d",
   "metadata": {},
   "outputs": [
    {
     "data": {
      "text/plain": [
       "[[145, ['1ª câmara', '1ª câmara']],\n",
       " [146, ['1ª câmara', '1ª câmara']],\n",
       " [213, ['1ª câmara', '1ª câmara']],\n",
       " [634, ['1ª câmara', '1ª câmara']],\n",
       " [635, ['1ª câmara', '1ª câmara']],\n",
       " [775, ['1ª câmara', '1ª câmara']],\n",
       " [776, ['1ª câmara', '1ª câmara']],\n",
       " [777, ['1ª câmara', '1ª câmara']],\n",
       " [778, ['1ª câmara', '1ª câmara']],\n",
       " [779, ['1ª câmara', '1ª câmara']],\n",
       " [780, ['1ª câmara', '1ª câmara']],\n",
       " [781, ['1ª câmara', '1ª câmara']],\n",
       " [782, ['1ª câmara', '1ª câmara']],\n",
       " [783, ['1ª câmara', '1ª câmara']],\n",
       " [784, ['1ª câmara', '1ª câmara']],\n",
       " [796, ['1ª câmara', '1ª câmara', '1ª câmara']],\n",
       " [797, ['1ª câmara', '1ª câmara', '1ª câmara']],\n",
       " [798, ['1ª câmara', '1ª câmara', '1ª câmara']],\n",
       " [799, ['1ª câmara', '1ª câmara']],\n",
       " [800, ['1ª câmara', '1ª câmara', '1ª câmara']],\n",
       " [801, ['1ª câmara', '1ª câmara', '1ª câmara']],\n",
       " [802, ['1ª câmara', '1ª câmara']],\n",
       " [803, ['1ª câmara', '1ª câmara', '1ª câmara']],\n",
       " [804, ['1ª câmara', '1ª câmara', '1ª câmara']],\n",
       " [805, ['1ª câmara', '1ª câmara', '1ª câmara']],\n",
       " [806, ['1ª câmara', '1ª câmara', '1ª câmara']],\n",
       " [860, ['1ª câmara']],\n",
       " [869, ['1ª câmara', '1ª câmara']],\n",
       " [870, ['1ª câmara', '1ª câmara']],\n",
       " [871, ['1ª câmara', '1ª câmara', '1ª câmara']],\n",
       " [878, ['1ª câmara', '1ª câmara']],\n",
       " [1028, ['1ª câmara', '1ª câmara']],\n",
       " [1029, ['1ª câmara', '1ª câmara']],\n",
       " [1030, ['1ª câmara', '1ª câmara']],\n",
       " [1040, ['1ª câmara', '1ª câmara']],\n",
       " [1364, ['1ª câmara', '1ª câmara', '1ª câmara']],\n",
       " [1365, ['1ª câmara', '1ª câmara', '1ª câmara', '1ª câmara']],\n",
       " [1366, ['1ª câmara', '1ª câmara', '1ª câmara', '1ª câmara']],\n",
       " [1368, ['1ª câmara', '1ª câmara', '1ª câmara', '1ª câmara']],\n",
       " [1371, ['1ª câmara', '1ª câmara', '1ª câmara']],\n",
       " [1372, ['1ª câmara', '1ª câmara', '1ª câmara']],\n",
       " [1373, ['1ª câmara', '1ª câmara', '1ª câmara']],\n",
       " [1374, ['1ª câmara', '1ª câmara', '1ª câmara']],\n",
       " [1375, ['1ª câmara', '1ª câmara', '1ª câmara']],\n",
       " [1382, ['1ª câmara', '1ª câmara', '1ª câmara']],\n",
       " [1383, ['1ª câmara', '1ª câmara', '1ª câmara']],\n",
       " [1384, ['1ª câmara', '1ª câmara', '1ª câmara']],\n",
       " [1385, ['1ª câmara', '1ª câmara', '1ª câmara', '1ª câmara']],\n",
       " [1386, ['1ª câmara', '1ª câmara', '1ª câmara', '1ª câmara']],\n",
       " [1387, ['1ª câmara', '1ª câmara', '1ª câmara', '1ª câmara']],\n",
       " [1388, ['1ª câmara', '1ª câmara', '1ª câmara', '1ª câmara']],\n",
       " [1396, ['1ª câmara', '1ª câmara', '1ª câmara', '1ª câmara']]]"
      ]
     },
     "execution_count": 1232,
     "metadata": {},
     "output_type": "execute_result"
    }
   ],
   "source": [
    "tipo_de_situacoes(passo04,'1ª câmara')"
   ]
  },
  {
   "cell_type": "code",
   "execution_count": null,
   "id": "099c99e2",
   "metadata": {},
   "outputs": [],
   "source": []
  }
 ],
 "metadata": {
  "kernelspec": {
   "display_name": "Python 3 (ipykernel)",
   "language": "python",
   "name": "python3"
  },
  "language_info": {
   "codemirror_mode": {
    "name": "ipython",
    "version": 3
   },
   "file_extension": ".py",
   "mimetype": "text/x-python",
   "name": "python",
   "nbconvert_exporter": "python",
   "pygments_lexer": "ipython3",
   "version": "3.11.5"
  }
 },
 "nbformat": 4,
 "nbformat_minor": 5
}
