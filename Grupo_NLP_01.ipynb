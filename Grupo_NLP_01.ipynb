{
 "cells": [
  {
   "cell_type": "markdown",
   "id": "18d2ff4d",
   "metadata": {},
   "source": [
    "# A\\) Etapas do Pré - Processamento\n",
    "## 1) Fazer a leitura dos Acórdãos que estão em pdfs e exportar para uma planilha xls.\n",
    "\n",
    "> \n",
    ">Utilizaremos programação Python com biblioteca PANDAS\n",
    "> "
   ]
  },
  {
   "cell_type": "code",
   "execution_count": 47,
   "id": "59ea916e",
   "metadata": {},
   "outputs": [],
   "source": [
    "import glob\n",
    "import pandas as pd\n",
    "import re\n",
    "from pypdf import PdfReader\n",
    "import os\n",
    "from IPython.display import clear_output"
   ]
  },
  {
   "cell_type": "code",
   "execution_count": 48,
   "id": "22523641",
   "metadata": {},
   "outputs": [],
   "source": [
    "diretorio_dados = \"C:\\\\Users\\\\anton\\\\OneDrive - Casa Jares\\\\Projeto_BI_Ciencia_Dados\\\\Projeto_Leitura_Documentos\\\\dados\"\n",
    "diretorio_planilhas = \"C:\\\\Users\\\\anton\\OneDrive - Casa Jares\\\\Projeto_BI_Ciencia_Dados\\\\Projeto_Leitura_Documentos\\\\planilhas\""
   ]
  },
  {
   "cell_type": "code",
   "execution_count": 49,
   "id": "2b45b1d3",
   "metadata": {},
   "outputs": [
    {
     "data": {
      "text/html": [
       "<div>\n",
       "<style scoped>\n",
       "    .dataframe tbody tr th:only-of-type {\n",
       "        vertical-align: middle;\n",
       "    }\n",
       "\n",
       "    .dataframe tbody tr th {\n",
       "        vertical-align: top;\n",
       "    }\n",
       "\n",
       "    .dataframe thead th {\n",
       "        text-align: right;\n",
       "    }\n",
       "</style>\n",
       "<table border=\"1\" class=\"dataframe\">\n",
       "  <thead>\n",
       "    <tr style=\"text-align: right;\">\n",
       "      <th></th>\n",
       "      <th>indice</th>\n",
       "      <th>conteudo</th>\n",
       "    </tr>\n",
       "  </thead>\n",
       "  <tbody>\n",
       "  </tbody>\n",
       "</table>\n",
       "</div>"
      ],
      "text/plain": [
       "Empty DataFrame\n",
       "Columns: [indice, conteudo]\n",
       "Index: []"
      ]
     },
     "execution_count": 49,
     "metadata": {},
     "output_type": "execute_result"
    }
   ],
   "source": [
    "inicio = pd.read_excel(f\"{diretorio_planilhas}\\\\inicio.xlsx\")\n",
    "inicio.head()"
   ]
  },
  {
   "cell_type": "markdown",
   "id": "dad74eab",
   "metadata": {},
   "source": [
    "# Extraindo o conteúdo dos PDF's e colocando em uma Planilha"
   ]
  },
  {
   "cell_type": "code",
   "execution_count": 50,
   "id": "ba392d6a",
   "metadata": {},
   "outputs": [
    {
     "name": "stdout",
     "output_type": "stream",
     "text": [
      "Aguarde..\n",
      "Todos os Pdf´s foram lidos e salvos no DataSet inicio"
     ]
    }
   ],
   "source": [
    "linha = 0\n",
    "for arquivo in glob.glob(f\"{diretorio_dados}/*.pdf\"):\n",
    "    clear_output(wait=True)\n",
    "    print('Aguarde', end = \"\")\n",
    "    documento = PdfReader(arquivo)\n",
    "    resultado = []\n",
    "    for pagina in documento.pages:\n",
    "        conteudo = pagina.extract_text()\n",
    "        conteudo = ''.join(conteudo)\n",
    "        conteudo = conteudo.replace('TRIBUNAL DE CONTAS DO ESTADO DO ACRE', '')\n",
    "        resultado.append(conteudo)\n",
    "        print('..', end = \"\")\n",
    "        \n",
    "    inicio.loc[linha,\"indice\"] = linha\n",
    "    inicio.loc[linha,\"conteudo\"] = resultado[0]\n",
    "    linha += 1\n",
    "    \n",
    "print(\"\\nTodos os Pdf´s foram lidos e salvos no DataSet inicio\", end = \"\")"
   ]
  },
  {
   "cell_type": "code",
   "execution_count": 51,
   "id": "e96c591f",
   "metadata": {},
   "outputs": [],
   "source": [
    "inicio.to_excel(f\"{diretorio_planilhas}\\\\transitorio.xlsx\")"
   ]
  },
  {
   "cell_type": "code",
   "execution_count": 52,
   "id": "a146570f",
   "metadata": {},
   "outputs": [
    {
     "name": "stdout",
     "output_type": "stream",
     "text": [
      "<class 'pandas.core.frame.DataFrame'>\n",
      "RangeIndex: 2620 entries, 0 to 2619\n",
      "Data columns (total 3 columns):\n",
      " #   Column      Non-Null Count  Dtype \n",
      "---  ------      --------------  ----- \n",
      " 0   Unnamed: 0  2620 non-null   int64 \n",
      " 1   indice      2620 non-null   int64 \n",
      " 2   conteudo    2454 non-null   object\n",
      "dtypes: int64(2), object(1)\n",
      "memory usage: 61.5+ KB\n"
     ]
    }
   ],
   "source": [
    "transitorio = pd.read_excel(f\"{diretorio_planilhas}\\\\transitorio.xlsx\")\n",
    "transitorio.info()"
   ]
  },
  {
   "cell_type": "code",
   "execution_count": 53,
   "id": "27bcbfef",
   "metadata": {},
   "outputs": [
    {
     "name": "stdout",
     "output_type": "stream",
     "text": [
      "Quantidade total de registos 2620 antes de apagar registros com NAN\n",
      "Quantidade de registos com NaN 166\n",
      "Quantidade de registos sem informação 1\n"
     ]
    }
   ],
   "source": [
    "print(f\"Quantidade total de registos {transitorio.shape[0]} antes de apagar registros com NAN\")\n",
    "total_na = transitorio['conteudo'].isna().sum()\n",
    "total_isnull = transitorio.loc[1,:].isnull().sum()\n",
    "print(f\"Quantidade de registos com NaN {total_na}\")\n",
    "print(f\"Quantidade de registos sem informação {total_isnull}\")"
   ]
  },
  {
   "cell_type": "code",
   "execution_count": 54,
   "id": "cb5ae4d9",
   "metadata": {},
   "outputs": [
    {
     "name": "stdout",
     "output_type": "stream",
     "text": [
      "Quantidade atual de registos 2454 após de apagar registros com NAN\n"
     ]
    }
   ],
   "source": [
    "# Apagando registros com NAN\n",
    "transitorio = transitorio.dropna()\n",
    "print(f\"Quantidade atual de registos {transitorio.shape[0]} após de apagar registros com NAN\")"
   ]
  },
  {
   "cell_type": "code",
   "execution_count": 55,
   "id": "45fdfc0e",
   "metadata": {},
   "outputs": [
    {
     "data": {
      "text/html": [
       "<div>\n",
       "<style scoped>\n",
       "    .dataframe tbody tr th:only-of-type {\n",
       "        vertical-align: middle;\n",
       "    }\n",
       "\n",
       "    .dataframe tbody tr th {\n",
       "        vertical-align: top;\n",
       "    }\n",
       "\n",
       "    .dataframe thead th {\n",
       "        text-align: right;\n",
       "    }\n",
       "</style>\n",
       "<table border=\"1\" class=\"dataframe\">\n",
       "  <thead>\n",
       "    <tr style=\"text-align: right;\">\n",
       "      <th></th>\n",
       "      <th>indice</th>\n",
       "      <th>conteudo</th>\n",
       "    </tr>\n",
       "  </thead>\n",
       "  <tbody>\n",
       "    <tr>\n",
       "      <th>19</th>\n",
       "      <td>19</td>\n",
       "      <td>stado do Acre.  \\nACÓRDÃO Ne 176 \\nFeito \\t : ...</td>\n",
       "    </tr>\n",
       "    <tr>\n",
       "      <th>127</th>\n",
       "      <td>127</td>\n",
       "      <td>Tribunal de Contas do Estado do Acre\\nSecretar...</td>\n",
       "    </tr>\n",
       "    <tr>\n",
       "      <th>128</th>\n",
       "      <td>128</td>\n",
       "      <td>Tribunal de Contas do Estado do Acre\\nSecretar...</td>\n",
       "    </tr>\n",
       "    <tr>\n",
       "      <th>129</th>\n",
       "      <td>129</td>\n",
       "      <td>Tribunal de Contas do Estado do Acre\\nSecretar...</td>\n",
       "    </tr>\n",
       "    <tr>\n",
       "      <th>130</th>\n",
       "      <td>130</td>\n",
       "      <td>Tribunal de Contas do Estado do Acre\\nSecretar...</td>\n",
       "    </tr>\n",
       "  </tbody>\n",
       "</table>\n",
       "</div>"
      ],
      "text/plain": [
       "     indice                                           conteudo\n",
       "19       19  stado do Acre.  \\nACÓRDÃO Ne 176 \\nFeito \\t : ...\n",
       "127     127  Tribunal de Contas do Estado do Acre\\nSecretar...\n",
       "128     128  Tribunal de Contas do Estado do Acre\\nSecretar...\n",
       "129     129  Tribunal de Contas do Estado do Acre\\nSecretar...\n",
       "130     130  Tribunal de Contas do Estado do Acre\\nSecretar..."
      ]
     },
     "execution_count": 55,
     "metadata": {},
     "output_type": "execute_result"
    }
   ],
   "source": [
    "del transitorio[\"Unnamed: 0\"]\n",
    "transitorio.head()"
   ]
  },
  {
   "cell_type": "markdown",
   "id": "fb4ea3b1",
   "metadata": {},
   "source": [
    "# Salvando em acordaos01.xls"
   ]
  },
  {
   "cell_type": "code",
   "execution_count": 61,
   "id": "946fab34",
   "metadata": {},
   "outputs": [
    {
     "name": "stdout",
     "output_type": "stream",
     "text": [
      "indice\n",
      "conteudo\n"
     ]
    }
   ],
   "source": [
    "for col in transitorio.columns:\n",
    "    print(col)"
   ]
  },
  {
   "cell_type": "code",
   "execution_count": 62,
   "id": "46324003",
   "metadata": {},
   "outputs": [],
   "source": [
    "transitorio.to_excel(f\"{diretorio_planilhas}\\\\acordaos01.xlsx\")"
   ]
  },
  {
   "cell_type": "markdown",
   "id": "cbc51fb6",
   "metadata": {},
   "source": [
    "# Continuar no notebook Grupo_NLP_02.ipynb\n",
    "------\n",
    "Para cada etapa teremos novos notebook's (*.ipynb) e planilha's (*.xls) para manter a independência entre cada etapa.\n",
    "\n",
    "Havendo erro a corrigir será feito de forma independente."
   ]
  }
 ],
 "metadata": {
  "kernelspec": {
   "display_name": "Python 3 (ipykernel)",
   "language": "python",
   "name": "python3"
  },
  "language_info": {
   "codemirror_mode": {
    "name": "ipython",
    "version": 3
   },
   "file_extension": ".py",
   "mimetype": "text/x-python",
   "name": "python",
   "nbconvert_exporter": "python",
   "pygments_lexer": "ipython3",
   "version": "3.11.5"
  }
 },
 "nbformat": 4,
 "nbformat_minor": 5
}
