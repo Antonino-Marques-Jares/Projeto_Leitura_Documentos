{
 "cells": [
  {
   "cell_type": "markdown",
   "id": "18d2ff4d",
   "metadata": {},
   "source": [
    "# A\\) Etapas do Pré - Processamento\n",
    "## 1) Fazer a leitura dos Acórdãos que estão em pdfs e exportar para uma planilha xls.\n",
    "\n",
    "> \n",
    ">Utilizaremos programação Python com biblioteca PANDAS\n",
    "> "
   ]
  },
  {
   "cell_type": "code",
   "execution_count": 17,
   "id": "59ea916e",
   "metadata": {},
   "outputs": [],
   "source": [
    "import glob\n",
    "import pandas as pd\n",
    "import re\n",
    "from pypdf import PdfReader\n",
    "import os\n",
    "from IPython.display import clear_output"
   ]
  },
  {
   "cell_type": "code",
   "execution_count": 18,
   "id": "22523641",
   "metadata": {},
   "outputs": [],
   "source": [
    "diretorio_dados = \"C:\\\\Users\\\\anton\\\\OneDrive - Casa Jares\\\\Projeto_BI_Ciencia_Dados\\\\Projeto_Leitura_Documentos\\\\dados\"\n",
    "diretorio_planilhas = \"C:\\\\Users\\\\anton\\OneDrive - Casa Jares\\\\Projeto_BI_Ciencia_Dados\\\\Projeto_Leitura_Documentos\\\\planilhas\""
   ]
  },
  {
   "cell_type": "code",
   "execution_count": 19,
   "id": "2b45b1d3",
   "metadata": {},
   "outputs": [
    {
     "data": {
      "text/html": [
       "<div>\n",
       "<style scoped>\n",
       "    .dataframe tbody tr th:only-of-type {\n",
       "        vertical-align: middle;\n",
       "    }\n",
       "\n",
       "    .dataframe tbody tr th {\n",
       "        vertical-align: top;\n",
       "    }\n",
       "\n",
       "    .dataframe thead th {\n",
       "        text-align: right;\n",
       "    }\n",
       "</style>\n",
       "<table border=\"1\" class=\"dataframe\">\n",
       "  <thead>\n",
       "    <tr style=\"text-align: right;\">\n",
       "      <th></th>\n",
       "      <th>acordao</th>\n",
       "      <th>conteudo</th>\n",
       "    </tr>\n",
       "  </thead>\n",
       "  <tbody>\n",
       "  </tbody>\n",
       "</table>\n",
       "</div>"
      ],
      "text/plain": [
       "Empty DataFrame\n",
       "Columns: [acordao, conteudo]\n",
       "Index: []"
      ]
     },
     "execution_count": 19,
     "metadata": {},
     "output_type": "execute_result"
    }
   ],
   "source": [
    "passo01 = pd.read_excel(f\"{diretorio_planilhas}\\\\acordaos01.xlsx\")\n",
    "passo01.head()"
   ]
  },
  {
   "cell_type": "markdown",
   "id": "dad74eab",
   "metadata": {},
   "source": [
    "# Extraindo o conteúdo dos PDF's e colocando em uma Planilha"
   ]
  },
  {
   "cell_type": "code",
   "execution_count": 20,
   "id": "ba392d6a",
   "metadata": {},
   "outputs": [
    {
     "name": "stdout",
     "output_type": "stream",
     "text": [
      "Aguarde."
     ]
    }
   ],
   "source": [
    "\n",
    "linha = 0\n",
    "for arquivo in glob.glob(f\"{diretorio_dados}/*.pdf\"):\n",
    "    linha += 1\n",
    "    clear_output(wait=True)\n",
    "    print('Aguarde', end = \"\")\n",
    "    documento = PdfReader(arquivo)\n",
    "    resultado = []\n",
    "    for pagina in documento.pages:\n",
    "        conteudo = pagina.extract_text()\n",
    "        conteudo = ''.join(conteudo)\n",
    "        conteudo = conteudo.replace('TRIBUNAL DE CONTAS DO ESTADO DO ACRE', '')\n",
    "        resultado.append(conteudo)\n",
    "        print('.', end = \"\")\n",
    "        \n",
    "    passo01.loc[linha,\"acordao\"] = linha\n",
    "    passo01.loc[linha,\"conteudo\"] = resultado[0]\n",
    "    \n",
    "print(\"Todos os Pdf\\s foram lidos e salvos em passo01\")"
   ]
  },
  {
   "cell_type": "markdown",
   "id": "fb4ea3b1",
   "metadata": {},
   "source": [
    "# Salvando em acordaos02.xls"
   ]
  },
  {
   "cell_type": "code",
   "execution_count": 22,
   "id": "46324003",
   "metadata": {},
   "outputs": [],
   "source": [
    "passo01.to_excel(f\"{diretorio_planilhas}\\\\acordaos02.xlsx\")"
   ]
  },
  {
   "cell_type": "code",
   "execution_count": 23,
   "id": "1cfe601c",
   "metadata": {},
   "outputs": [
    {
     "data": {
      "text/plain": [
       "'Tribunal de Contas do Estado do Acre\\nSecretaria das Sessões\\nMissão: Exercer o controle externo, orientando e fiscalizando a gestão pública, e incentivar a sociedade ao exercício do controle social.\\nAv. Ceará, 2994, Bairro 7º BEC  – Rio Branco – Acre, CEP  69.918-111\\nTelefone: (68)3025-2039 – Fonefax: (68)3025-2041 – Email: pres@tce.ac.gov.br A C Ó R D Ã O  Nº 7.785\\nNATUREZA DO FEITO: Processo nº 13.986.2010-20-TCE (C/ 02 Anexos)\\nASSUNTO: Prestação de Contas da Secretaria de Estado de Floresta - SEF,\\nexercício de 2009.\\nRESPONSÁVEL: Senhor Carlos Ovídio Duarte Rocha\\nRELATOR: Conselheiro Antonio Cristovão Correia de Messias    \\nPrestação de Contas. Secretaria de Estado de Floresta. Falhas formais.\\nRegularidade com ressalva. Correção do saldo patrimonial. Notificação.\\nRegistro e autuação de processo em separado, para análise da documentação\\nconstante do Anexo II, que trata da Prestação de Contas do Fundo Estadual\\nde Floresta, exercício de 2009.\\nVistos, relatados e discutidos os autos do processo acima\\nidentificado, A C O R D A M os Membros do Tribunal de Contas do Estado do Acre,\\nà unanimidade ,nos termos do voto do Conselheiro-Relator: 1) considerar regular\\ncom ressalva a Prestação de Contas da Secretaria de Estado de Floresta, exercício\\norçamentário e financeiro de 2009, de responsabilidade do Senhor Carlos Ovídio\\nDuarte Rocha , Secretário de Estado à época, com fulcro no inciso II, do art. 51, da\\nLei Complementar Estadual n° 38/93, valendo como ressalva as falhas formais\\napontadas pela 1ª IGCE (fls. 235 a 239); 2) notificar o atual gestor, para, no prazo\\nde 60 (sessenta) dias , tomar conhecimento do apurado e demonstrar a este\\nTribunal de Contas a correção do saldo patrimonial, sob pena de responsabilidade\\n(LCE nº 38/93, art. 89, inciso VII); 3) registrar e autuar processo em separado ,\\npara análise da documentação constante do Anexo II, que trata da Prestação de\\nContas do Fundo Estadual de Floresta, exercício de 2009. Após as formalidades de\\nestilo, pelo arquivamento  do processo. Ausente, justificadamente, o Excelentíssimo\\nSenhor Conselheiro-Presidente Ronald Polanco\\nRibeiro.-.-.-.-.-.-.-.-.-.-.-.-.-.-.-.-.-.-.-.-.-.-.-.-.-.-.-.-.-\\nSala das Sessões do Tribunal de Contas do Estado do Acre\\nRio Branco – Acre, 14 de junho de 2012\\nConselheira DULCINÉA BENÍCIO DE ARAÚJO\\n              Presidenta em exercício do TCE/ACRE\\n    Conselheiro ANTONIO CRISTOVÃO CORREIA DE MESSIAS\\n                Relator\\nFui presente:\\n         JOÃO IZIDRO DE MELO NETO\\n              Procurador-Chefe do M.P.E/TCE/ACRE'"
      ]
     },
     "execution_count": 23,
     "metadata": {},
     "output_type": "execute_result"
    }
   ],
   "source": [
    "passo01.conteudo[145]"
   ]
  },
  {
   "cell_type": "markdown",
   "id": "cbc51fb6",
   "metadata": {},
   "source": [
    "# Continuar no notebook Grupo_NLP_02.ipynb\n",
    "------\n",
    "Para cada etapa teremos novos notebook's (*.ipynb) e planilha's (*.xls) para manter a independência entre cada etapa.\n",
    "\n",
    "Havendo erro a corrigir será feito de forma independente."
   ]
  }
 ],
 "metadata": {
  "kernelspec": {
   "display_name": "Python 3 (ipykernel)",
   "language": "python",
   "name": "python3"
  },
  "language_info": {
   "codemirror_mode": {
    "name": "ipython",
    "version": 3
   },
   "file_extension": ".py",
   "mimetype": "text/x-python",
   "name": "python",
   "nbconvert_exporter": "python",
   "pygments_lexer": "ipython3",
   "version": "3.11.5"
  }
 },
 "nbformat": 4,
 "nbformat_minor": 5
}
