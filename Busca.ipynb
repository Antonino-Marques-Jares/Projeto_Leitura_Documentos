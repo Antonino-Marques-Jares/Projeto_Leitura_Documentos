{
 "cells": [
  {
   "cell_type": "markdown",
   "metadata": {},
   "source": [
    "# A\\) Etapas do Pré - Processamento\n",
    "## 5) Fazer funções para a equipe fazer concultas e apontar alterações a serem feitas pelos programadores "
   ]
  },
  {
   "cell_type": "code",
   "execution_count": 117,
   "metadata": {},
   "outputs": [],
   "source": [
    "import glob\n",
    "import pandas as pd\n",
    "import re\n",
    "import ipywidgets as widgets\n",
    "from ipywidgets import Button, Layout, Box, VBox"
   ]
  },
  {
   "cell_type": "code",
   "execution_count": 118,
   "metadata": {},
   "outputs": [],
   "source": [
    "diretorio_planilhas = \"C:\\\\Users\\\\anton\\OneDrive - Casa Jares\\\\Projeto_BI_Ciencia_Dados\\\\Projeto_Leitura_Documentos\\\\planilhas\"\n",
    "passo02 = pd.read_excel(f\"{diretorio_planilhas}\\\\acordaos02.xlsx\")\n",
    "passo03 = pd.read_excel(f\"{diretorio_planilhas}\\\\acordaos03.xlsx\")\n",
    "comparar = pd.read_excel(f\"{diretorio_planilhas}\\\\comparar.xlsx\")"
   ]
  },
  {
   "cell_type": "code",
   "execution_count": 119,
   "metadata": {},
   "outputs": [
    {
     "data": {
      "text/html": [
       "<div>\n",
       "<style scoped>\n",
       "    .dataframe tbody tr th:only-of-type {\n",
       "        vertical-align: middle;\n",
       "    }\n",
       "\n",
       "    .dataframe tbody tr th {\n",
       "        vertical-align: top;\n",
       "    }\n",
       "\n",
       "    .dataframe thead th {\n",
       "        text-align: right;\n",
       "    }\n",
       "</style>\n",
       "<table border=\"1\" class=\"dataframe\">\n",
       "  <thead>\n",
       "    <tr style=\"text-align: right;\">\n",
       "      <th></th>\n",
       "      <th>indice</th>\n",
       "      <th>conteudo</th>\n",
       "    </tr>\n",
       "  </thead>\n",
       "  <tbody>\n",
       "    <tr>\n",
       "      <th>0</th>\n",
       "      <td>19</td>\n",
       "      <td>acórdão ne 176 feito \\t processo n 2 57091tce...</td>\n",
       "    </tr>\n",
       "    <tr>\n",
       "      <th>1</th>\n",
       "      <td>127</td>\n",
       "      <td>acórdão nº 7556 natureza do feito processo nº...</td>\n",
       "    </tr>\n",
       "    <tr>\n",
       "      <th>2</th>\n",
       "      <td>128</td>\n",
       "      <td>acórdão nº 7557 natureza do feito processo nº...</td>\n",
       "    </tr>\n",
       "    <tr>\n",
       "      <th>3</th>\n",
       "      <td>129</td>\n",
       "      <td>acórdão nº 7560 natureza do feito processo nº...</td>\n",
       "    </tr>\n",
       "    <tr>\n",
       "      <th>4</th>\n",
       "      <td>130</td>\n",
       "      <td>acórdão nº 7564 natureza do feito processo nº...</td>\n",
       "    </tr>\n",
       "  </tbody>\n",
       "</table>\n",
       "</div>"
      ],
      "text/plain": [
       "   indice                                           conteudo\n",
       "0      19   acórdão ne 176 feito \\t processo n 2 57091tce...\n",
       "1     127   acórdão nº 7556 natureza do feito processo nº...\n",
       "2     128   acórdão nº 7557 natureza do feito processo nº...\n",
       "3     129   acórdão nº 7560 natureza do feito processo nº...\n",
       "4     130   acórdão nº 7564 natureza do feito processo nº..."
      ]
     },
     "execution_count": 119,
     "metadata": {},
     "output_type": "execute_result"
    }
   ],
   "source": [
    "del passo02[\"Unnamed: 0\"]\n",
    "passo02 = passo02\n",
    "passo02.head()"
   ]
  },
  {
   "cell_type": "code",
   "execution_count": 120,
   "metadata": {},
   "outputs": [],
   "source": [
    "indices = passo02['indice']"
   ]
  },
  {
   "cell_type": "code",
   "execution_count": 121,
   "metadata": {},
   "outputs": [],
   "source": [
    "comparar['antes'] = passo02['conteudo']\n",
    "comparar['atual'] = passo03['conteudo']"
   ]
  },
  {
   "cell_type": "code",
   "execution_count": 122,
   "metadata": {},
   "outputs": [
    {
     "data": {
      "text/html": [
       "<div>\n",
       "<style scoped>\n",
       "    .dataframe tbody tr th:only-of-type {\n",
       "        vertical-align: middle;\n",
       "    }\n",
       "\n",
       "    .dataframe tbody tr th {\n",
       "        vertical-align: top;\n",
       "    }\n",
       "\n",
       "    .dataframe thead th {\n",
       "        text-align: right;\n",
       "    }\n",
       "</style>\n",
       "<table border=\"1\" class=\"dataframe\">\n",
       "  <thead>\n",
       "    <tr style=\"text-align: right;\">\n",
       "      <th></th>\n",
       "      <th>antes</th>\n",
       "      <th>atual</th>\n",
       "    </tr>\n",
       "  </thead>\n",
       "  <tbody>\n",
       "    <tr>\n",
       "      <th>0</th>\n",
       "      <td>acórdão ne 176 feito \\t processo n 2 57091tce...</td>\n",
       "      <td>acórdão ne 176 feito \\t processo n 2 57091tce...</td>\n",
       "    </tr>\n",
       "    <tr>\n",
       "      <th>1</th>\n",
       "      <td>acórdão nº 7556 natureza do feito processo nº...</td>\n",
       "      <td>acórdão nº 7556 natureza do feito processo nº...</td>\n",
       "    </tr>\n",
       "    <tr>\n",
       "      <th>2</th>\n",
       "      <td>acórdão nº 7557 natureza do feito processo nº...</td>\n",
       "      <td>acórdão nº 7557 natureza do feito processo nº...</td>\n",
       "    </tr>\n",
       "    <tr>\n",
       "      <th>3</th>\n",
       "      <td>acórdão nº 7560 natureza do feito processo nº...</td>\n",
       "      <td>acórdão nº 7560 natureza do feito processo nº...</td>\n",
       "    </tr>\n",
       "    <tr>\n",
       "      <th>4</th>\n",
       "      <td>acórdão nº 7564 natureza do feito processo nº...</td>\n",
       "      <td>acórdão nº 7564 natureza do feito processo nº...</td>\n",
       "    </tr>\n",
       "  </tbody>\n",
       "</table>\n",
       "</div>"
      ],
      "text/plain": [
       "                                               antes  \\\n",
       "0   acórdão ne 176 feito \\t processo n 2 57091tce...   \n",
       "1   acórdão nº 7556 natureza do feito processo nº...   \n",
       "2   acórdão nº 7557 natureza do feito processo nº...   \n",
       "3   acórdão nº 7560 natureza do feito processo nº...   \n",
       "4   acórdão nº 7564 natureza do feito processo nº...   \n",
       "\n",
       "                                               atual  \n",
       "0   acórdão ne 176 feito \\t processo n 2 57091tce...  \n",
       "1   acórdão nº 7556 natureza do feito processo nº...  \n",
       "2   acórdão nº 7557 natureza do feito processo nº...  \n",
       "3   acórdão nº 7560 natureza do feito processo nº...  \n",
       "4   acórdão nº 7564 natureza do feito processo nº...  "
      ]
     },
     "execution_count": 122,
     "metadata": {},
     "output_type": "execute_result"
    }
   ],
   "source": [
    "comparar.head()"
   ]
  },
  {
   "cell_type": "markdown",
   "metadata": {},
   "source": [
    "# Criando formulario para imprimir lado a lado"
   ]
  },
  {
   "cell_type": "code",
   "execution_count": 123,
   "metadata": {},
   "outputs": [
    {
     "data": {
      "text/plain": [
       "' acórdão ne 176 feito \\t processo n 2 57091tceacre relator \\t conselheiro marciliano reis fleming voto vencedor conselheiro isnard bastos barbosa leite assunto \\t contratos de prestação de serviços firmados en tre a secretaria de transportes e obras públi cas e as firmas azevedo auditores associados e f m barroso contrato de prestação de serviços túcnicos entre a secretaria de transportes e obras públicas e as firmas azevedo auditores associa dos e f m barroso objetivando a execução de serviços tecnicos especializados considerados irregu lares os contratos de n 2 01 e 0790 vistos relatados e discutidos os autos do processo n 2 57091 acima indicado acordamos membros do tribunal de contas do estado do acre por maioria acolher o voto vencedor do conselheiro isnard bastos barbosa leite para considerar irregulares contratos de n 2 01 e 0790 em análise firmados na gestão do engenheiro civil ricardo fileira eluan então secretario de estado \\tde transportes e obras públicas comuncandose esta decisão aos chefes dos poderes executivo e le oamuivos respectivamente vencido o conse lheiro relator acompanhado do conselheiro alcides dutra de lima que votaram pela notificação do titular da secretaria para sanar as irregularidades cumpridas as exigencias do decretolei n 2 230086 e da lei n 2 432064 o conselheiro helio saraiva de freitas votou no sentido de considerar nulos os contratos por descumprimento das formalidades legais e pela notificação dos responsáveis para no prazo de trinta 30 dias devolver aos cofres públicos os recursos indevida mente pagos corrigidos concedido igual prazo para defesa querendo sala das sessões do tribunal de contas do rio branco 02041992 cons josé euge o de leão braga p re si clente '"
      ]
     },
     "execution_count": 123,
     "metadata": {},
     "output_type": "execute_result"
    }
   ],
   "source": [
    "comparar['antes'][0]"
   ]
  },
  {
   "cell_type": "code",
   "execution_count": 124,
   "metadata": {},
   "outputs": [
    {
     "data": {
      "application/vnd.jupyter.widget-view+json": {
       "model_id": "06492f1373384391b3ec80bcd3967798",
       "version_major": 2,
       "version_minor": 0
      },
      "text/plain": [
       "GridBox(children=(VBox(children=(Button(description='ANTERIOR', layout=Layout(align_items='stretch', border_bo…"
      ]
     },
     "execution_count": 124,
     "metadata": {},
     "output_type": "execute_result"
    }
   ],
   "source": [
    "from ipywidgets import Button, HBox, VBox, GridBox, ButtonStyle\n",
    "indice = 2\n",
    "titulo_anterior = Button(description='ANTERIOR',\n",
    "                        layout=Layout(display='flex',\n",
    "                        flex_flow='column',\n",
    "                        align_items='stretch',\n",
    "                        border='solid', \n",
    "                        width='auto',\n",
    "                        height='auto'))\n",
    "titulo_anterior.style.button_color = 'Orange'\n",
    "titulo_atual    = Button(description='ATUAL',\n",
    "                        layout=Layout(display='flex',\n",
    "                        flex_flow='column',\n",
    "                        align_items='stretch',\n",
    "                        border='solid', \n",
    "                        width='auto',\n",
    "                        height='auto'))\n",
    "titulo_atual.style.button_color = 'Orange'\n",
    "\n",
    "\n",
    "\n",
    "texto_anterior = Button(description=comparar['antes'][indice],\n",
    "                        layout=Layout(display='flex',\n",
    "                        flex_flow='column',\n",
    "                        align_items='stretch',\n",
    "                        border='solid', \n",
    "                        width='auto',\n",
    "                        height='auto'))\n",
    "texto_anterior.style.button_color = 'FloralWhite'\n",
    "\n",
    "texto_atual    = Button(description=comparar['atual'][indice],\n",
    "                        layout=Layout(display='flex',\n",
    "                        flex_flow='column',\n",
    "                        align_items='stretch',\n",
    "                        border='solid', \n",
    "                        width='auto',\n",
    "                        height='auto'))\n",
    "texto_atual.style.button_color = 'FloralWhite'\n",
    "\n",
    "coluna01 = VBox([titulo_anterior,texto_anterior])\n",
    "coluna02 = VBox([titulo_atual,texto_atual])\n",
    "\n",
    "\n",
    "\n",
    "GridBox(children=[coluna01,coluna02],\n",
    "        layout=Layout(\n",
    "            width='100%',\n",
    "            grid_template_columns='400px 400px',\n",
    "            grid_template_rows='auto auto',\n",
    "            grid_gap='10px 5px')\n",
    "       )\n",
    "\n"
   ]
  }
 ],
 "metadata": {
  "kernelspec": {
   "display_name": "estudo",
   "language": "python",
   "name": "python3"
  },
  "language_info": {
   "codemirror_mode": {
    "name": "ipython",
    "version": 3
   },
   "file_extension": ".py",
   "mimetype": "text/x-python",
   "name": "python",
   "nbconvert_exporter": "python",
   "pygments_lexer": "ipython3",
   "version": "3.11.5"
  }
 },
 "nbformat": 4,
 "nbformat_minor": 2
}
