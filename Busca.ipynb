{
 "cells": [
  {
   "cell_type": "markdown",
   "metadata": {},
   "source": [
    "# A\\) Etapas do Pré - Processamento\n",
    "## 5) Fazer funções para a equipe fazer concultas e apontar alterações a serem feitas pelos programadores "
   ]
  },
  {
   "cell_type": "code",
   "execution_count": null,
   "metadata": {},
   "outputs": [],
   "source": [
    "import glob\n",
    "import pandas as pd\n",
    "import re"
   ]
  },
  {
   "cell_type": "code",
   "execution_count": null,
   "metadata": {},
   "outputs": [],
   "source": [
    "diretorio_planilhas = \"C:\\\\Users\\\\anton\\OneDrive - Casa Jares\\\\Projeto_BI_Ciencia_Dados\\\\Projeto_Leitura_Documentos\\\\planilhas\"\n",
    "passo02 = pd.read_csv(f\"{diretorio_planilhas}\\\\acordaos02.csv\")\n"
   ]
  },
  {
   "cell_type": "code",
   "execution_count": null,
   "metadata": {},
   "outputs": [],
   "source": [
    "del passo02[\"Unnamed: 0\"]\n",
    "passo02 = passo02\n",
    "passo02.head()"
   ]
  },
  {
   "cell_type": "code",
   "execution_count": null,
   "metadata": {},
   "outputs": [],
   "source": [
    "numeros01 = {'1','2','3'}\n",
    "numeros02 = {'7','8','9'}\n",
    "numeros01 = numeros01.union(numeros02)\n",
    "numeros01"
   ]
  },
  {
   "cell_type": "markdown",
   "metadata": {},
   "source": [
    "# Faz busca com Expressão Regular e retorna todas as situações de forma única"
   ]
  },
  {
   "cell_type": "code",
   "execution_count": null,
   "metadata": {},
   "outputs": [],
   "source": [
    "def Retorna_Todas_Situacoes(expressao,campo):\n",
    "    resultado = set([])\n",
    "    for acordao in campo:\n",
    "        resultado = resultado.union(set(re.findall(expressao,acordao)))\n",
    "    return resultado"
   ]
  },
  {
   "cell_type": "code",
   "execution_count": 282,
   "metadata": {},
   "outputs": [
    {
     "data": {
      "text/plain": [
       "{' acórdão n 1',\n",
       " ' acórdão n 2',\n",
       " ' acórdão n 5',\n",
       " ' acórdão n 6',\n",
       " ' acórdão n 7',\n",
       " ' acórdão n 8',\n",
       " ' acórdão n 9',\n",
       " ' acórdão n º',\n",
       " ' acórdão n10',\n",
       " ' acórdão ne ',\n",
       " ' acórdão not',\n",
       " ' acórdão nª ',\n",
       " ' acórdão nº ',\n",
       " ' acórdão nº1',\n",
       " ' acórdão nº9'}"
      ]
     },
     "execution_count": 282,
     "metadata": {},
     "output_type": "execute_result"
    }
   ],
   "source": [
    "resultado = Retorna_Todas_Situacoes(r' acórdão n..',passo02['conteudo'])\n",
    "resultado"
   ]
  }
 ],
 "metadata": {
  "kernelspec": {
   "display_name": "estudo",
   "language": "python",
   "name": "python3"
  },
  "language_info": {
   "codemirror_mode": {
    "name": "ipython",
    "version": 3
   },
   "file_extension": ".py",
   "mimetype": "text/x-python",
   "name": "python",
   "nbconvert_exporter": "python",
   "pygments_lexer": "ipython3",
   "version": "3.11.5"
  }
 },
 "nbformat": 4,
 "nbformat_minor": 2
}
