{
 "cells": [
  {
   "cell_type": "markdown",
   "metadata": {},
   "source": [
    "# A\\) Etapas do Pré - Processamento\n",
    "## 5) Fazer funções para a equipe fazer concultas e apontar alterações a serem feitas pelos programadores "
   ]
  },
  {
   "cell_type": "code",
   "execution_count": 22,
   "metadata": {},
   "outputs": [],
   "source": [
    "import glob\n",
    "import pandas as pd\n",
    "import re\n",
    "import ipywidgets as widgets\n",
    "from ipywidgets import Button, Layout, Box, VBox"
   ]
  },
  {
   "cell_type": "code",
   "execution_count": 23,
   "metadata": {},
   "outputs": [],
   "source": [
    "diretorio_planilhas = \"C:\\\\Users\\\\anton\\OneDrive - Casa Jares\\\\Projeto_BI_Ciencia_Dados\\\\Projeto_Leitura_Documentos\\\\planilhas\"\n",
    "passo02 = pd.read_excel(f\"{diretorio_planilhas}\\\\acordaos02.xlsx\")\n",
    "passo03 = pd.read_excel(f\"{diretorio_planilhas}\\\\acordaos03.xlsx\")\n",
    "comparar = pd.read_excel(f\"{diretorio_planilhas}\\\\comparar.xlsx\")"
   ]
  },
  {
   "cell_type": "code",
   "execution_count": 24,
   "metadata": {},
   "outputs": [
    {
     "data": {
      "text/html": [
       "<div>\n",
       "<style scoped>\n",
       "    .dataframe tbody tr th:only-of-type {\n",
       "        vertical-align: middle;\n",
       "    }\n",
       "\n",
       "    .dataframe tbody tr th {\n",
       "        vertical-align: top;\n",
       "    }\n",
       "\n",
       "    .dataframe thead th {\n",
       "        text-align: right;\n",
       "    }\n",
       "</style>\n",
       "<table border=\"1\" class=\"dataframe\">\n",
       "  <thead>\n",
       "    <tr style=\"text-align: right;\">\n",
       "      <th></th>\n",
       "      <th>Unnamed: 0</th>\n",
       "      <th>indice</th>\n",
       "      <th>conteudo</th>\n",
       "      <th>conteudo_atualizado</th>\n",
       "    </tr>\n",
       "  </thead>\n",
       "  <tbody>\n",
       "    <tr>\n",
       "      <th>0</th>\n",
       "      <td>0</td>\n",
       "      <td>19</td>\n",
       "      <td>stado do Acre.  \\nACÓRDÃO Ne 176 \\nFeito \\t : ...</td>\n",
       "      <td>acórdão nº 176 feito \\t processo n 2 57091tce...</td>\n",
       "    </tr>\n",
       "    <tr>\n",
       "      <th>1</th>\n",
       "      <td>1</td>\n",
       "      <td>127</td>\n",
       "      <td>Tribunal de Contas do Estado do Acre\\nSecretar...</td>\n",
       "      <td>acórdão nº 7556 natureza do feito processo nº...</td>\n",
       "    </tr>\n",
       "    <tr>\n",
       "      <th>2</th>\n",
       "      <td>2</td>\n",
       "      <td>128</td>\n",
       "      <td>Tribunal de Contas do Estado do Acre\\nSecretar...</td>\n",
       "      <td>acórdão nº 7557 natureza do feito processo nº...</td>\n",
       "    </tr>\n",
       "    <tr>\n",
       "      <th>3</th>\n",
       "      <td>3</td>\n",
       "      <td>129</td>\n",
       "      <td>Tribunal de Contas do Estado do Acre\\nSecretar...</td>\n",
       "      <td>acórdão nº 7560 natureza do feito processo nº...</td>\n",
       "    </tr>\n",
       "    <tr>\n",
       "      <th>4</th>\n",
       "      <td>4</td>\n",
       "      <td>130</td>\n",
       "      <td>Tribunal de Contas do Estado do Acre\\nSecretar...</td>\n",
       "      <td>acórdão nº 7564 natureza do feito processo nº...</td>\n",
       "    </tr>\n",
       "  </tbody>\n",
       "</table>\n",
       "</div>"
      ],
      "text/plain": [
       "   Unnamed: 0  indice                                           conteudo  \\\n",
       "0           0      19  stado do Acre.  \\nACÓRDÃO Ne 176 \\nFeito \\t : ...   \n",
       "1           1     127  Tribunal de Contas do Estado do Acre\\nSecretar...   \n",
       "2           2     128  Tribunal de Contas do Estado do Acre\\nSecretar...   \n",
       "3           3     129  Tribunal de Contas do Estado do Acre\\nSecretar...   \n",
       "4           4     130  Tribunal de Contas do Estado do Acre\\nSecretar...   \n",
       "\n",
       "                                 conteudo_atualizado  \n",
       "0   acórdão nº 176 feito \\t processo n 2 57091tce...  \n",
       "1   acórdão nº 7556 natureza do feito processo nº...  \n",
       "2   acórdão nº 7557 natureza do feito processo nº...  \n",
       "3   acórdão nº 7560 natureza do feito processo nº...  \n",
       "4   acórdão nº 7564 natureza do feito processo nº...  "
      ]
     },
     "execution_count": 24,
     "metadata": {},
     "output_type": "execute_result"
    }
   ],
   "source": [
    "passo02.head()"
   ]
  },
  {
   "cell_type": "code",
   "execution_count": 20,
   "metadata": {},
   "outputs": [
    {
     "data": {
      "text/html": [
       "<div>\n",
       "<style scoped>\n",
       "    .dataframe tbody tr th:only-of-type {\n",
       "        vertical-align: middle;\n",
       "    }\n",
       "\n",
       "    .dataframe tbody tr th {\n",
       "        vertical-align: top;\n",
       "    }\n",
       "\n",
       "    .dataframe thead th {\n",
       "        text-align: right;\n",
       "    }\n",
       "</style>\n",
       "<table border=\"1\" class=\"dataframe\">\n",
       "  <thead>\n",
       "    <tr style=\"text-align: right;\">\n",
       "      <th></th>\n",
       "      <th>indice</th>\n",
       "      <th>conteudo</th>\n",
       "      <th>conteudo_atualizado</th>\n",
       "    </tr>\n",
       "  </thead>\n",
       "  <tbody>\n",
       "    <tr>\n",
       "      <th>0</th>\n",
       "      <td>19</td>\n",
       "      <td>stado do Acre.  \\nACÓRDÃO Ne 176 \\nFeito \\t : ...</td>\n",
       "      <td>acórdão nº 176 feito \\t processo n 2 57091tce...</td>\n",
       "    </tr>\n",
       "    <tr>\n",
       "      <th>1</th>\n",
       "      <td>127</td>\n",
       "      <td>Tribunal de Contas do Estado do Acre\\nSecretar...</td>\n",
       "      <td>acórdão nº 7556 natureza do feito processo nº...</td>\n",
       "    </tr>\n",
       "    <tr>\n",
       "      <th>2</th>\n",
       "      <td>128</td>\n",
       "      <td>Tribunal de Contas do Estado do Acre\\nSecretar...</td>\n",
       "      <td>acórdão nº 7557 natureza do feito processo nº...</td>\n",
       "    </tr>\n",
       "    <tr>\n",
       "      <th>3</th>\n",
       "      <td>129</td>\n",
       "      <td>Tribunal de Contas do Estado do Acre\\nSecretar...</td>\n",
       "      <td>acórdão nº 7560 natureza do feito processo nº...</td>\n",
       "    </tr>\n",
       "    <tr>\n",
       "      <th>4</th>\n",
       "      <td>130</td>\n",
       "      <td>Tribunal de Contas do Estado do Acre\\nSecretar...</td>\n",
       "      <td>acórdão nº 7564 natureza do feito processo nº...</td>\n",
       "    </tr>\n",
       "  </tbody>\n",
       "</table>\n",
       "</div>"
      ],
      "text/plain": [
       "   indice                                           conteudo  \\\n",
       "0      19  stado do Acre.  \\nACÓRDÃO Ne 176 \\nFeito \\t : ...   \n",
       "1     127  Tribunal de Contas do Estado do Acre\\nSecretar...   \n",
       "2     128  Tribunal de Contas do Estado do Acre\\nSecretar...   \n",
       "3     129  Tribunal de Contas do Estado do Acre\\nSecretar...   \n",
       "4     130  Tribunal de Contas do Estado do Acre\\nSecretar...   \n",
       "\n",
       "                                 conteudo_atualizado  \n",
       "0   acórdão nº 176 feito \\t processo n 2 57091tce...  \n",
       "1   acórdão nº 7556 natureza do feito processo nº...  \n",
       "2   acórdão nº 7557 natureza do feito processo nº...  \n",
       "3   acórdão nº 7560 natureza do feito processo nº...  \n",
       "4   acórdão nº 7564 natureza do feito processo nº...  "
      ]
     },
     "execution_count": 20,
     "metadata": {},
     "output_type": "execute_result"
    }
   ],
   "source": [
    "del passo02[\"Unnamed: 0\"]\n",
    "passo02 = passo02\n",
    "passo02.head()"
   ]
  },
  {
   "cell_type": "code",
   "execution_count": 21,
   "metadata": {},
   "outputs": [
    {
     "ename": "NameError",
     "evalue": "name 'passo03' is not defined",
     "output_type": "error",
     "traceback": [
      "\u001b[1;31m---------------------------------------------------------------------------\u001b[0m",
      "\u001b[1;31mNameError\u001b[0m                                 Traceback (most recent call last)",
      "\u001b[1;32mc:\\Users\\anton\\OneDrive - Casa Jares\\Projeto_BI_Ciencia_Dados\\Projeto_Leitura_Documentos\\Busca.ipynb Cell 6\u001b[0m line \u001b[0;36m2\n\u001b[0;32m      <a href='vscode-notebook-cell:/c%3A/Users/anton/OneDrive%20-%20Casa%20Jares/Projeto_BI_Ciencia_Dados/Projeto_Leitura_Documentos/Busca.ipynb#W5sZmlsZQ%3D%3D?line=0'>1</a>\u001b[0m comparar[\u001b[39m'\u001b[39m\u001b[39mantes\u001b[39m\u001b[39m'\u001b[39m] \u001b[39m=\u001b[39m passo02[\u001b[39m'\u001b[39m\u001b[39mconteudo\u001b[39m\u001b[39m'\u001b[39m]\n\u001b[1;32m----> <a href='vscode-notebook-cell:/c%3A/Users/anton/OneDrive%20-%20Casa%20Jares/Projeto_BI_Ciencia_Dados/Projeto_Leitura_Documentos/Busca.ipynb#W5sZmlsZQ%3D%3D?line=1'>2</a>\u001b[0m comparar[\u001b[39m'\u001b[39m\u001b[39matual\u001b[39m\u001b[39m'\u001b[39m] \u001b[39m=\u001b[39m passo03[\u001b[39m'\u001b[39m\u001b[39mconteudo\u001b[39m\u001b[39m'\u001b[39m]\n",
      "\u001b[1;31mNameError\u001b[0m: name 'passo03' is not defined"
     ]
    }
   ],
   "source": [
    "comparar['antes'] = passo02['conteudo']\n",
    "comparar['atual'] = passo03['conteudo']"
   ]
  },
  {
   "cell_type": "code",
   "execution_count": null,
   "metadata": {},
   "outputs": [],
   "source": [
    "comparar.head()"
   ]
  },
  {
   "cell_type": "markdown",
   "metadata": {},
   "source": [
    "# Criando formulario para imprimir lado a lado"
   ]
  },
  {
   "cell_type": "code",
   "execution_count": null,
   "metadata": {},
   "outputs": [],
   "source": [
    "header = Button(description='Header',\n",
    "                layout= Layout(width='auto', grid_area='header'),\n",
    "                style= ButtonStyle(button_color='lighblue'))\n",
    "\n",
    "\n",
    "widgets.GridBox(children=[header, main, sidebar, footer], \n",
    "    layout=Layout(\n",
    "    width='50%',\n",
    "    grid_template_rows = 'auto auto auto',\n",
    "    grid_template_columns = '25% 25% 25% 25%',\n",
    "    grid_template_areas = ''' \n",
    "    \"header header header header\"\n",
    "    \"main main . sidebar\" \n",
    "    \"footer footer footer footer\"\n",
    "    '''\n",
    "))"
   ]
  },
  {
   "cell_type": "markdown",
   "metadata": {},
   "source": [
    "# Lendo os indices existentes"
   ]
  },
  {
   "cell_type": "code",
   "execution_count": null,
   "metadata": {},
   "outputs": [],
   "source": [
    "indices = []\n",
    "indices = acordaos.index\n",
    "indices[1]"
   ]
  },
  {
   "cell_type": "code",
   "execution_count": null,
   "metadata": {},
   "outputs": [],
   "source": [
    "def retorna_conteudo(lista,indice):\n",
    "  return lista.conteudo[indice]"
   ]
  },
  {
   "cell_type": "code",
   "execution_count": null,
   "metadata": {},
   "outputs": [],
   "source": [
    "retorna_conteudo(acordaos,2)"
   ]
  }
 ],
 "metadata": {
  "kernelspec": {
   "display_name": "estudo",
   "language": "python",
   "name": "python3"
  },
  "language_info": {
   "codemirror_mode": {
    "name": "ipython",
    "version": 3
   },
   "file_extension": ".py",
   "mimetype": "text/x-python",
   "name": "python",
   "nbconvert_exporter": "python",
   "pygments_lexer": "ipython3",
   "version": "3.11.5"
  }
 },
 "nbformat": 4,
 "nbformat_minor": 2
}
