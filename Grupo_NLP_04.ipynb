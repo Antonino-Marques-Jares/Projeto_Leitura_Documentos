{
 "cells": [
  {
   "cell_type": "markdown",
   "id": "18d2ff4d",
   "metadata": {},
   "source": [
    "# Pré - Processamento\n",
    "## Vamos ler os pdfs e colocar em uma Planilha Excell inicial"
   ]
  },
  {
   "cell_type": "code",
   "execution_count": 77,
   "id": "59ea916e",
   "metadata": {},
   "outputs": [],
   "source": [
    "import glob\n",
    "import pandas as pd\n",
    "import re\n",
    "from pypdf import PdfReader\n",
    "import time"
   ]
  },
  {
   "cell_type": "markdown",
   "id": "dad74eab",
   "metadata": {},
   "source": [
    "# Continuando a partir do acordao03"
   ]
  },
  {
   "cell_type": "code",
   "execution_count": 78,
   "id": "410ab41f",
   "metadata": {},
   "outputs": [
    {
     "data": {
      "text/html": [
       "<div>\n",
       "<style scoped>\n",
       "    .dataframe tbody tr th:only-of-type {\n",
       "        vertical-align: middle;\n",
       "    }\n",
       "\n",
       "    .dataframe tbody tr th {\n",
       "        vertical-align: top;\n",
       "    }\n",
       "\n",
       "    .dataframe thead th {\n",
       "        text-align: right;\n",
       "    }\n",
       "</style>\n",
       "<table border=\"1\" class=\"dataframe\">\n",
       "  <thead>\n",
       "    <tr style=\"text-align: right;\">\n",
       "      <th></th>\n",
       "      <th>Unnamed: 0</th>\n",
       "      <th>acordao</th>\n",
       "      <th>conteudo</th>\n",
       "    </tr>\n",
       "  </thead>\n",
       "  <tbody>\n",
       "    <tr>\n",
       "      <th>0</th>\n",
       "      <td>0</td>\n",
       "      <td>20</td>\n",
       "      <td>acórdão nº 176 feito \\t processo n 2 57091tcea...</td>\n",
       "    </tr>\n",
       "    <tr>\n",
       "      <th>1</th>\n",
       "      <td>1</td>\n",
       "      <td>128</td>\n",
       "      <td>acórdão nº 7556 natureza do feito processo nº ...</td>\n",
       "    </tr>\n",
       "    <tr>\n",
       "      <th>2</th>\n",
       "      <td>2</td>\n",
       "      <td>129</td>\n",
       "      <td>acórdão nº 7557 natureza do feito processo nº ...</td>\n",
       "    </tr>\n",
       "    <tr>\n",
       "      <th>3</th>\n",
       "      <td>3</td>\n",
       "      <td>130</td>\n",
       "      <td>acórdão nº 7560 natureza do feito processo nº ...</td>\n",
       "    </tr>\n",
       "    <tr>\n",
       "      <th>4</th>\n",
       "      <td>4</td>\n",
       "      <td>131</td>\n",
       "      <td>acórdão nº 7564 natureza do feito processo nº ...</td>\n",
       "    </tr>\n",
       "  </tbody>\n",
       "</table>\n",
       "</div>"
      ],
      "text/plain": [
       "   Unnamed: 0  acordao                                           conteudo\n",
       "0           0       20  acórdão nº 176 feito \\t processo n 2 57091tcea...\n",
       "1           1      128  acórdão nº 7556 natureza do feito processo nº ...\n",
       "2           2      129  acórdão nº 7557 natureza do feito processo nº ...\n",
       "3           3      130  acórdão nº 7560 natureza do feito processo nº ...\n",
       "4           4      131  acórdão nº 7564 natureza do feito processo nº ..."
      ]
     },
     "execution_count": 78,
     "metadata": {},
     "output_type": "execute_result"
    }
   ],
   "source": [
    "passo04 = pd.read_excel(r\"C:\\Users\\anton\\OneDrive\\Documentos\\dados_projeto\\dados_grup_nlp\\acordaos04.xlsx\")\n",
    "passo04.head()"
   ]
  },
  {
   "cell_type": "code",
   "execution_count": 79,
   "id": "40861607",
   "metadata": {},
   "outputs": [],
   "source": [
    "del passo04[\"Unnamed: 0\"]"
   ]
  },
  {
   "cell_type": "code",
   "execution_count": 80,
   "id": "a8548f50",
   "metadata": {},
   "outputs": [],
   "source": [
    "def substituir(texto_original,novo_texto,regex):\n",
    "    if type(texto_original) == str:\n",
    "        return regex.sub(novo_texto,texto_original)\n",
    "    else:\n",
    "        return[regex.sub(novo_texto,texto) for texto in textos]"
   ]
  },
  {
   "cell_type": "code",
   "execution_count": 81,
   "id": "2e59dff9",
   "metadata": {},
   "outputs": [],
   "source": [
    "def quantidade_ocorrencias(tabela, expressao_regular_a_procurar):\n",
    "    resultado = []\n",
    "    for i in tabela.index:\n",
    "        previa = re.findall(expressao_regular_a_procurar,tabela.conteudo[i])\n",
    "        if previa != []:\n",
    "            resultado = resultado + previa\n",
    "    return len(resultado)"
   ]
  },
  {
   "cell_type": "code",
   "execution_count": 82,
   "id": "01dac587",
   "metadata": {},
   "outputs": [],
   "source": [
    "def tipo_de_situacoes(tabela,expressao_regular_a_procurar):\n",
    "    resultado = []\n",
    "    for i in tabela.index:\n",
    "        previa = re.findall(expressao_regular_a_procurar,tabela.conteudo[i])\n",
    "        if previa != []:\n",
    "            resultado.append([i,previa])\n",
    "    return resultado"
   ]
  },
  {
   "cell_type": "code",
   "execution_count": 83,
   "id": "f98817e6",
   "metadata": {},
   "outputs": [],
   "source": [
    "def indice_que_encontrou(tabela,expressao_regular_a_procurar):\n",
    "    resultado = []\n",
    "    for i in tabela.index:\n",
    "        previa = re.findall(expressao_regular_a_procurar,tabela.conteudo[i])\n",
    "        if previa != []:\n",
    "            resultado.append(i)\n",
    "    return resultado"
   ]
  },
  {
   "cell_type": "markdown",
   "id": "65b79646",
   "metadata": {},
   "source": [
    "# Continuar do Grupo MPL 04"
   ]
  },
  {
   "cell_type": "code",
   "execution_count": 84,
   "id": "eb2bd884",
   "metadata": {},
   "outputs": [
    {
     "data": {
      "text/plain": [
       "[]"
      ]
     },
     "execution_count": 84,
     "metadata": {},
     "output_type": "execute_result"
    }
   ],
   "source": [
    "tipo_de_situacoes(passo04,'^(.*)( acórdão nº{1})')"
   ]
  },
  {
   "cell_type": "code",
   "execution_count": null,
   "id": "28b2b946",
   "metadata": {},
   "outputs": [],
   "source": []
  },
  {
   "cell_type": "code",
   "execution_count": 85,
   "id": "f2d61b4c",
   "metadata": {
    "scrolled": false
   },
   "outputs": [
    {
     "name": "stdout",
     "output_type": "stream",
     "text": [
      "acórdão nº 73732011 suprimindo as irregularidades mencionadas nas alíneas e e f mantendose as falhas contidas nas alíneas a b c e d da decisão recorrida considerando assim regular com ressalvas a prestação de contas do gabinete militar do estado do acre referente ao exercício de 2005 de responsabilidade do senhor ivan etelvino dos santos chefe de gabinete à época valendo como ressalvas as impropriedades que permaneceram inalteradas e 2 tornar sem efeito a determinação para abertura de tomada de contas por se referir aos itens saneados constante do item 3 do acórdão recorrido após as formalidades de estilo pelo arquivamento dos autos ausente justificadamente as excelentíssimas senhoras conselheiras dulcinéa benício de araújo e naluh maria lima gouveia dos santos rio branco 22082013 conselheiro valmir gomes ribeiro presidente do tceac conselheiro antônio jorge malheiro relator fui presente\n"
     ]
    }
   ],
   "source": [
    "indice = 204\n",
    "print(passo04.conteudo[indice])"
   ]
  },
  {
   "cell_type": "code",
   "execution_count": null,
   "id": "f99e14a7",
   "metadata": {},
   "outputs": [],
   "source": []
  },
  {
   "cell_type": "code",
   "execution_count": null,
   "id": "faaf5351",
   "metadata": {},
   "outputs": [],
   "source": []
  }
 ],
 "metadata": {
  "kernelspec": {
   "display_name": "Python 3 (ipykernel)",
   "language": "python",
   "name": "python3"
  },
  "language_info": {
   "codemirror_mode": {
    "name": "ipython",
    "version": 3
   },
   "file_extension": ".py",
   "mimetype": "text/x-python",
   "name": "python",
   "nbconvert_exporter": "python",
   "pygments_lexer": "ipython3",
   "version": "3.11.5"
  }
 },
 "nbformat": 4,
 "nbformat_minor": 5
}
