{
 "cells": [
  {
   "cell_type": "code",
   "execution_count": null,
   "metadata": {},
   "outputs": [],
   "source": [
    "import pandas as pd\n",
    "import re\n",
    "import ipywidgets as widgets\n",
    "from ipywidgets import Button, Layout, Box, VBox"
   ]
  },
  {
   "cell_type": "markdown",
   "metadata": {},
   "source": [
    "# Criando formulario para imprimir lado a lado"
   ]
  },
  {
   "cell_type": "code",
   "execution_count": null,
   "metadata": {},
   "outputs": [],
   "source": [
    "from ipywidgets import Button, HBox, VBox, GridBox, ButtonStyle\n",
    "indice = 2\n",
    "titulo_anterior = Button(description='ANTERIOR',\n",
    "                        layout=Layout(display='flex',\n",
    "                        flex_flow='column',\n",
    "                        align_items='stretch',\n",
    "                        border='solid', \n",
    "                        width='auto',\n",
    "                        height='auto'))\n",
    "titulo_anterior.style.button_color = 'Orange'\n",
    "titulo_atual    = Button(description='ATUAL',\n",
    "                        layout=Layout(display='flex',\n",
    "                        flex_flow='column',\n",
    "                        align_items='stretch',\n",
    "                        border='solid', \n",
    "                        width='auto',\n",
    "                        height='auto'))\n",
    "titulo_atual.style.button_color = 'Orange'\n",
    "\n",
    "\n",
    "\n",
    "texto_anterior = Button(description=comparar['antes'][indice],\n",
    "                        layout=Layout(display='flex',\n",
    "                        flex_flow='column',\n",
    "                        align_items='stretch',\n",
    "                        border='solid', \n",
    "                        width='auto',\n",
    "                        height='auto'))\n",
    "texto_anterior.style.button_color = 'FloralWhite'\n",
    "\n",
    "texto_atual    = Button(description=comparar['atual'][indice],\n",
    "                        layout=Layout(display='flex',\n",
    "                        flex_flow='column',\n",
    "                        align_items='stretch',\n",
    "                        border='solid', \n",
    "                        width='auto',\n",
    "                        height='auto'))\n",
    "texto_atual.style.button_color = 'FloralWhite'\n",
    "\n",
    "coluna01 = VBox([titulo_anterior,texto_anterior])\n",
    "coluna02 = VBox([titulo_atual,texto_atual])\n",
    "\n",
    "\n",
    "\n",
    "GridBox(children=[coluna01,coluna02],\n",
    "        layout=Layout(\n",
    "            width='100%',\n",
    "            grid_template_columns='400px 400px',\n",
    "            grid_template_rows='auto auto',\n",
    "            grid_gap='10px 5px')\n",
    "       )"
   ]
  }
 ],
 "metadata": {
  "language_info": {
   "name": "python"
  }
 },
 "nbformat": 4,
 "nbformat_minor": 2
}
