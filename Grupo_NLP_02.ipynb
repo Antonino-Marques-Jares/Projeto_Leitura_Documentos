{
 "cells": [
  {
   "cell_type": "markdown",
   "id": "18d2ff4d",
   "metadata": {},
   "source": [
    "# A\\) Etapas do Pré - Processamento\n",
    "## 2) Fazer a leitura do xls que foi criado na etapa anterior e retirar NAN'S\n",
    "## 3\\) Fazer a leitura do xls anterior e retirar texto inicial e final que não será objeto do estudo\n",
    "\n",
    "> \n",
    ">Utilizaremos programação Python com biblioteca PANDAS e Expressão Regular\n",
    "> "
   ]
  },
  {
   "cell_type": "code",
   "execution_count": 1,
   "id": "59ea916e",
   "metadata": {},
   "outputs": [],
   "source": [
    "import glob\n",
    "import pandas as pd\n",
    "import re\n",
    "from pypdf import PdfReader"
   ]
  },
  {
   "cell_type": "code",
   "execution_count": 2,
   "id": "07f57c91",
   "metadata": {},
   "outputs": [],
   "source": [
    "diretorio_planilhas = \"C:\\\\DataSets\\\\Projeto_Leitura_Documentos\\\\planilhas\""
   ]
  },
  {
   "cell_type": "code",
   "execution_count": 3,
   "id": "27395474",
   "metadata": {},
   "outputs": [],
   "source": [
    "def substituir(texto_atual,texto_novo,regex):\n",
    "    return regex.sub(texto_novo,texto_atual)\n"
   ]
  },
  {
   "cell_type": "code",
   "execution_count": 4,
   "id": "ea4e7ab9",
   "metadata": {},
   "outputs": [],
   "source": [
    "import regex\n",
    "\n",
    "def retorna_data(texto):\n",
    "    return regex.search(\"rio branco  ([0-9][0-9]-[0-9][0-9]-[0-9][0-9][0-9][0-9])\",texto).group(1)\n"
   ]
  },
  {
   "cell_type": "markdown",
   "id": "dad74eab",
   "metadata": {},
   "source": [
    "# Continuando a partir do acordao 01"
   ]
  },
  {
   "cell_type": "markdown",
   "id": "4b9e2dad",
   "metadata": {},
   "source": [
    "# Apagando coluna 'Unnamed: 0'"
   ]
  },
  {
   "cell_type": "code",
   "execution_count": 5,
   "id": "71c75bf2",
   "metadata": {},
   "outputs": [
    {
     "data": {
      "text/html": [
       "<div>\n",
       "<style scoped>\n",
       "    .dataframe tbody tr th:only-of-type {\n",
       "        vertical-align: middle;\n",
       "    }\n",
       "\n",
       "    .dataframe tbody tr th {\n",
       "        vertical-align: top;\n",
       "    }\n",
       "\n",
       "    .dataframe thead th {\n",
       "        text-align: right;\n",
       "    }\n",
       "</style>\n",
       "<table border=\"1\" class=\"dataframe\">\n",
       "  <thead>\n",
       "    <tr style=\"text-align: right;\">\n",
       "      <th></th>\n",
       "      <th>indice</th>\n",
       "      <th>conteudo</th>\n",
       "    </tr>\n",
       "  </thead>\n",
       "  <tbody>\n",
       "    <tr>\n",
       "      <th>19</th>\n",
       "      <td>19</td>\n",
       "      <td>stado do Acre.  \\r\\nACÓRDÃO Ne 176 \\r\\nFeito \\...</td>\n",
       "    </tr>\n",
       "    <tr>\n",
       "      <th>127</th>\n",
       "      <td>127</td>\n",
       "      <td>Tribunal de Contas do Estado do Acre\\r\\nSecret...</td>\n",
       "    </tr>\n",
       "    <tr>\n",
       "      <th>128</th>\n",
       "      <td>128</td>\n",
       "      <td>Tribunal de Contas do Estado do Acre\\r\\nSecret...</td>\n",
       "    </tr>\n",
       "    <tr>\n",
       "      <th>129</th>\n",
       "      <td>129</td>\n",
       "      <td>Tribunal de Contas do Estado do Acre\\r\\nSecret...</td>\n",
       "    </tr>\n",
       "    <tr>\n",
       "      <th>130</th>\n",
       "      <td>130</td>\n",
       "      <td>Tribunal de Contas do Estado do Acre\\r\\nSecret...</td>\n",
       "    </tr>\n",
       "  </tbody>\n",
       "</table>\n",
       "</div>"
      ],
      "text/plain": [
       "     indice                                           conteudo\n",
       "19       19  stado do Acre.  \\r\\nACÓRDÃO Ne 176 \\r\\nFeito \\...\n",
       "127     127  Tribunal de Contas do Estado do Acre\\r\\nSecret...\n",
       "128     128  Tribunal de Contas do Estado do Acre\\r\\nSecret...\n",
       "129     129  Tribunal de Contas do Estado do Acre\\r\\nSecret...\n",
       "130     130  Tribunal de Contas do Estado do Acre\\r\\nSecret..."
      ]
     },
     "execution_count": 5,
     "metadata": {},
     "output_type": "execute_result"
    }
   ],
   "source": [
    "transitorio = pd.read_csv(f\"{diretorio_planilhas}\\\\transitorio.csv\",index_col=[0])\n",
    "passo01 = pd.read_csv(f\"{diretorio_planilhas}\\\\acordaos01.csv\",index_col=[0])\n",
    "\n",
    "# atualiza\n",
    "passo01 = passo01\n",
    "passo01.head()\n",
    "\n"
   ]
  },
  {
   "cell_type": "markdown",
   "id": "06e42c3f",
   "metadata": {},
   "source": [
    "# Leitura registro a registro"
   ]
  },
  {
   "cell_type": "code",
   "execution_count": 6,
   "id": "9f636452",
   "metadata": {},
   "outputs": [],
   "source": [
    "def retorna_conteudo(lista,indice):\n",
    "  return lista.conteudo[indice]"
   ]
  },
  {
   "cell_type": "code",
   "execution_count": 7,
   "id": "c0662c7f",
   "metadata": {},
   "outputs": [],
   "source": [
    "def quantidade_ocorrencias(tabela,expressao_regular_a_procurar):\n",
    "    resultado = []\n",
    "    for i in tabela.index:\n",
    "        previa = re.findall(expressao_regular_a_procurar,tabela.conteudo[i])\n",
    "        if previa != []:\n",
    "            resultado = resultado + previa\n",
    "    return f\"Encontrado {len(resultado)} vezes\""
   ]
  },
  {
   "cell_type": "markdown",
   "id": "05692276",
   "metadata": {},
   "source": [
    "# Fazendo pesquisa nos registros:"
   ]
  },
  {
   "cell_type": "code",
   "execution_count": 8,
   "id": "12d7401a",
   "metadata": {},
   "outputs": [
    {
     "data": {
      "text/plain": [
       "'Encontrado 546 vezes'"
      ]
     },
     "execution_count": 8,
     "metadata": {},
     "output_type": "execute_result"
    }
   ],
   "source": [
    "quantidade_ocorrencias(passo01,\" A C Ó R D Ã O \")\n"
   ]
  },
  {
   "cell_type": "code",
   "execution_count": 9,
   "id": "3be8aec3",
   "metadata": {},
   "outputs": [],
   "source": [
    "def substituir(texto_original,novo_texto,regex):\n",
    "    return regex.sub(novo_texto,texto_original)"
   ]
  },
  {
   "cell_type": "markdown",
   "id": "f49419aa",
   "metadata": {},
   "source": [
    "# Fazendo pré-compilação do regex (expressão regular) para ganhar desempenho"
   ]
  },
  {
   "cell_type": "code",
   "execution_count": 10,
   "id": "bc532903",
   "metadata": {},
   "outputs": [],
   "source": [
    "regex_stado_do_acre = re.compile(r\"^stado do acre\\.\")\n",
    "regex_acordao = re.compile(r\"a c ó r d ã o\")\n",
    "regex_pontos = re.compile(r\"\\.\")\n",
    "regex_tracos = re.compile(r\"(-|-){1,}\")\n",
    "regex_acordam = re.compile(r\" a c o r d a m \")\n",
    "regex_espacos_em_branco_em_duplicidade = re.compile(r\"( {2,})\")\n",
    "regex_tribunal_secretaria = re.compile(r\"tribunal de contas do estado do acre(.|\\n)secretaria das sessões\")\n",
    "regex_missao = re.compile(r\"(missão)(:|)(.*)(social)\")\n",
    "regex_endereco = re.compile(r\"(av ceará)(.|\\n)*(govbr)\")\n",
    "regex_sala_das_sessoes = re.compile(r\"sala das sessões do tribunal de contas do estado do acre\")\n",
    "regex_dia_sessao = re.compile(r\"(rio branco )(.|)( acre)(,|)( [0-9][0-9] de | [0-9] de )(janeiro|fevereiro|março|maio|junho|julho|agosto|setembro|outubro|novembro|dezembro)( de )([0-9][0-9][0-9][0-9])(\\.|)\")\n",
    "regex_virgula = re.compile(r\"( ,|,)\")\n",
    "\n",
    "#Padronizando as datas\n",
    "regex_janeiro = re.compile(r\"( de janeiro de )\")\n",
    "regex_fevereiro = re.compile(r\"( de fevereiro de )\")\n",
    "regex_marco = re.compile(r\"( de março de )\")\n",
    "regex_abril = re.compile(r\"( de abril de )\")\n",
    "regex_maio = re.compile(r\"( de maio de )\")\n",
    "regex_junho = re.compile(r\"( de junho de )\")\n",
    "regex_julho = re.compile(r\"( de julho de )\")\n",
    "regex_agosto = re.compile(r\"( de agosto de )\")\n",
    "regex_setembro = re.compile(r\"( de setembro de )\")\n",
    "regex_outubro = re.compile(r\"( de outubro de )\")\n",
    "regex_novembro = re.compile(r\"( de novembro de )\")\n",
    "regex_dezembro = re.compile(r\"( de dezembro de )\")\n",
    "regex_data = re.compile(r\"(rio branco)( |, )([0-9][0-9])([0-9][0-9])([0-9][0-9][0-9][0-9])\")\n",
    "regex_ultimas_linhas = re.compile(r\"(<fim?>)(.|\\n){1,}\")\n",
    "\n",
    "\n",
    "\n",
    "#Retirando as pontuações\n",
    "regex_pontuacao = re.compile(r\"[^\\w\\s]\")\n",
    "regex_apagar_01 = re.compile(r\"(tribunal de contas do estado do acre |secretaria das sessões | natureza do feito| feito | n )\")\n",
    "regex_numeros = re.compile(r\"[0-9]\")\n",
    "\n",
    "regex_numero_acordao = re.compile(r\"(acórdão n |acórdão ni |acórdão n. |acórdão n º )\")\n",
    "regex_quebra_de_linha = re.compile(r\"(\\n){1,}\")\n",
    "regex_complemento_acordao = re.compile(r\"(plen)(á|a)(riotceac)\")\n",
    "regex_tceac_ss = re.compile(r\"(tribunal de contas do estado do acre)(.*)(secretaria das sessões)\")\n",
    "regex_acordao = re.compile(r\"(a c ó r d ã o)\")\n",
    "regex_ate_acordao = re.compile('^(.*)(br|)( |)(acórdão nº{1})')\n",
    "regex_espacos_em_branco_em_duplicidade = re.compile(r\"( {2,})\")\n",
    "regex_acordao_acordao = re.compile(r\"(acórdão acórdão)\")\n",
    "regex_acordao_complemento = re.compile(r\"(plenáriotceac|plenariotceac)\")\n",
    "regex_especiais = re.compile(r\"[ºª]\")\n",
    "regex_nao_visuais = re.compile(r\"(\\r|\\t){1,}\")\n",
    "\n",
    "regex_apagar_02 = re.compile(\"(acórdão |processo |tceacre |tceac |tce |tribunal de contas do estado do acre |secretaria das sessões |anexos |assunto )\")\n",
    "regex_uma_a_duas_letras = re.compile(\" [a-z]{1,2} \")\n"
   ]
  },
  {
   "cell_type": "markdown",
   "id": "74feec24",
   "metadata": {},
   "source": [
    "# ATENÇÃO: Todas substituição com Expressão Regular serão executadas nesta etapa Grupo_NLP_02 "
   ]
  },
  {
   "cell_type": "code",
   "execution_count": 11,
   "id": "562a641b",
   "metadata": {},
   "outputs": [],
   "source": [
    "def fazer_primeiras_substituicoes(tabela):\n",
    "    print('Aguarde', end = \"\")\n",
    "    for i in tabela.index:\n",
    "\n",
    "        #padronizando em letras minúsculas\n",
    "        antes = tabela.conteudo[i].lower()\n",
    "        \n",
    "        depois = substituir(antes,\" \",regex_stado_do_acre)\n",
    "        depois = substituir(depois,\" \",regex_complemento_acordao)\n",
    "        depois = substituir(depois,\"\",regex_especiais)\n",
    "        depois = substituir(depois,\" \",regex_nao_visuais)\n",
    "        depois = substituir(depois,\" acórdão \",regex_acordao)\n",
    "        depois = substituir(depois,\"\",regex_pontos)\n",
    "        depois = substituir(depois,\" \",regex_tracos)\n",
    "        depois = substituir(depois,\" acordam \",regex_acordam)\n",
    "        depois = substituir(depois,\" \",regex_tribunal_secretaria)\n",
    "        depois = substituir(depois,\" \",regex_missao)\n",
    "        depois = substituir(depois,\" \",regex_endereco)\n",
    "        depois = substituir(depois,\" \",regex_sala_das_sessoes)\n",
    "        depois = substituir(depois,r\"\\1\\4\\5\\6\\7\\8\",regex_dia_sessao)\n",
    "        \n",
    "        \n",
    "        depois = substituir(depois,\" \",regex_virgula)\n",
    "        depois = substituir(depois,\"-01-\",regex_janeiro)\n",
    "        depois = substituir(depois,\"-02-\",regex_fevereiro)\n",
    "        depois = substituir(depois,\"-03-\",regex_marco)\n",
    "        depois = substituir(depois,\"-04-\",regex_abril)\n",
    "        depois = substituir(depois,\"-05-\",regex_maio)\n",
    "        depois = substituir(depois,\"-06-\",regex_junho)\n",
    "        depois = substituir(depois,\"-07-\",regex_julho)\n",
    "        depois = substituir(depois,\"-08-\",regex_agosto)\n",
    "        depois = substituir(depois,\"-09-\",regex_setembro)\n",
    "        depois = substituir(depois,\"-10-\",regex_outubro)\n",
    "        depois = substituir(depois,\"-11-\",regex_novembro)\n",
    "        depois = substituir(depois,\"-12-\",regex_dezembro)\n",
    "        depois = substituir(depois,r\"\\2\\3\\3\",regex_data)\n",
    "        \n",
    "        depois = substituir(depois,\" \",regex_ultimas_linhas)\n",
    "        depois = substituir(depois,\"acórdão \",regex_numero_acordao)\n",
    "        depois = substituir(depois,\"\",regex_pontuacao)\n",
    "        depois = substituir(depois,\" \",regex_quebra_de_linha)\n",
    "        \n",
    "        depois = substituir(depois,\" \",regex_apagar_01)\n",
    "        depois = substituir(depois,\" \",regex_espacos_em_branco_em_duplicidade)\n",
    "\n",
    "        tabela.loc[i,'conteudo_atualizado'] = depois\n",
    "        print('.', end = \"\")\n",
    "\n",
    "    print('\\nTexto processado com sucesso !')"
   ]
  },
  {
   "cell_type": "code",
   "execution_count": 12,
   "id": "526c95cd",
   "metadata": {},
   "outputs": [
    {
     "name": "stdout",
     "output_type": "stream",
     "text": [
      "Aguarde......................................................................................................................................................................................................................................................................................................................................................................................................................................................................................................................................................................................................................................................................................................................................................................................................................................................................................................................................................................................................................................................................................................................................................................................................................................................................................................................................................................................................................................................................................................................................................................................................................................................................................................................................................................................................................................................................................................................................................................................................................................................................................................................................................................................................................................................................................................................................................................................................................................................................................................................................................\n",
      "Texto processado com sucesso !\n"
     ]
    },
    {
     "data": {
      "text/html": [
       "<div>\n",
       "<style scoped>\n",
       "    .dataframe tbody tr th:only-of-type {\n",
       "        vertical-align: middle;\n",
       "    }\n",
       "\n",
       "    .dataframe tbody tr th {\n",
       "        vertical-align: top;\n",
       "    }\n",
       "\n",
       "    .dataframe thead th {\n",
       "        text-align: right;\n",
       "    }\n",
       "</style>\n",
       "<table border=\"1\" class=\"dataframe\">\n",
       "  <thead>\n",
       "    <tr style=\"text-align: right;\">\n",
       "      <th></th>\n",
       "      <th>indice</th>\n",
       "      <th>conteudo</th>\n",
       "      <th>conteudo_atualizado</th>\n",
       "    </tr>\n",
       "  </thead>\n",
       "  <tbody>\n",
       "    <tr>\n",
       "      <th>19</th>\n",
       "      <td>19</td>\n",
       "      <td>stado do Acre.  \\r\\nACÓRDÃO Ne 176 \\r\\nFeito \\...</td>\n",
       "      <td>acórdão 176 processo 2 57091 tceacre relator ...</td>\n",
       "    </tr>\n",
       "    <tr>\n",
       "      <th>127</th>\n",
       "      <td>127</td>\n",
       "      <td>Tribunal de Contas do Estado do Acre\\r\\nSecret...</td>\n",
       "      <td>acórdão 7556 processo 129062009 01 tce proces...</td>\n",
       "    </tr>\n",
       "    <tr>\n",
       "      <th>128</th>\n",
       "      <td>128</td>\n",
       "      <td>Tribunal de Contas do Estado do Acre\\r\\nSecret...</td>\n",
       "      <td>acórdão 7557 processo 147792011 40 tce assunt...</td>\n",
       "    </tr>\n",
       "    <tr>\n",
       "      <th>129</th>\n",
       "      <td>129</td>\n",
       "      <td>Tribunal de Contas do Estado do Acre\\r\\nSecret...</td>\n",
       "      <td>acórdão 7560 processo 148842011 01 tce c02 an...</td>\n",
       "    </tr>\n",
       "    <tr>\n",
       "      <th>130</th>\n",
       "      <td>130</td>\n",
       "      <td>Tribunal de Contas do Estado do Acre\\r\\nSecret...</td>\n",
       "      <td>acórdão 7564 processo 146262011 50 tce assunt...</td>\n",
       "    </tr>\n",
       "  </tbody>\n",
       "</table>\n",
       "</div>"
      ],
      "text/plain": [
       "     indice                                           conteudo  \\\n",
       "19       19  stado do Acre.  \\r\\nACÓRDÃO Ne 176 \\r\\nFeito \\...   \n",
       "127     127  Tribunal de Contas do Estado do Acre\\r\\nSecret...   \n",
       "128     128  Tribunal de Contas do Estado do Acre\\r\\nSecret...   \n",
       "129     129  Tribunal de Contas do Estado do Acre\\r\\nSecret...   \n",
       "130     130  Tribunal de Contas do Estado do Acre\\r\\nSecret...   \n",
       "\n",
       "                                   conteudo_atualizado  \n",
       "19    acórdão 176 processo 2 57091 tceacre relator ...  \n",
       "127   acórdão 7556 processo 129062009 01 tce proces...  \n",
       "128   acórdão 7557 processo 147792011 40 tce assunt...  \n",
       "129   acórdão 7560 processo 148842011 01 tce c02 an...  \n",
       "130   acórdão 7564 processo 146262011 50 tce assunt...  "
      ]
     },
     "execution_count": 12,
     "metadata": {},
     "output_type": "execute_result"
    }
   ],
   "source": [
    "#Substituições antes de pegar o acórdão e a data\n",
    "fazer_primeiras_substituicoes(passo01)\n",
    "passo01.head() "
   ]
  },
  {
   "cell_type": "code",
   "execution_count": null,
   "id": "ab217e56",
   "metadata": {},
   "outputs": [],
   "source": []
  },
  {
   "cell_type": "code",
   "execution_count": 13,
   "id": "e8554488",
   "metadata": {},
   "outputs": [],
   "source": [
    "\n",
    "# atualizando acordao02\n",
    "transitorio['indice'] = passo01['indice']\n",
    "transitorio['acordao'] = passo01['indice']\n",
    "transitorio['dia'] = passo01['indice']\n",
    "transitorio['conteudo'] = passo01['conteudo_atualizado']\n",
    "transitorio.to_csv(f\"{diretorio_planilhas}\\\\acordaos02.csv\")\n"
   ]
  },
  {
   "cell_type": "code",
   "execution_count": 14,
   "id": "8aa12b52",
   "metadata": {},
   "outputs": [
    {
     "data": {
      "text/plain": [
       "<bound method NDFrame.head of                                                  conteudo  indice  acordao  \\\n",
       "indice                                                                       \n",
       "19       acórdão 176 processo 2 57091 tceacre relator ...      19       19   \n",
       "127      acórdão 7556 processo 129062009 01 tce proces...     127      127   \n",
       "128      acórdão 7557 processo 147792011 40 tce assunt...     128      128   \n",
       "129      acórdão 7560 processo 148842011 01 tce c02 an...     129      129   \n",
       "130      acórdão 7564 processo 146262011 50 tce assunt...     130      130   \n",
       "...                                                   ...     ...      ...   \n",
       "2615     acórdão 7534 processo 152442011 70 tce assunt...    2615     2615   \n",
       "2616     acórdão 7536 processo 78881998 98 tce c09 ane...    2616     2616   \n",
       "2617     acórdão 7548 processo 128742009 00 tce assunt...    2617     2617   \n",
       "2618     acórdão 7549 processo 148982011 20 tce assunt...    2618     2618   \n",
       "2619     acórdão 7550 processo 188502007 86 tce c01 an...    2619     2619   \n",
       "\n",
       "         dia  \n",
       "indice        \n",
       "19        19  \n",
       "127      127  \n",
       "128      128  \n",
       "129      129  \n",
       "130      130  \n",
       "...      ...  \n",
       "2615    2615  \n",
       "2616    2616  \n",
       "2617    2617  \n",
       "2618    2618  \n",
       "2619    2619  \n",
       "\n",
       "[2454 rows x 4 columns]>"
      ]
     },
     "execution_count": 14,
     "metadata": {},
     "output_type": "execute_result"
    }
   ],
   "source": [
    "transitorio.head"
   ]
  },
  {
   "cell_type": "code",
   "execution_count": 15,
   "id": "7b3dbcf6",
   "metadata": {},
   "outputs": [
    {
     "name": "stderr",
     "output_type": "stream",
     "text": [
      "C:\\Users\\anton\\AppData\\Local\\Temp\\ipykernel_9396\\3231862442.py:6: SettingWithCopyWarning: \n",
      "A value is trying to be set on a copy of a slice from a DataFrame\n",
      "\n",
      "See the caveats in the documentation: https://pandas.pydata.org/pandas-docs/stable/user_guide/indexing.html#returning-a-view-versus-a-copy\n",
      "  transitorio.dia[i] = dia[0][2]+'/'+dia[0][3]+'/'+dia[0][4]\n"
     ]
    }
   ],
   "source": [
    "for i in transitorio.index:\n",
    "    #padronizando em letras minúsculas\n",
    "    texto = transitorio.conteudo[i]\n",
    "    dia = re.findall(\"(rio branco)( |, )([0-9][0-9])([0-9][0-9])([0-9][0-9][0-9][0-9])\",texto)\n",
    "    if len(dia) == 1:\n",
    "        transitorio.dia[i] = dia[0][2]+'/'+dia[0][3]+'/'+dia[0][4]\n",
    "    else:\n",
    "        transitorio.dia[i] = \"00/00/0000\"\n"
   ]
  },
  {
   "cell_type": "code",
   "execution_count": 16,
   "id": "60888797",
   "metadata": {},
   "outputs": [
    {
     "data": {
      "text/plain": [
       "'02/02/2012'"
      ]
     },
     "execution_count": 16,
     "metadata": {},
     "output_type": "execute_result"
    }
   ],
   "source": [
    "transitorio.dia[129]"
   ]
  },
  {
   "cell_type": "code",
   "execution_count": 17,
   "metadata": {},
   "outputs": [
    {
     "name": "stderr",
     "output_type": "stream",
     "text": [
      "C:\\Users\\anton\\AppData\\Local\\Temp\\ipykernel_9396\\1050367800.py:6: SettingWithCopyWarning: \n",
      "A value is trying to be set on a copy of a slice from a DataFrame\n",
      "\n",
      "See the caveats in the documentation: https://pandas.pydata.org/pandas-docs/stable/user_guide/indexing.html#returning-a-view-versus-a-copy\n",
      "  transitorio.acordao[i] = acordao[0][2]\n"
     ]
    }
   ],
   "source": [
    "for i in transitorio.index:\n",
    "    #padronizando em letras minúsculas\n",
    "    texto = transitorio.conteudo[i]\n",
    "    acordao = re.findall(\"(acórdão)( n. | n | )([0-9]{1,})( )\",texto)\n",
    "    if len(acordao) >= 1:\n",
    "        transitorio.acordao[i] = acordao[0][2]\n",
    "    else:\n",
    "        transitorio.acordao[i] = \"000000\""
   ]
  },
  {
   "cell_type": "code",
   "execution_count": 18,
   "id": "615446e4",
   "metadata": {},
   "outputs": [
    {
     "data": {
      "text/plain": [
       "<bound method NDFrame.head of                                                  conteudo  indice acordao  \\\n",
       "indice                                                                      \n",
       "19       acórdão 176 processo 2 57091 tceacre relator ...      19     176   \n",
       "127      acórdão 7556 processo 129062009 01 tce proces...     127    7556   \n",
       "128      acórdão 7557 processo 147792011 40 tce assunt...     128    7557   \n",
       "129      acórdão 7560 processo 148842011 01 tce c02 an...     129    7560   \n",
       "130      acórdão 7564 processo 146262011 50 tce assunt...     130    7564   \n",
       "...                                                   ...     ...     ...   \n",
       "2615     acórdão 7534 processo 152442011 70 tce assunt...    2615    7534   \n",
       "2616     acórdão 7536 processo 78881998 98 tce c09 ane...    2616    7536   \n",
       "2617     acórdão 7548 processo 128742009 00 tce assunt...    2617    7548   \n",
       "2618     acórdão 7549 processo 148982011 20 tce assunt...    2618    7549   \n",
       "2619     acórdão 7550 processo 188502007 86 tce c01 an...    2619    7550   \n",
       "\n",
       "               dia  \n",
       "indice              \n",
       "19      02/04/1992  \n",
       "127     02/02/2012  \n",
       "128     02/02/2012  \n",
       "129     02/02/2012  \n",
       "130     02/02/2012  \n",
       "...            ...  \n",
       "2615    15/12/2011  \n",
       "2616    15/12/2011  \n",
       "2617    15/12/2011  \n",
       "2618    15/12/2011  \n",
       "2619    15/12/2011  \n",
       "\n",
       "[2454 rows x 4 columns]>"
      ]
     },
     "execution_count": 18,
     "metadata": {},
     "output_type": "execute_result"
    }
   ],
   "source": [
    "transitorio.head"
   ]
  },
  {
   "cell_type": "code",
   "execution_count": 19,
   "id": "2600e6a2",
   "metadata": {},
   "outputs": [
    {
     "name": "stdout",
     "output_type": "stream",
     "text": [
      "Aguarde......................................................................................................................................................................................................................................................................................................................................................................................................................................................................................................................................................................................................................................................................................................................................................................................................................................................................................................................................................................................................................................................................................................................................................................................................................................................................................................................................................................................................................................................................................................................................................................................................................................................................................................................................................................................................................................................................................................................................................................................................................................................................................................................................................................................................................................................................................................................................................................................................................................................................................................................................................\n",
      "Texto processado com sucesso !\n"
     ]
    },
    {
     "data": {
      "text/html": [
       "<div>\n",
       "<style scoped>\n",
       "    .dataframe tbody tr th:only-of-type {\n",
       "        vertical-align: middle;\n",
       "    }\n",
       "\n",
       "    .dataframe tbody tr th {\n",
       "        vertical-align: top;\n",
       "    }\n",
       "\n",
       "    .dataframe thead th {\n",
       "        text-align: right;\n",
       "    }\n",
       "</style>\n",
       "<table border=\"1\" class=\"dataframe\">\n",
       "  <thead>\n",
       "    <tr style=\"text-align: right;\">\n",
       "      <th></th>\n",
       "      <th>conteudo</th>\n",
       "      <th>indice</th>\n",
       "      <th>acordao</th>\n",
       "      <th>dia</th>\n",
       "      <th>conteudo_atualizado</th>\n",
       "    </tr>\n",
       "    <tr>\n",
       "      <th>indice</th>\n",
       "      <th></th>\n",
       "      <th></th>\n",
       "      <th></th>\n",
       "      <th></th>\n",
       "      <th></th>\n",
       "    </tr>\n",
       "  </thead>\n",
       "  <tbody>\n",
       "    <tr>\n",
       "      <th>19</th>\n",
       "      <td>acórdão 176 processo 2 57091 tceacre relator ...</td>\n",
       "      <td>19</td>\n",
       "      <td>176</td>\n",
       "      <td>02/04/1992</td>\n",
       "      <td>relator conselheiro marciliano reis fleming v...</td>\n",
       "    </tr>\n",
       "    <tr>\n",
       "      <th>127</th>\n",
       "      <td>acórdão 7556 processo 129062009 01 tce proces...</td>\n",
       "      <td>127</td>\n",
       "      <td>7556</td>\n",
       "      <td>02/02/2012</td>\n",
       "      <td>apenso prestação contas prefeitura municipal ...</td>\n",
       "    </tr>\n",
       "    <tr>\n",
       "      <th>128</th>\n",
       "      <td>acórdão 7557 processo 147792011 40 tce assunt...</td>\n",
       "      <td>128</td>\n",
       "      <td>7557</td>\n",
       "      <td>02/02/2012</td>\n",
       "      <td>prestação contas câmara municipal epitaciolân...</td>\n",
       "    </tr>\n",
       "    <tr>\n",
       "      <th>129</th>\n",
       "      <td>acórdão 7560 processo 148842011 01 tce c02 an...</td>\n",
       "      <td>129</td>\n",
       "      <td>7560</td>\n",
       "      <td>02/02/2012</td>\n",
       "      <td>prestação contas empresa municipal urbanizaçã...</td>\n",
       "    </tr>\n",
       "    <tr>\n",
       "      <th>130</th>\n",
       "      <td>acórdão 7564 processo 146262011 50 tce assunt...</td>\n",
       "      <td>130</td>\n",
       "      <td>7564</td>\n",
       "      <td>02/02/2012</td>\n",
       "      <td>relatório gestão fiscal prefeitura municipal ...</td>\n",
       "    </tr>\n",
       "  </tbody>\n",
       "</table>\n",
       "</div>"
      ],
      "text/plain": [
       "                                                 conteudo  indice acordao  \\\n",
       "indice                                                                      \n",
       "19       acórdão 176 processo 2 57091 tceacre relator ...      19     176   \n",
       "127      acórdão 7556 processo 129062009 01 tce proces...     127    7556   \n",
       "128      acórdão 7557 processo 147792011 40 tce assunt...     128    7557   \n",
       "129      acórdão 7560 processo 148842011 01 tce c02 an...     129    7560   \n",
       "130      acórdão 7564 processo 146262011 50 tce assunt...     130    7564   \n",
       "\n",
       "               dia                                conteudo_atualizado  \n",
       "indice                                                                 \n",
       "19      02/04/1992   relator conselheiro marciliano reis fleming v...  \n",
       "127     02/02/2012   apenso prestação contas prefeitura municipal ...  \n",
       "128     02/02/2012   prestação contas câmara municipal epitaciolân...  \n",
       "129     02/02/2012   prestação contas empresa municipal urbanizaçã...  \n",
       "130     02/02/2012   relatório gestão fiscal prefeitura municipal ...  "
      ]
     },
     "execution_count": 19,
     "metadata": {},
     "output_type": "execute_result"
    }
   ],
   "source": [
    "def fazer_substituicoes_finais(tabela):\n",
    "    print('Aguarde', end = \"\")\n",
    "    for i in tabela.index:\n",
    "\n",
    "        #padronizando em letras minúsculas\n",
    "        antes = tabela.conteudo[i].lower()\n",
    "        \n",
    "        depois = substituir(antes,\" \",regex_numeros)\n",
    "        depois = substituir(depois,\" \",regex_apagar_02)\n",
    "        depois = substituir(depois,\" \",regex_uma_a_duas_letras)\n",
    "        depois = substituir(depois,\" \",regex_espacos_em_branco_em_duplicidade)\n",
    "        depois = substituir(depois,\" \",regex_nao_visuais)\n",
    "\n",
    "        tabela.loc[i,'conteudo_atualizado'] = depois\n",
    "        print('.', end = \"\")\n",
    "\n",
    "    print('\\nTexto processado com sucesso !')\n",
    "\n",
    "#Substituições após pegar o acórdão e a data\n",
    "fazer_substituicoes_finais(transitorio)\n",
    "transitorio.head()"
   ]
  },
  {
   "cell_type": "code",
   "execution_count": 20,
   "id": "582a5f70",
   "metadata": {},
   "outputs": [
    {
     "data": {
      "text/html": [
       "<div>\n",
       "<style scoped>\n",
       "    .dataframe tbody tr th:only-of-type {\n",
       "        vertical-align: middle;\n",
       "    }\n",
       "\n",
       "    .dataframe tbody tr th {\n",
       "        vertical-align: top;\n",
       "    }\n",
       "\n",
       "    .dataframe thead th {\n",
       "        text-align: right;\n",
       "    }\n",
       "</style>\n",
       "<table border=\"1\" class=\"dataframe\">\n",
       "  <thead>\n",
       "    <tr style=\"text-align: right;\">\n",
       "      <th></th>\n",
       "      <th>conteudo</th>\n",
       "      <th>indice</th>\n",
       "      <th>acordao</th>\n",
       "      <th>dia</th>\n",
       "    </tr>\n",
       "    <tr>\n",
       "      <th>indice</th>\n",
       "      <th></th>\n",
       "      <th></th>\n",
       "      <th></th>\n",
       "      <th></th>\n",
       "    </tr>\n",
       "  </thead>\n",
       "  <tbody>\n",
       "    <tr>\n",
       "      <th>19</th>\n",
       "      <td>relator conselheiro marciliano reis fleming v...</td>\n",
       "      <td>19</td>\n",
       "      <td>176</td>\n",
       "      <td>02/04/1992</td>\n",
       "    </tr>\n",
       "    <tr>\n",
       "      <th>127</th>\n",
       "      <td>apenso prestação contas prefeitura municipal ...</td>\n",
       "      <td>127</td>\n",
       "      <td>7556</td>\n",
       "      <td>02/02/2012</td>\n",
       "    </tr>\n",
       "    <tr>\n",
       "      <th>128</th>\n",
       "      <td>prestação contas câmara municipal epitaciolân...</td>\n",
       "      <td>128</td>\n",
       "      <td>7557</td>\n",
       "      <td>02/02/2012</td>\n",
       "    </tr>\n",
       "    <tr>\n",
       "      <th>129</th>\n",
       "      <td>prestação contas empresa municipal urbanizaçã...</td>\n",
       "      <td>129</td>\n",
       "      <td>7560</td>\n",
       "      <td>02/02/2012</td>\n",
       "    </tr>\n",
       "    <tr>\n",
       "      <th>130</th>\n",
       "      <td>relatório gestão fiscal prefeitura municipal ...</td>\n",
       "      <td>130</td>\n",
       "      <td>7564</td>\n",
       "      <td>02/02/2012</td>\n",
       "    </tr>\n",
       "  </tbody>\n",
       "</table>\n",
       "</div>"
      ],
      "text/plain": [
       "                                                 conteudo  indice acordao  \\\n",
       "indice                                                                      \n",
       "19       relator conselheiro marciliano reis fleming v...      19     176   \n",
       "127      apenso prestação contas prefeitura municipal ...     127    7556   \n",
       "128      prestação contas câmara municipal epitaciolân...     128    7557   \n",
       "129      prestação contas empresa municipal urbanizaçã...     129    7560   \n",
       "130      relatório gestão fiscal prefeitura municipal ...     130    7564   \n",
       "\n",
       "               dia  \n",
       "indice              \n",
       "19      02/04/1992  \n",
       "127     02/02/2012  \n",
       "128     02/02/2012  \n",
       "129     02/02/2012  \n",
       "130     02/02/2012  "
      ]
     },
     "execution_count": 20,
     "metadata": {},
     "output_type": "execute_result"
    }
   ],
   "source": [
    "# atualizando acordao02\n",
    "transitorio['conteudo'] = transitorio['conteudo_atualizado']\n",
    "transitorio = transitorio.drop(\"conteudo_atualizado\", axis = 1)\n",
    "transitorio.to_csv(f\"{diretorio_planilhas}\\\\acordaos02.csv\")\n",
    "transitorio.head()"
   ]
  },
  {
   "cell_type": "code",
   "execution_count": 21,
   "id": "7d5c7539",
   "metadata": {},
   "outputs": [],
   "source": [
    "transitorio.to_csv(f\"{diretorio_planilhas}\\\\acordaos03.csv\")"
   ]
  },
  {
   "cell_type": "code",
   "execution_count": 22,
   "id": "9e3d2fce",
   "metadata": {},
   "outputs": [
    {
     "data": {
      "text/plain": [
       "'14/06/2012'"
      ]
     },
     "execution_count": 22,
     "metadata": {},
     "output_type": "execute_result"
    }
   ],
   "source": [
    "transitorio.dia[140]"
   ]
  },
  {
   "cell_type": "code",
   "execution_count": 23,
   "id": "d2c9ca62",
   "metadata": {},
   "outputs": [
    {
     "data": {
      "text/plain": [
       "'7782'"
      ]
     },
     "execution_count": 23,
     "metadata": {},
     "output_type": "execute_result"
    }
   ],
   "source": [
    "transitorio.acordao[140] "
   ]
  },
  {
   "cell_type": "code",
   "execution_count": 1,
   "id": "9e77570c",
   "metadata": {},
   "outputs": [
    {
     "name": "stdout",
     "output_type": "stream",
     "text": [
      "teste de alteração\n"
     ]
    }
   ],
   "source": [
    "print('teste de alteração')"
   ]
  },
  {
   "cell_type": "markdown",
   "id": "97f698cb",
   "metadata": {},
   "source": [
    "# Continuar no notebook Grupo_NLP_03.ipynb\n",
    "------\n",
    "Para cada etapa teremos novos notebook's (*.ipynb) e planilha's (*.xls) para manter a independência entre cada etapa.\n",
    "\n",
    "Havendo erro a corrigir será feito de forma independente."
   ]
  }
 ],
 "metadata": {
  "kernelspec": {
   "display_name": "Python 3 (ipykernel)",
   "language": "python",
   "name": "python3"
  },
  "language_info": {
   "codemirror_mode": {
    "name": "ipython",
    "version": 3
   },
   "file_extension": ".py",
   "mimetype": "text/x-python",
   "name": "python",
   "nbconvert_exporter": "python",
   "pygments_lexer": "ipython3",
   "version": "3.11.5"
  }
 },
 "nbformat": 4,
 "nbformat_minor": 5
}
