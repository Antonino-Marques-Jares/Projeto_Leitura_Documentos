{
 "cells": [
  {
   "cell_type": "markdown",
   "id": "18d2ff4d",
   "metadata": {},
   "source": [
    "# A\\) Etapas do Pré - Processamento\n",
    "## 2) Fazer a leitura do xls que foi criado na etapa anterior e retirar NAN'S\n",
    "## 3\\) Fazer a leitura do xls anterior e retirar texto inicial e final que não será objeto do estudo\n",
    "\n",
    "> \n",
    ">Utilizaremos programação Python com biblioteca PANDAS e Expressão Regular\n",
    "> "
   ]
  },
  {
   "cell_type": "code",
   "execution_count": 16,
   "id": "59ea916e",
   "metadata": {},
   "outputs": [],
   "source": [
    "import glob\n",
    "import pandas as pd\n",
    "import re\n",
    "from pypdf import PdfReader"
   ]
  },
  {
   "cell_type": "code",
   "execution_count": 17,
   "id": "07f57c91",
   "metadata": {},
   "outputs": [],
   "source": [
    "diretorio_dados = \"C:\\\\Users\\\\anton\\\\OneDrive - Casa Jares\\\\Projeto_BI_Ciencia_Dados\\\\Projeto_Leitura_Documentos\\\\dados\"\n",
    "diretorio_planilhas = \"C:\\\\Users\\\\anton\\OneDrive - Casa Jares\\\\Projeto_BI_Ciencia_Dados\\\\Projeto_Leitura_Documentos\\\\planilhas\""
   ]
  },
  {
   "cell_type": "markdown",
   "id": "dad74eab",
   "metadata": {},
   "source": [
    "# Continuando a partir do acordao02"
   ]
  },
  {
   "cell_type": "code",
   "execution_count": 18,
   "id": "46324003",
   "metadata": {},
   "outputs": [
    {
     "data": {
      "text/html": [
       "<div>\n",
       "<style scoped>\n",
       "    .dataframe tbody tr th:only-of-type {\n",
       "        vertical-align: middle;\n",
       "    }\n",
       "\n",
       "    .dataframe tbody tr th {\n",
       "        vertical-align: top;\n",
       "    }\n",
       "\n",
       "    .dataframe thead th {\n",
       "        text-align: right;\n",
       "    }\n",
       "</style>\n",
       "<table border=\"1\" class=\"dataframe\">\n",
       "  <thead>\n",
       "    <tr style=\"text-align: right;\">\n",
       "      <th></th>\n",
       "      <th>Unnamed: 0</th>\n",
       "      <th>acordao</th>\n",
       "      <th>conteudo</th>\n",
       "    </tr>\n",
       "  </thead>\n",
       "  <tbody>\n",
       "    <tr>\n",
       "      <th>0</th>\n",
       "      <td>1</td>\n",
       "      <td>1</td>\n",
       "      <td>NaN</td>\n",
       "    </tr>\n",
       "    <tr>\n",
       "      <th>1</th>\n",
       "      <td>2</td>\n",
       "      <td>2</td>\n",
       "      <td>NaN</td>\n",
       "    </tr>\n",
       "    <tr>\n",
       "      <th>2</th>\n",
       "      <td>3</td>\n",
       "      <td>3</td>\n",
       "      <td>NaN</td>\n",
       "    </tr>\n",
       "    <tr>\n",
       "      <th>3</th>\n",
       "      <td>4</td>\n",
       "      <td>4</td>\n",
       "      <td>NaN</td>\n",
       "    </tr>\n",
       "    <tr>\n",
       "      <th>4</th>\n",
       "      <td>5</td>\n",
       "      <td>5</td>\n",
       "      <td>NaN</td>\n",
       "    </tr>\n",
       "  </tbody>\n",
       "</table>\n",
       "</div>"
      ],
      "text/plain": [
       "   Unnamed: 0  acordao conteudo\n",
       "0           1        1      NaN\n",
       "1           2        2      NaN\n",
       "2           3        3      NaN\n",
       "3           4        4      NaN\n",
       "4           5        5      NaN"
      ]
     },
     "execution_count": 18,
     "metadata": {},
     "output_type": "execute_result"
    }
   ],
   "source": [
    "passo02 = pd.read_excel(f\"{diretorio_planilhas}\\\\acordaos02.xlsx\")\n",
    "passo02.head()"
   ]
  },
  {
   "cell_type": "markdown",
   "id": "4b9e2dad",
   "metadata": {},
   "source": [
    "# Apagando coluna 'Unnamed: 0'"
   ]
  },
  {
   "cell_type": "code",
   "execution_count": 19,
   "id": "71c75bf2",
   "metadata": {},
   "outputs": [
    {
     "data": {
      "text/html": [
       "<div>\n",
       "<style scoped>\n",
       "    .dataframe tbody tr th:only-of-type {\n",
       "        vertical-align: middle;\n",
       "    }\n",
       "\n",
       "    .dataframe tbody tr th {\n",
       "        vertical-align: top;\n",
       "    }\n",
       "\n",
       "    .dataframe thead th {\n",
       "        text-align: right;\n",
       "    }\n",
       "</style>\n",
       "<table border=\"1\" class=\"dataframe\">\n",
       "  <thead>\n",
       "    <tr style=\"text-align: right;\">\n",
       "      <th></th>\n",
       "      <th>acordao</th>\n",
       "      <th>conteudo</th>\n",
       "    </tr>\n",
       "  </thead>\n",
       "  <tbody>\n",
       "    <tr>\n",
       "      <th>0</th>\n",
       "      <td>1</td>\n",
       "      <td>NaN</td>\n",
       "    </tr>\n",
       "    <tr>\n",
       "      <th>1</th>\n",
       "      <td>2</td>\n",
       "      <td>NaN</td>\n",
       "    </tr>\n",
       "    <tr>\n",
       "      <th>2</th>\n",
       "      <td>3</td>\n",
       "      <td>NaN</td>\n",
       "    </tr>\n",
       "    <tr>\n",
       "      <th>3</th>\n",
       "      <td>4</td>\n",
       "      <td>NaN</td>\n",
       "    </tr>\n",
       "    <tr>\n",
       "      <th>4</th>\n",
       "      <td>5</td>\n",
       "      <td>NaN</td>\n",
       "    </tr>\n",
       "  </tbody>\n",
       "</table>\n",
       "</div>"
      ],
      "text/plain": [
       "   acordao conteudo\n",
       "0        1      NaN\n",
       "1        2      NaN\n",
       "2        3      NaN\n",
       "3        4      NaN\n",
       "4        5      NaN"
      ]
     },
     "execution_count": 19,
     "metadata": {},
     "output_type": "execute_result"
    }
   ],
   "source": [
    "del passo02[\"Unnamed: 0\"]\n",
    "passo02.head()"
   ]
  },
  {
   "cell_type": "code",
   "execution_count": 20,
   "id": "dfd41c03",
   "metadata": {},
   "outputs": [
    {
     "name": "stdout",
     "output_type": "stream",
     "text": [
      "<class 'pandas.core.frame.DataFrame'>\n",
      "RangeIndex: 2620 entries, 0 to 2619\n",
      "Data columns (total 2 columns):\n",
      " #   Column    Non-Null Count  Dtype \n",
      "---  ------    --------------  ----- \n",
      " 0   acordao   2620 non-null   int64 \n",
      " 1   conteudo  2454 non-null   object\n",
      "dtypes: int64(1), object(1)\n",
      "memory usage: 41.1+ KB\n"
     ]
    }
   ],
   "source": [
    "passo02.info()"
   ]
  },
  {
   "cell_type": "code",
   "execution_count": 21,
   "id": "355facc0",
   "metadata": {},
   "outputs": [
    {
     "name": "stdout",
     "output_type": "stream",
     "text": [
      "Quantidade de linhas 2620\n"
     ]
    }
   ],
   "source": [
    "print(f'Quantidade de linhas {passo02.shape[0]}')"
   ]
  },
  {
   "cell_type": "markdown",
   "id": "297622c3",
   "metadata": {},
   "source": [
    "# Apagando registros NAN"
   ]
  },
  {
   "cell_type": "code",
   "execution_count": 22,
   "id": "bcf7f628",
   "metadata": {},
   "outputs": [
    {
     "data": {
      "text/html": [
       "<div>\n",
       "<style scoped>\n",
       "    .dataframe tbody tr th:only-of-type {\n",
       "        vertical-align: middle;\n",
       "    }\n",
       "\n",
       "    .dataframe tbody tr th {\n",
       "        vertical-align: top;\n",
       "    }\n",
       "\n",
       "    .dataframe thead th {\n",
       "        text-align: right;\n",
       "    }\n",
       "</style>\n",
       "<table border=\"1\" class=\"dataframe\">\n",
       "  <thead>\n",
       "    <tr style=\"text-align: right;\">\n",
       "      <th></th>\n",
       "      <th>acordao</th>\n",
       "      <th>conteudo</th>\n",
       "    </tr>\n",
       "  </thead>\n",
       "  <tbody>\n",
       "    <tr>\n",
       "      <th>19</th>\n",
       "      <td>20</td>\n",
       "      <td>stado do Acre.  \\nACÓRDÃO Ne 176 \\nFeito \\t : ...</td>\n",
       "    </tr>\n",
       "    <tr>\n",
       "      <th>127</th>\n",
       "      <td>128</td>\n",
       "      <td>Tribunal de Contas do Estado do Acre\\nSecretar...</td>\n",
       "    </tr>\n",
       "    <tr>\n",
       "      <th>128</th>\n",
       "      <td>129</td>\n",
       "      <td>Tribunal de Contas do Estado do Acre\\nSecretar...</td>\n",
       "    </tr>\n",
       "    <tr>\n",
       "      <th>129</th>\n",
       "      <td>130</td>\n",
       "      <td>Tribunal de Contas do Estado do Acre\\nSecretar...</td>\n",
       "    </tr>\n",
       "    <tr>\n",
       "      <th>130</th>\n",
       "      <td>131</td>\n",
       "      <td>Tribunal de Contas do Estado do Acre\\nSecretar...</td>\n",
       "    </tr>\n",
       "  </tbody>\n",
       "</table>\n",
       "</div>"
      ],
      "text/plain": [
       "     acordao                                           conteudo\n",
       "19        20  stado do Acre.  \\nACÓRDÃO Ne 176 \\nFeito \\t : ...\n",
       "127      128  Tribunal de Contas do Estado do Acre\\nSecretar...\n",
       "128      129  Tribunal de Contas do Estado do Acre\\nSecretar...\n",
       "129      130  Tribunal de Contas do Estado do Acre\\nSecretar...\n",
       "130      131  Tribunal de Contas do Estado do Acre\\nSecretar..."
      ]
     },
     "execution_count": 22,
     "metadata": {},
     "output_type": "execute_result"
    }
   ],
   "source": [
    "passo02 = passo02.dropna()\n",
    "passo02.head()"
   ]
  },
  {
   "cell_type": "code",
   "execution_count": 23,
   "id": "a5fa2ee7",
   "metadata": {},
   "outputs": [
    {
     "name": "stdout",
     "output_type": "stream",
     "text": [
      "Quantidade de linhas 2454 após excluir NAN's \n"
     ]
    }
   ],
   "source": [
    "print(f'Quantidade de linhas {passo02.shape[0]} após excluir NAN\\'s ')"
   ]
  },
  {
   "cell_type": "code",
   "execution_count": 24,
   "id": "c5e9b494",
   "metadata": {
    "scrolled": true
   },
   "outputs": [
    {
     "data": {
      "text/html": [
       "<div>\n",
       "<style scoped>\n",
       "    .dataframe tbody tr th:only-of-type {\n",
       "        vertical-align: middle;\n",
       "    }\n",
       "\n",
       "    .dataframe tbody tr th {\n",
       "        vertical-align: top;\n",
       "    }\n",
       "\n",
       "    .dataframe thead th {\n",
       "        text-align: right;\n",
       "    }\n",
       "</style>\n",
       "<table border=\"1\" class=\"dataframe\">\n",
       "  <thead>\n",
       "    <tr style=\"text-align: right;\">\n",
       "      <th></th>\n",
       "      <th>acordao</th>\n",
       "      <th>conteudo</th>\n",
       "    </tr>\n",
       "  </thead>\n",
       "  <tbody>\n",
       "    <tr>\n",
       "      <th>19</th>\n",
       "      <td>20</td>\n",
       "      <td>stado do Acre.  \\nACÓRDÃO Ne 176 \\nFeito \\t : ...</td>\n",
       "    </tr>\n",
       "    <tr>\n",
       "      <th>127</th>\n",
       "      <td>128</td>\n",
       "      <td>Tribunal de Contas do Estado do Acre\\nSecretar...</td>\n",
       "    </tr>\n",
       "    <tr>\n",
       "      <th>128</th>\n",
       "      <td>129</td>\n",
       "      <td>Tribunal de Contas do Estado do Acre\\nSecretar...</td>\n",
       "    </tr>\n",
       "    <tr>\n",
       "      <th>129</th>\n",
       "      <td>130</td>\n",
       "      <td>Tribunal de Contas do Estado do Acre\\nSecretar...</td>\n",
       "    </tr>\n",
       "    <tr>\n",
       "      <th>130</th>\n",
       "      <td>131</td>\n",
       "      <td>Tribunal de Contas do Estado do Acre\\nSecretar...</td>\n",
       "    </tr>\n",
       "  </tbody>\n",
       "</table>\n",
       "</div>"
      ],
      "text/plain": [
       "     acordao                                           conteudo\n",
       "19        20  stado do Acre.  \\nACÓRDÃO Ne 176 \\nFeito \\t : ...\n",
       "127      128  Tribunal de Contas do Estado do Acre\\nSecretar...\n",
       "128      129  Tribunal de Contas do Estado do Acre\\nSecretar...\n",
       "129      130  Tribunal de Contas do Estado do Acre\\nSecretar...\n",
       "130      131  Tribunal de Contas do Estado do Acre\\nSecretar..."
      ]
     },
     "execution_count": 24,
     "metadata": {},
     "output_type": "execute_result"
    }
   ],
   "source": [
    "passo02.head()"
   ]
  },
  {
   "cell_type": "markdown",
   "id": "f0584b84",
   "metadata": {},
   "source": [
    "# Lendo os indices existentes"
   ]
  },
  {
   "cell_type": "code",
   "execution_count": 25,
   "id": "e44b8bc5",
   "metadata": {},
   "outputs": [
    {
     "data": {
      "text/plain": [
       "Index([  19,  127,  128,  129,  130,  131,  132,  133,  134,  135,\n",
       "       ...\n",
       "       2610, 2611, 2612, 2613, 2614, 2615, 2616, 2617, 2618, 2619],\n",
       "      dtype='int64', length=2454)"
      ]
     },
     "execution_count": 25,
     "metadata": {},
     "output_type": "execute_result"
    }
   ],
   "source": [
    "indices = passo02.index\n",
    "indices"
   ]
  },
  {
   "cell_type": "markdown",
   "id": "06e42c3f",
   "metadata": {},
   "source": [
    "# Leitura registro a registro"
   ]
  },
  {
   "cell_type": "code",
   "execution_count": 26,
   "id": "9f636452",
   "metadata": {},
   "outputs": [],
   "source": [
    "def retorna_conteudo(lista,indice):\n",
    "  return lista.conteudo[indice]"
   ]
  },
  {
   "cell_type": "code",
   "execution_count": 27,
   "id": "de7c1c8b",
   "metadata": {},
   "outputs": [
    {
     "data": {
      "text/plain": [
       "'stado do Acre.  \\nACÓRDÃO Ne 176 \\nFeito \\t : Processo N 2  570/91-TCE/ACRE \\nRelator \\t : Conselheiro MARCILIANO REIS FLEMING \\nVoto Vencedor : Conselheiro ISNARD BASTOS BARBOSA LEITE \\nAssunto \\t : Contratos de Prestação de Serviços firmados en \\ntre a Secretaria de Transportes e Obras Públi-\\ncas e as firmas Azevedo Auditores Associados e \\nF. M. Barroso. \\nContrato de Prestação de Serviços \\nTúcnicos entre a Secretaria de \\nTransportes e Obras Públicas e \\nas firmas Azevedo Auditores Associa-\\ndos e F. M. Barroso, objetivando \\na execução de serviços tecnicos \\nespecializados - considerados irregu-\\nlares os Contratos de N 2  01 e 07/90. \\nVistos, relatados e discutidos os autos do \\nProcesso N 2  570/91, acima indicado,ACORDAMos Membros \\ndo Tribunal de Contas do Estado do Acre, por maioria, acolher \\no Voto Vencedor do Conselheiro Isnard Bastos Barbosa Leite, \\npara considerar irregulares Contratos de N 2  01 e 07/90, em \\nanálise, firmados na, gestão do Engenheiro Civil Ricardo fileira \\nEluan, então Secretario de Estado \\tde Transportes e Obras \\nPúblicas, comuncando-se esta decisão aos Chefes dos Poderes \\nExecutivo e Le O-AM:uivos  .respectivamente. Vencido, o Conse-\\nlheiro Relator, acompanhado do Conselheiro Alcides Dutra de \\nLima, que votaram pela notificação do Titular da Secretaria, \\npara sanar as irregularidades, cumpridas as exigencias do \\nDecreto-Lei N 2  2.300/86 e da Lei N 2  4.320/64. O Conselheiro \\nHelio Saraiva de Freitas, votou no sentido de considerar nulos \\nos contratos, por descumprimento das formalidades legais e \\npela notificação dos responsáveis, para, no prazo de trinta \\n(30) dias, devolver aos cofres públicos, os recursos indevida-\\nmente pagos, corrigidos, concedido igual prazo, para defesa, \\nquerendo.- \\nSala das Sessões do Tribunal de Contas do \\nRio Branco, 02 de abril de 1992. \\nCons. JOSÉ EUGE O DE LEÃO BRAGA \\nP re si clente '"
      ]
     },
     "execution_count": 27,
     "metadata": {},
     "output_type": "execute_result"
    }
   ],
   "source": [
    "passo02.conteudo[19]"
   ]
  },
  {
   "cell_type": "code",
   "execution_count": 28,
   "id": "c0662c7f",
   "metadata": {},
   "outputs": [],
   "source": [
    "def quantidade_ocorrencias(expressao_regular_a_procurar):\n",
    "    resultado = []\n",
    "    for i in indices:\n",
    "        previa = re.findall(expressao_regular_a_procurar,passo02.conteudo[i])\n",
    "        if previa != []:\n",
    "            resultado = resultado + previa\n",
    "    return len(resultado)"
   ]
  },
  {
   "cell_type": "markdown",
   "id": "05692276",
   "metadata": {},
   "source": [
    "# Fazendo pesquisa nos registros:"
   ]
  },
  {
   "cell_type": "code",
   "execution_count": 29,
   "id": "12d7401a",
   "metadata": {},
   "outputs": [
    {
     "data": {
      "text/plain": [
       "1"
      ]
     },
     "execution_count": 29,
     "metadata": {},
     "output_type": "execute_result"
    }
   ],
   "source": [
    "quantidade_ocorrencias(r\"^stado do Acre\\.\")"
   ]
  },
  {
   "cell_type": "code",
   "execution_count": 30,
   "id": "b01fcb04",
   "metadata": {},
   "outputs": [
    {
     "data": {
      "text/plain": [
       "546"
      ]
     },
     "execution_count": 30,
     "metadata": {},
     "output_type": "execute_result"
    }
   ],
   "source": [
    "# A C Ó R D Ã O \n",
    "quantidade_ocorrencias(r\" A C Ó R D Ã O \")"
   ]
  },
  {
   "cell_type": "code",
   "execution_count": 31,
   "id": "80332fa1",
   "metadata": {},
   "outputs": [
    {
     "data": {
      "text/plain": [
       "1258"
      ]
     },
     "execution_count": 31,
     "metadata": {},
     "output_type": "execute_result"
    }
   ],
   "source": [
    "#-.-.-.-.-.-.-.-.-.-.-.-.-.-.-.-.-.-.-.-.-.-.\n",
    "quantidade_ocorrencias(r\"(-\\.){1,}\")"
   ]
  },
  {
   "cell_type": "code",
   "execution_count": 32,
   "id": "7b62d143",
   "metadata": {},
   "outputs": [
    {
     "data": {
      "text/plain": [
       "105569"
      ]
     },
     "execution_count": 32,
     "metadata": {},
     "output_type": "execute_result"
    }
   ],
   "source": [
    "# quebras de linha\n",
    "quantidade_ocorrencias(r\"\\n\")"
   ]
  },
  {
   "cell_type": "code",
   "execution_count": 33,
   "id": "2e248008",
   "metadata": {},
   "outputs": [
    {
     "data": {
      "text/plain": [
       "89150"
      ]
     },
     "execution_count": 33,
     "metadata": {},
     "output_type": "execute_result"
    }
   ],
   "source": [
    "# espaços em branco em duplicidade\n",
    "quantidade_ocorrencias(r\"( ){2,}\")"
   ]
  },
  {
   "cell_type": "code",
   "execution_count": 34,
   "id": "481f604d",
   "metadata": {},
   "outputs": [],
   "source": [
    "def tipo_de_situacoes(expressao_regular_a_procurar):\n",
    "    resultado = []\n",
    "    for i in indices:\n",
    "        previa = re.findall(expressao_regular_a_procurar,passo01.conteudo[i])\n",
    "        if previa != []:\n",
    "            resultado.append(previa)\n",
    "    return resultado"
   ]
  },
  {
   "cell_type": "code",
   "execution_count": 35,
   "id": "54aa2e10",
   "metadata": {},
   "outputs": [
    {
     "data": {
      "text/plain": [
       "546"
      ]
     },
     "execution_count": 35,
     "metadata": {},
     "output_type": "execute_result"
    }
   ],
   "source": [
    "quantidade_ocorrencias(r\" A C Ó R D Ã O .........\")"
   ]
  },
  {
   "cell_type": "code",
   "execution_count": 36,
   "id": "dec841de",
   "metadata": {},
   "outputs": [
    {
     "data": {
      "text/plain": [
       "907"
      ]
     },
     "execution_count": 36,
     "metadata": {},
     "output_type": "execute_result"
    }
   ],
   "source": [
    "quantidade_ocorrencias(r\"Tribunal de Contas do Estado do Acre(.|\\n)Secretaria das Sessões\")"
   ]
  },
  {
   "cell_type": "code",
   "execution_count": 37,
   "id": "6f08d75f",
   "metadata": {},
   "outputs": [
    {
     "data": {
      "text/plain": [
       "1364"
      ]
     },
     "execution_count": 37,
     "metadata": {},
     "output_type": "execute_result"
    }
   ],
   "source": [
    "quantidade_ocorrencias(r\"Sala das Sessões do Tribunal de Contas do Estado do Acre\")"
   ]
  },
  {
   "cell_type": "code",
   "execution_count": 38,
   "id": "3be8aec3",
   "metadata": {},
   "outputs": [],
   "source": [
    "def substituir(texto_original,novo_texto,regex):\n",
    "    if type(texto_original) == str:\n",
    "        return regex.sub(novo_texto,texto_original)\n",
    "    else:\n",
    "        return[regex.sub(novo_texto,texto) for texto in textos]"
   ]
  },
  {
   "cell_type": "markdown",
   "id": "f49419aa",
   "metadata": {},
   "source": [
    "# Fazendo pré-compilação do regex para ganhar desempenho"
   ]
  },
  {
   "cell_type": "code",
   "execution_count": 39,
   "id": "bc532903",
   "metadata": {},
   "outputs": [],
   "source": [
    "regex_stado_do_acre = re.compile(r\"^stado do acre\\.\")"
   ]
  },
  {
   "cell_type": "code",
   "execution_count": 40,
   "id": "f29133c3",
   "metadata": {},
   "outputs": [],
   "source": [
    "regex_acordao = re.compile(r\"a c ó r d ã o\")"
   ]
  },
  {
   "cell_type": "code",
   "execution_count": 41,
   "id": "052c5eb3",
   "metadata": {},
   "outputs": [],
   "source": [
    "regex_pontos = re.compile(r\"\\.\")"
   ]
  },
  {
   "cell_type": "code",
   "execution_count": 42,
   "id": "8ef01f44",
   "metadata": {},
   "outputs": [],
   "source": [
    "regex_tracos = re.compile(r\"(-|-){1,}\")"
   ]
  },
  {
   "cell_type": "code",
   "execution_count": 43,
   "id": "57007f0e",
   "metadata": {},
   "outputs": [],
   "source": [
    "regex_acordam = re.compile(r\" a c o r d a m \")"
   ]
  },
  {
   "cell_type": "code",
   "execution_count": 44,
   "id": "0693da0b",
   "metadata": {},
   "outputs": [],
   "source": [
    "regex_espacos_em_branco_em_duplicidade = re.compile(r\"( {2,})\")"
   ]
  },
  {
   "cell_type": "code",
   "execution_count": 45,
   "id": "4c8b4619",
   "metadata": {},
   "outputs": [],
   "source": [
    "regex_tribunal_secretaria = re.compile(r\"tribunal de contas do estado do acre(.|\\n)secretaria das sessões\")"
   ]
  },
  {
   "cell_type": "code",
   "execution_count": 46,
   "id": "36b16d03",
   "metadata": {},
   "outputs": [],
   "source": [
    "regex_missao = re.compile(r\"(missão)(:|)(.*)(social)\")"
   ]
  },
  {
   "cell_type": "code",
   "execution_count": 47,
   "id": "2ce36dcf",
   "metadata": {},
   "outputs": [],
   "source": [
    "regex_endereco = re.compile(r\"(av ceará)(.|\\n)*(govbr)\")"
   ]
  },
  {
   "cell_type": "code",
   "execution_count": 48,
   "id": "3207e925",
   "metadata": {},
   "outputs": [],
   "source": [
    "regex_sala_das_sessoes = re.compile(r\"sala das sessões do tribunal de contas do estado do acre\")"
   ]
  },
  {
   "cell_type": "code",
   "execution_count": 49,
   "id": "30e293c6",
   "metadata": {},
   "outputs": [],
   "source": [
    "regex_dia_sessao = re.compile(r\"(rio branco )(.|)( acre)(,|)( [0-9][0-9] de | [0-9] de )(janeiro|fevereiro|março|maio|junho|julho|agosto|setembro|outubro|novembro|dezembro)( de )([0-9][0-9][0-9][0-9])(\\.|)\")"
   ]
  },
  {
   "cell_type": "code",
   "execution_count": 50,
   "id": "2f6a8dd3",
   "metadata": {},
   "outputs": [],
   "source": [
    "regex_virgula = re.compile(r\"( ,|,)\")"
   ]
  },
  {
   "cell_type": "code",
   "execution_count": 51,
   "id": "555bbbd7",
   "metadata": {},
   "outputs": [],
   "source": [
    "regex_janeiro = re.compile(r\"( de janeiro de )\")\n",
    "regex_fevereiro = re.compile(r\"( de fevereiro de )\")\n",
    "regex_marco = re.compile(r\"( de março de )\")\n",
    "regex_abril = re.compile(r\"( de abril de )\")\n",
    "regex_maio = re.compile(r\"( de maio de )\")\n",
    "regex_junho = re.compile(r\"( de junho de )\")\n",
    "regex_julho = re.compile(r\"( de julho de )\")\n",
    "regex_agosto = re.compile(r\"( de agosto de )\")\n",
    "regex_setembro = re.compile(r\"( de setembro de )\")\n",
    "regex_outubro = re.compile(r\"( de outubro de )\")\n",
    "regex_novembro = re.compile(r\"( de novembro de )\")\n",
    "regex_dezembro = re.compile(r\"( de dezembro de )\")"
   ]
  },
  {
   "cell_type": "code",
   "execution_count": 52,
   "id": "1adc284d",
   "metadata": {},
   "outputs": [],
   "source": [
    "regex_data = re.compile(r\"(rio branco )([0-9][0-9]\\/[0-9][0-9]\\/[0-9][0-9][0-9][0-9])\")"
   ]
  },
  {
   "cell_type": "code",
   "execution_count": 53,
   "id": "79999cd5",
   "metadata": {},
   "outputs": [],
   "source": [
    "regex_ultimas_linhas = re.compile(r\"(<fim?>)(.|\\n){1,}\")"
   ]
  },
  {
   "cell_type": "code",
   "execution_count": 54,
   "id": "a9c52f40",
   "metadata": {},
   "outputs": [],
   "source": [
    "regex_numero = re.compile(r\"acórdão n. \")"
   ]
  },
  {
   "cell_type": "code",
   "execution_count": 55,
   "id": "44885fc7",
   "metadata": {},
   "outputs": [],
   "source": [
    "regex_pontuacao = re.compile(r\"[^\\w\\s]\")"
   ]
  },
  {
   "cell_type": "code",
   "execution_count": 56,
   "id": "17672a26",
   "metadata": {},
   "outputs": [],
   "source": [
    "regex_quebra_de_linha = re.compile(r\"(\\n){1,}\")"
   ]
  },
  {
   "cell_type": "code",
   "execution_count": 57,
   "id": "419c5998",
   "metadata": {},
   "outputs": [],
   "source": [
    "regex_complemento_acordao = re.compile(r\"(plen)(á|a)(riotceac)\")"
   ]
  },
  {
   "cell_type": "code",
   "execution_count": 58,
   "id": "03953236",
   "metadata": {
    "scrolled": true
   },
   "outputs": [],
   "source": [
    "import time"
   ]
  },
  {
   "cell_type": "code",
   "execution_count": 59,
   "id": "562a641b",
   "metadata": {},
   "outputs": [],
   "source": [
    "def tratar_textos(tabela):\n",
    "    print(f'Aguarde um momento ...')\n",
    "    time.sleep(0.3)\n",
    "    for i in tabela.index:\n",
    "        antes = tabela.conteudo[i].lower()\n",
    "        depois = substituir(antes,\" \",regex_stado_do_acre)\n",
    "        depois = substituir(depois,\" \",regex_complemento_acordao)\n",
    "        depois = substituir(depois,\" acórdão \",regex_acordao)\n",
    "        depois = substituir(depois,\"\",regex_pontos)\n",
    "        depois = substituir(depois,\"\",regex_tracos)\n",
    "        depois = substituir(depois,\" acordam \",regex_acordam)\n",
    "        depois = substituir(depois,\" \",regex_tribunal_secretaria)\n",
    "        depois = substituir(depois,\" \",regex_missao)\n",
    "        depois = substituir(depois,\" \",regex_endereco)\n",
    "        depois = substituir(depois,\" \",regex_sala_das_sessoes)\n",
    "        depois = substituir(depois,r\"\\1\\4\\5\\6\\7\\8\",regex_dia_sessao)\n",
    "        depois = substituir(depois,\" \",regex_virgula)\n",
    "        \n",
    "        depois = substituir(depois,\"/01/\",regex_janeiro)\n",
    "        depois = substituir(depois,\"/02/\",regex_fevereiro)\n",
    "        depois = substituir(depois,\"/03/\",regex_marco)\n",
    "        depois = substituir(depois,\"/04/\",regex_abril)\n",
    "        depois = substituir(depois,\"/05/\",regex_maio)\n",
    "        depois = substituir(depois,\"/06/\",regex_junho)\n",
    "        depois = substituir(depois,\"/07/\",regex_julho)\n",
    "        depois = substituir(depois,\"/08/\",regex_agosto)\n",
    "        depois = substituir(depois,\"/09/\",regex_setembro)\n",
    "        depois = substituir(depois,\"/10/\",regex_outubro)\n",
    "        depois = substituir(depois,\"/11/\",regex_novembro)\n",
    "        depois = substituir(depois,\"/12/\",regex_dezembro)\n",
    "        \n",
    "        depois = substituir(depois,r\"\\1\\2 <fim>\",regex_data)\n",
    "        depois = substituir(depois,\" \",regex_ultimas_linhas)\n",
    "        depois = substituir(depois,\"acórdão nº \",regex_numero)\n",
    "        depois = substituir(depois,\"\",regex_pontuacao)\n",
    "        depois = substituir(depois,\" \",regex_quebra_de_linha)\n",
    "        \n",
    "        depois = substituir(depois,\" \",regex_espacos_em_branco_em_duplicidade)\n",
    "        \n",
    "        tabela.loc[i,'conteudo_atualizado'] = depois\n",
    "    print('Texto processado com sucesso !')"
   ]
  },
  {
   "cell_type": "code",
   "execution_count": 60,
   "id": "526c95cd",
   "metadata": {},
   "outputs": [
    {
     "name": "stdout",
     "output_type": "stream",
     "text": [
      "Aguarde um momento ...\n",
      "Texto processado com sucesso !\n"
     ]
    }
   ],
   "source": [
    "tratar_textos(passo02)"
   ]
  },
  {
   "cell_type": "code",
   "execution_count": 61,
   "id": "e8554488",
   "metadata": {},
   "outputs": [
    {
     "data": {
      "text/html": [
       "<div>\n",
       "<style scoped>\n",
       "    .dataframe tbody tr th:only-of-type {\n",
       "        vertical-align: middle;\n",
       "    }\n",
       "\n",
       "    .dataframe tbody tr th {\n",
       "        vertical-align: top;\n",
       "    }\n",
       "\n",
       "    .dataframe thead th {\n",
       "        text-align: right;\n",
       "    }\n",
       "</style>\n",
       "<table border=\"1\" class=\"dataframe\">\n",
       "  <thead>\n",
       "    <tr style=\"text-align: right;\">\n",
       "      <th></th>\n",
       "      <th>acordao</th>\n",
       "      <th>conteudo</th>\n",
       "      <th>conteudo_atualizado</th>\n",
       "    </tr>\n",
       "  </thead>\n",
       "  <tbody>\n",
       "    <tr>\n",
       "      <th>19</th>\n",
       "      <td>20</td>\n",
       "      <td>stado do Acre.  \\nACÓRDÃO Ne 176 \\nFeito \\t : ...</td>\n",
       "      <td>acórdão nº 176 feito \\t processo n 2 57091tce...</td>\n",
       "    </tr>\n",
       "    <tr>\n",
       "      <th>127</th>\n",
       "      <td>128</td>\n",
       "      <td>Tribunal de Contas do Estado do Acre\\nSecretar...</td>\n",
       "      <td>acórdão nº 7556 natureza do feito processo nº...</td>\n",
       "    </tr>\n",
       "    <tr>\n",
       "      <th>128</th>\n",
       "      <td>129</td>\n",
       "      <td>Tribunal de Contas do Estado do Acre\\nSecretar...</td>\n",
       "      <td>acórdão nº 7557 natureza do feito processo nº...</td>\n",
       "    </tr>\n",
       "    <tr>\n",
       "      <th>129</th>\n",
       "      <td>130</td>\n",
       "      <td>Tribunal de Contas do Estado do Acre\\nSecretar...</td>\n",
       "      <td>acórdão nº 7560 natureza do feito processo nº...</td>\n",
       "    </tr>\n",
       "    <tr>\n",
       "      <th>130</th>\n",
       "      <td>131</td>\n",
       "      <td>Tribunal de Contas do Estado do Acre\\nSecretar...</td>\n",
       "      <td>acórdão nº 7564 natureza do feito processo nº...</td>\n",
       "    </tr>\n",
       "  </tbody>\n",
       "</table>\n",
       "</div>"
      ],
      "text/plain": [
       "     acordao                                           conteudo  \\\n",
       "19        20  stado do Acre.  \\nACÓRDÃO Ne 176 \\nFeito \\t : ...   \n",
       "127      128  Tribunal de Contas do Estado do Acre\\nSecretar...   \n",
       "128      129  Tribunal de Contas do Estado do Acre\\nSecretar...   \n",
       "129      130  Tribunal de Contas do Estado do Acre\\nSecretar...   \n",
       "130      131  Tribunal de Contas do Estado do Acre\\nSecretar...   \n",
       "\n",
       "                                   conteudo_atualizado  \n",
       "19    acórdão nº 176 feito \\t processo n 2 57091tce...  \n",
       "127   acórdão nº 7556 natureza do feito processo nº...  \n",
       "128   acórdão nº 7557 natureza do feito processo nº...  \n",
       "129   acórdão nº 7560 natureza do feito processo nº...  \n",
       "130   acórdão nº 7564 natureza do feito processo nº...  "
      ]
     },
     "execution_count": 61,
     "metadata": {},
     "output_type": "execute_result"
    }
   ],
   "source": [
    "passo02.head()"
   ]
  },
  {
   "cell_type": "code",
   "execution_count": 65,
   "id": "2727ef62",
   "metadata": {},
   "outputs": [],
   "source": [
    "passo03 = pd.read_excel(f\"{diretorio_planilhas}\\\\acordaos01.xlsx\")"
   ]
  },
  {
   "cell_type": "code",
   "execution_count": 66,
   "id": "4a3ad846",
   "metadata": {},
   "outputs": [
    {
     "data": {
      "text/html": [
       "<div>\n",
       "<style scoped>\n",
       "    .dataframe tbody tr th:only-of-type {\n",
       "        vertical-align: middle;\n",
       "    }\n",
       "\n",
       "    .dataframe tbody tr th {\n",
       "        vertical-align: top;\n",
       "    }\n",
       "\n",
       "    .dataframe thead th {\n",
       "        text-align: right;\n",
       "    }\n",
       "</style>\n",
       "<table border=\"1\" class=\"dataframe\">\n",
       "  <thead>\n",
       "    <tr style=\"text-align: right;\">\n",
       "      <th></th>\n",
       "      <th>acordao</th>\n",
       "      <th>conteudo</th>\n",
       "    </tr>\n",
       "  </thead>\n",
       "  <tbody>\n",
       "  </tbody>\n",
       "</table>\n",
       "</div>"
      ],
      "text/plain": [
       "Empty DataFrame\n",
       "Columns: [acordao, conteudo]\n",
       "Index: []"
      ]
     },
     "execution_count": 66,
     "metadata": {},
     "output_type": "execute_result"
    }
   ],
   "source": [
    "passo03.head()"
   ]
  },
  {
   "cell_type": "code",
   "execution_count": 67,
   "id": "aad6fa14",
   "metadata": {},
   "outputs": [],
   "source": [
    "passo03['acordao'] = passo02['acordao']\n",
    "passo03['conteudo'] = passo02['conteudo_atualizado']"
   ]
  },
  {
   "cell_type": "code",
   "execution_count": 68,
   "id": "03a2c120",
   "metadata": {},
   "outputs": [
    {
     "data": {
      "text/html": [
       "<div>\n",
       "<style scoped>\n",
       "    .dataframe tbody tr th:only-of-type {\n",
       "        vertical-align: middle;\n",
       "    }\n",
       "\n",
       "    .dataframe tbody tr th {\n",
       "        vertical-align: top;\n",
       "    }\n",
       "\n",
       "    .dataframe thead th {\n",
       "        text-align: right;\n",
       "    }\n",
       "</style>\n",
       "<table border=\"1\" class=\"dataframe\">\n",
       "  <thead>\n",
       "    <tr style=\"text-align: right;\">\n",
       "      <th></th>\n",
       "      <th>acordao</th>\n",
       "      <th>conteudo</th>\n",
       "    </tr>\n",
       "  </thead>\n",
       "  <tbody>\n",
       "    <tr>\n",
       "      <th>19</th>\n",
       "      <td>20</td>\n",
       "      <td>acórdão nº 176 feito \\t processo n 2 57091tce...</td>\n",
       "    </tr>\n",
       "    <tr>\n",
       "      <th>127</th>\n",
       "      <td>128</td>\n",
       "      <td>acórdão nº 7556 natureza do feito processo nº...</td>\n",
       "    </tr>\n",
       "    <tr>\n",
       "      <th>128</th>\n",
       "      <td>129</td>\n",
       "      <td>acórdão nº 7557 natureza do feito processo nº...</td>\n",
       "    </tr>\n",
       "    <tr>\n",
       "      <th>129</th>\n",
       "      <td>130</td>\n",
       "      <td>acórdão nº 7560 natureza do feito processo nº...</td>\n",
       "    </tr>\n",
       "    <tr>\n",
       "      <th>130</th>\n",
       "      <td>131</td>\n",
       "      <td>acórdão nº 7564 natureza do feito processo nº...</td>\n",
       "    </tr>\n",
       "  </tbody>\n",
       "</table>\n",
       "</div>"
      ],
      "text/plain": [
       "     acordao                                           conteudo\n",
       "19        20   acórdão nº 176 feito \\t processo n 2 57091tce...\n",
       "127      128   acórdão nº 7556 natureza do feito processo nº...\n",
       "128      129   acórdão nº 7557 natureza do feito processo nº...\n",
       "129      130   acórdão nº 7560 natureza do feito processo nº...\n",
       "130      131   acórdão nº 7564 natureza do feito processo nº..."
      ]
     },
     "execution_count": 68,
     "metadata": {},
     "output_type": "execute_result"
    }
   ],
   "source": [
    "passo03.head()"
   ]
  },
  {
   "cell_type": "code",
   "execution_count": 69,
   "id": "be51c565",
   "metadata": {},
   "outputs": [],
   "source": [
    "# salvando as informações em acordaos.xLsx        \n",
    "passo03.to_excel(f\"{diretorio_planilhas}\\\\acordaos03.xlsx\")"
   ]
  },
  {
   "cell_type": "markdown",
   "id": "b5b95e20",
   "metadata": {},
   "source": [
    "# Continuar do Grupo NLP 03"
   ]
  },
  {
   "cell_type": "code",
   "execution_count": 70,
   "id": "a4594ee4",
   "metadata": {},
   "outputs": [
    {
     "data": {
      "text/plain": [
       "' acórdão nº 7582 natureza do feito processo nº 18840200775tce assunto prestação de contas da secretaria de extrativismo e produção familiar do estado do acre seprof exercício de 2006 responsável senhora denise regina garrafiel relator conselheiro valmir gomes ribeiro prestação de contas secretaria de extrativismo e produção familiar do estado do acre ausência do nome e assinatura do responsável pela contabilidade ausência dos atos que designaram as comissões para proceder ao inventário anual e do inventário geral de bens móveis divergência de valores entre a variação constante do anexo 14a e o inventário físico regularidade com ressalva arquivamento do processo vistos relatados e discutidos os autos do processo acima identificado acordam os membros do tribunal de contas do estado do acre à unanimidade nos termos do voto do conselheirorelator considerar regular com ressalva a prestação de contas em epígrafe de responsabilidade da senhora denise regina garrafiel secretária de estado com fulcro no inciso ii do art 51 da lei complementar estadual n 3893 valendo como ressalva a ausência do nome e assinatura do responsável pela contabilidade dos atos que designaram as comissões para proceder ao inventário anual e do inventário geral de bens móveis e a divergência de valores entre a variação constante do anexo 14a fl 154 e o inventário físico após as formalidades de estilo pelo arquivamento do processo rio branco 09022012 conselheiro ronald polanco ribeiro presidente do tceacre conselheiro valmir gomes ribeiro relator fui presente joão izidro de melo neto procuradorchefe do mpetceacre'"
      ]
     },
     "execution_count": 70,
     "metadata": {},
     "output_type": "execute_result"
    }
   ],
   "source": [
    "passo03.conteudo[145]"
   ]
  },
  {
   "cell_type": "markdown",
   "id": "97f698cb",
   "metadata": {},
   "source": [
    "# Continuar no notebook Grupo_NLP_03.ipynb\n",
    "------\n",
    "Para cada etapa teremos novos notebook's (*.ipynb) e planilha's (*.xls) para manter a independência entre cada etapa.\n",
    "\n",
    "Havendo erro a corrigir será feito de forma independente."
   ]
  }
 ],
 "metadata": {
  "kernelspec": {
   "display_name": "Python 3 (ipykernel)",
   "language": "python",
   "name": "python3"
  },
  "language_info": {
   "codemirror_mode": {
    "name": "ipython",
    "version": 3
   },
   "file_extension": ".py",
   "mimetype": "text/x-python",
   "name": "python",
   "nbconvert_exporter": "python",
   "pygments_lexer": "ipython3",
   "version": "3.11.5"
  }
 },
 "nbformat": 4,
 "nbformat_minor": 5
}
