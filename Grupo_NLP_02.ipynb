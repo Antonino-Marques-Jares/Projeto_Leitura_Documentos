{
 "cells": [
  {
   "cell_type": "markdown",
   "id": "18d2ff4d",
   "metadata": {},
   "source": [
    "# A\\) Etapas do Pré - Processamento\n",
    "## 2) Fazer a leitura do xls que foi criado na etapa anterior e retirar NAN'S\n",
    "## 3\\) Fazer a leitura do xls anterior e retirar texto inicial e final que não será objeto do estudo\n",
    "\n",
    "> \n",
    ">Utilizaremos programação Python com biblioteca PANDAS e Expressão Regular\n",
    "> "
   ]
  },
  {
   "cell_type": "code",
   "execution_count": 107,
   "id": "59ea916e",
   "metadata": {},
   "outputs": [],
   "source": [
    "import glob\n",
    "import pandas as pd\n",
    "import re\n",
    "from pypdf import PdfReader"
   ]
  },
  {
   "cell_type": "code",
   "execution_count": 108,
   "id": "07f57c91",
   "metadata": {},
   "outputs": [],
   "source": [
    "diretorio_planilhas = \"C:\\\\Users\\\\anton\\OneDrive - Casa Jares\\\\Projeto_BI_Ciencia_Dados\\\\Projeto_Leitura_Documentos\\\\planilhas\""
   ]
  },
  {
   "cell_type": "code",
   "execution_count": 109,
   "id": "27395474",
   "metadata": {},
   "outputs": [],
   "source": [
    "def substituir(texto_atual,texto_novo,regex):\n",
    "    if type(texto_atual) == str:\n",
    "        return regex.sub(texto_novo,texto_atual)\n",
    "    else:\n",
    "        return[regex.sub(texto_novo,texto) for texto in textos]"
   ]
  },
  {
   "cell_type": "markdown",
   "id": "dad74eab",
   "metadata": {},
   "source": [
    "# Continuando a partir do acordao 01"
   ]
  },
  {
   "cell_type": "markdown",
   "id": "4b9e2dad",
   "metadata": {},
   "source": [
    "# Apagando coluna 'Unnamed: 0'"
   ]
  },
  {
   "cell_type": "code",
   "execution_count": 110,
   "id": "71c75bf2",
   "metadata": {},
   "outputs": [
    {
     "data": {
      "text/html": [
       "<div>\n",
       "<style scoped>\n",
       "    .dataframe tbody tr th:only-of-type {\n",
       "        vertical-align: middle;\n",
       "    }\n",
       "\n",
       "    .dataframe tbody tr th {\n",
       "        vertical-align: top;\n",
       "    }\n",
       "\n",
       "    .dataframe thead th {\n",
       "        text-align: right;\n",
       "    }\n",
       "</style>\n",
       "<table border=\"1\" class=\"dataframe\">\n",
       "  <thead>\n",
       "    <tr style=\"text-align: right;\">\n",
       "      <th></th>\n",
       "      <th>indice</th>\n",
       "      <th>conteudo</th>\n",
       "    </tr>\n",
       "  </thead>\n",
       "  <tbody>\n",
       "    <tr>\n",
       "      <th>0</th>\n",
       "      <td>19</td>\n",
       "      <td>stado do Acre.  \\nACÓRDÃO Ne 176 \\nFeito \\t : ...</td>\n",
       "    </tr>\n",
       "    <tr>\n",
       "      <th>1</th>\n",
       "      <td>127</td>\n",
       "      <td>Tribunal de Contas do Estado do Acre\\nSecretar...</td>\n",
       "    </tr>\n",
       "    <tr>\n",
       "      <th>2</th>\n",
       "      <td>128</td>\n",
       "      <td>Tribunal de Contas do Estado do Acre\\nSecretar...</td>\n",
       "    </tr>\n",
       "    <tr>\n",
       "      <th>3</th>\n",
       "      <td>129</td>\n",
       "      <td>Tribunal de Contas do Estado do Acre\\nSecretar...</td>\n",
       "    </tr>\n",
       "    <tr>\n",
       "      <th>4</th>\n",
       "      <td>130</td>\n",
       "      <td>Tribunal de Contas do Estado do Acre\\nSecretar...</td>\n",
       "    </tr>\n",
       "  </tbody>\n",
       "</table>\n",
       "</div>"
      ],
      "text/plain": [
       "   indice                                           conteudo\n",
       "0      19  stado do Acre.  \\nACÓRDÃO Ne 176 \\nFeito \\t : ...\n",
       "1     127  Tribunal de Contas do Estado do Acre\\nSecretar...\n",
       "2     128  Tribunal de Contas do Estado do Acre\\nSecretar...\n",
       "3     129  Tribunal de Contas do Estado do Acre\\nSecretar...\n",
       "4     130  Tribunal de Contas do Estado do Acre\\nSecretar..."
      ]
     },
     "execution_count": 110,
     "metadata": {},
     "output_type": "execute_result"
    }
   ],
   "source": [
    "passo01 = pd.read_excel(f\"{diretorio_planilhas}\\\\acordaos01.xlsx\")\n",
    "del passo01[\"Unnamed: 0\"]\n",
    "# atualiza\n",
    "passo01 = passo01\n",
    "passo01.head()"
   ]
  },
  {
   "cell_type": "markdown",
   "id": "06e42c3f",
   "metadata": {},
   "source": [
    "# Leitura registro a registro"
   ]
  },
  {
   "cell_type": "code",
   "execution_count": 111,
   "id": "9f636452",
   "metadata": {},
   "outputs": [],
   "source": [
    "def retorna_conteudo(lista,indice):\n",
    "  return lista.conteudo[indice]"
   ]
  },
  {
   "cell_type": "code",
   "execution_count": 112,
   "id": "de7c1c8b",
   "metadata": {},
   "outputs": [
    {
     "data": {
      "text/plain": [
       "'Tribunal de Contas do Estado do Acre\\nSecretaria das Sessões\\nMissão: Exercer o controle externo, orientando e fiscalizando a gestão pública, e incentivar a sociedade ao exercício do controle social.\\nAv. Ceará, 2994, Jardim Nazle – Rio Branco – Acre – Cep.: 69.907-000\\nTelefone: (68)3025-2039 – Fonefax: (68)3025-2041 – Email: pres@tce.ac.gov.br      A C Ó R D Ã O  Nº 7.582\\nNATUREZA DO FEITO: Processo nº 18.840.2007-75-TCE\\nASSUNTO: Prestação de Contas da Secretaria de Extrativismo e\\nProdução Familiar do Estado do Acre – SEPROF, exercício\\nde 2006 .\\nRESPONSÁVEL:  Senhora  Denise Regina Garrafiel\\nRELATOR:  Conselheiro Valmir Gomes Ribeiro\\nPrestação de Contas. Secretaria de Extrativismo e Produção Familiar do\\nEstado do Acre. Ausência do nome e assinatura do responsável pela\\ncontabilidade. Ausência dos atos que designaram as comissões para\\nproceder ao Inventário Anual e do Inventário Geral de Bens Móveis.\\nDivergência de valores entre a variação constante do Anexo 14A e o\\nInventário Físico. Regularidade com ressalva. Arquivamento do processo.\\nVistos, relatados e discutidos os autos do processo acima\\nidentificado, A C O R D A M os Membros do Tribunal de Contas do Estado do Acre,\\nà unanimidade ,nos termos do voto do Conselheiro-Relator, considerar regular\\ncom ressalva a Prestação de Contas em epígrafe, de responsabilidade da Senhora\\nDenise Regina Garrafiel – Secretária de Estado, com fulcro no inciso II do art. 51\\nda Lei Complementar Estadual n° 38/93, valendo como ressalva a ausência do\\nnome e assinatura do responsável pela contabilidade, dos atos que designaram as\\ncomissões para proceder ao Inventário Anual e do Inventário Geral de Bens Móveis\\ne a divergência de valores entre a variação constante do Anexo 14A (fl. 154) e o\\nInventário Físico. Após as formalidades de estilo, pelo arquivamento do\\nprocesso.-.-.-\\nSala das Sessões do Tribunal de Contas do Estado do Acre\\nRio Branco – Acre, 09 de fevereiro de 2012\\nConselheiro RONALD POLANCO RIBEIRO\\nPresidente do TCE/ACRE\\nConselheiro VALMIR GOMES RIBEIRO\\nRelator\\nFui presente:\\nJOÃO IZIDRO DE MELO NETO\\nProcurador-Chefe do M.P.E/TCE/ACRE'"
      ]
     },
     "execution_count": 112,
     "metadata": {},
     "output_type": "execute_result"
    }
   ],
   "source": [
    "passo01.conteudo[19]"
   ]
  },
  {
   "cell_type": "code",
   "execution_count": 113,
   "id": "c0662c7f",
   "metadata": {},
   "outputs": [],
   "source": [
    "def quantidade_ocorrencias(expressao_regular_a_procurar):\n",
    "    resultado = []\n",
    "    for i in indices:\n",
    "        previa = re.findall(expressao_regular_a_procurar,passo02.conteudo[i])\n",
    "        if previa != []:\n",
    "            resultado = resultado + previa\n",
    "    return f\"Encontrado {len(resultado)} vezes\""
   ]
  },
  {
   "cell_type": "markdown",
   "id": "05692276",
   "metadata": {},
   "source": [
    "# Fazendo pesquisa nos registros:"
   ]
  },
  {
   "cell_type": "code",
   "execution_count": 114,
   "id": "12d7401a",
   "metadata": {},
   "outputs": [
    {
     "data": {
      "text/plain": [
       "'Encontrado 1 vezes'"
      ]
     },
     "execution_count": 114,
     "metadata": {},
     "output_type": "execute_result"
    }
   ],
   "source": [
    "quantidade_ocorrencias(r\"^stado do Acre\\.\")"
   ]
  },
  {
   "cell_type": "code",
   "execution_count": 115,
   "id": "b01fcb04",
   "metadata": {},
   "outputs": [
    {
     "data": {
      "text/plain": [
       "'Encontrado 546 vezes'"
      ]
     },
     "execution_count": 115,
     "metadata": {},
     "output_type": "execute_result"
    }
   ],
   "source": [
    "# A C Ó R D Ã O \n",
    "quantidade_ocorrencias(r\" A C Ó R D Ã O \")"
   ]
  },
  {
   "cell_type": "code",
   "execution_count": 116,
   "id": "80332fa1",
   "metadata": {},
   "outputs": [
    {
     "data": {
      "text/plain": [
       "'Encontrado 1258 vezes'"
      ]
     },
     "execution_count": 116,
     "metadata": {},
     "output_type": "execute_result"
    }
   ],
   "source": [
    "#-.-.-.-.-.-.-.-.-.-.-.-.-.-.-.-.-.-.-.-.-.-.\n",
    "quantidade_ocorrencias(r\"(-\\.){1,}\")"
   ]
  },
  {
   "cell_type": "code",
   "execution_count": 117,
   "id": "7b62d143",
   "metadata": {},
   "outputs": [
    {
     "data": {
      "text/plain": [
       "'Encontrado 105569 vezes'"
      ]
     },
     "execution_count": 117,
     "metadata": {},
     "output_type": "execute_result"
    }
   ],
   "source": [
    "# quebras de linha\n",
    "quantidade_ocorrencias(r\"\\n\")"
   ]
  },
  {
   "cell_type": "code",
   "execution_count": 118,
   "id": "2e248008",
   "metadata": {},
   "outputs": [
    {
     "data": {
      "text/plain": [
       "'Encontrado 89150 vezes'"
      ]
     },
     "execution_count": 118,
     "metadata": {},
     "output_type": "execute_result"
    }
   ],
   "source": [
    "# espaços em branco em duplicidade\n",
    "quantidade_ocorrencias(r\"( ){2,}\")"
   ]
  },
  {
   "cell_type": "code",
   "execution_count": 119,
   "id": "54aa2e10",
   "metadata": {},
   "outputs": [
    {
     "data": {
      "text/plain": [
       "'Encontrado 546 vezes'"
      ]
     },
     "execution_count": 119,
     "metadata": {},
     "output_type": "execute_result"
    }
   ],
   "source": [
    "quantidade_ocorrencias(r\" A C Ó R D Ã O .........\")"
   ]
  },
  {
   "cell_type": "code",
   "execution_count": 120,
   "id": "dec841de",
   "metadata": {},
   "outputs": [
    {
     "data": {
      "text/plain": [
       "'Encontrado 907 vezes'"
      ]
     },
     "execution_count": 120,
     "metadata": {},
     "output_type": "execute_result"
    }
   ],
   "source": [
    "quantidade_ocorrencias(r\"Tribunal de Contas do Estado do Acre(.|\\n)Secretaria das Sessões\")"
   ]
  },
  {
   "cell_type": "code",
   "execution_count": 121,
   "id": "6f08d75f",
   "metadata": {},
   "outputs": [
    {
     "data": {
      "text/plain": [
       "'Encontrado 1364 vezes'"
      ]
     },
     "execution_count": 121,
     "metadata": {},
     "output_type": "execute_result"
    }
   ],
   "source": [
    "quantidade_ocorrencias(r\"Sala das Sessões do Tribunal de Contas do Estado do Acre\")"
   ]
  },
  {
   "cell_type": "code",
   "execution_count": 122,
   "id": "3be8aec3",
   "metadata": {},
   "outputs": [],
   "source": [
    "def substituir(texto_original,novo_texto,regex):\n",
    "    if type(texto_original) == str:\n",
    "        return regex.sub(novo_texto,texto_original)\n",
    "    else:\n",
    "        return[regex.sub(novo_texto,texto) for texto in textos]"
   ]
  },
  {
   "cell_type": "markdown",
   "id": "f49419aa",
   "metadata": {},
   "source": [
    "# Fazendo pré-compilação do regex para ganhar desempenho"
   ]
  },
  {
   "cell_type": "code",
   "execution_count": 123,
   "id": "bc532903",
   "metadata": {},
   "outputs": [],
   "source": [
    "regex_stado_do_acre = re.compile(r\"^stado do acre\\.\")\n",
    "regex_acordao = re.compile(r\"a c ó r d ã o\")\n",
    "regex_pontos = re.compile(r\"\\.\")\n",
    "regex_tracos = re.compile(r\"(-|-){1,}\")\n",
    "regex_acordam = re.compile(r\" a c o r d a m \")\n",
    "regex_espacos_em_branco_em_duplicidade = re.compile(r\"( {2,})\")\n",
    "regex_tribunal_secretaria = re.compile(r\"tribunal de contas do estado do acre(.|\\n)secretaria das sessões\")\n",
    "regex_missao = re.compile(r\"(missão)(:|)(.*)(social)\")\n",
    "regex_endereco = re.compile(r\"(av ceará)(.|\\n)*(govbr)\")\n",
    "regex_sala_das_sessoes = re.compile(r\"sala das sessões do tribunal de contas do estado do acre\")\n",
    "regex_dia_sessao = re.compile(r\"(rio branco )(.|)( acre)(,|)( [0-9][0-9] de | [0-9] de )(janeiro|fevereiro|março|maio|junho|julho|agosto|setembro|outubro|novembro|dezembro)( de )([0-9][0-9][0-9][0-9])(\\.|)\")\n",
    "regex_virgula = re.compile(r\"( ,|,)\")\n",
    "regex_janeiro = re.compile(r\"( de janeiro de )\")\n",
    "regex_fevereiro = re.compile(r\"( de fevereiro de )\")\n",
    "regex_marco = re.compile(r\"( de março de )\")\n",
    "regex_abril = re.compile(r\"( de abril de )\")\n",
    "regex_maio = re.compile(r\"( de maio de )\")\n",
    "regex_junho = re.compile(r\"( de junho de )\")\n",
    "regex_julho = re.compile(r\"( de julho de )\")\n",
    "regex_agosto = re.compile(r\"( de agosto de )\")\n",
    "regex_setembro = re.compile(r\"( de setembro de )\")\n",
    "regex_outubro = re.compile(r\"( de outubro de )\")\n",
    "regex_novembro = re.compile(r\"( de novembro de )\")\n",
    "regex_dezembro = re.compile(r\"( de dezembro de )\")\n",
    "regex_data = re.compile(r\"(rio branco )([0-9][0-9]\\/[0-9][0-9]\\/[0-9][0-9][0-9][0-9])\")\n",
    "regex_ultimas_linhas = re.compile(r\"(<fim?>)(.|\\n){1,}\")\n",
    "regex_numero = re.compile(r\"acórdão n. \")\n",
    "regex_pontuacao = re.compile(r\"[^\\w\\s]\")\n",
    "regex_quebra_de_linha = re.compile(r\"(\\n){1,}\")\n",
    "regex_complemento_acordao = re.compile(r\"(plen)(á|a)(riotceac)\")"
   ]
  },
  {
   "cell_type": "code",
   "execution_count": 129,
   "id": "562a641b",
   "metadata": {},
   "outputs": [],
   "source": [
    "def retorna_texto_tratado(tabela):\n",
    "    print('Aguarde', end = \"\")\n",
    "    for i in tabela.index:\n",
    "        antes = tabela.conteudo[i].lower()\n",
    "        depois = substituir(antes,\" \",regex_stado_do_acre)\n",
    "        depois = substituir(depois,\" \",regex_complemento_acordao)\n",
    "        depois = substituir(depois,\" acórdão \",regex_acordao)\n",
    "        depois = substituir(depois,\"\",regex_pontos)\n",
    "        depois = substituir(depois,\"\",regex_tracos)\n",
    "        depois = substituir(depois,\" acordam \",regex_acordam)\n",
    "        depois = substituir(depois,\" \",regex_tribunal_secretaria)\n",
    "        depois = substituir(depois,\" \",regex_missao)\n",
    "        depois = substituir(depois,\" \",regex_endereco)\n",
    "        depois = substituir(depois,\" \",regex_sala_das_sessoes)\n",
    "        depois = substituir(depois,r\"\\1\\4\\5\\6\\7\\8\",regex_dia_sessao)\n",
    "        depois = substituir(depois,\" \",regex_virgula)\n",
    "        depois = substituir(depois,\"/01/\",regex_janeiro)\n",
    "        depois = substituir(depois,\"/02/\",regex_fevereiro)\n",
    "        depois = substituir(depois,\"/03/\",regex_marco)\n",
    "        depois = substituir(depois,\"/04/\",regex_abril)\n",
    "        depois = substituir(depois,\"/05/\",regex_maio)\n",
    "        depois = substituir(depois,\"/06/\",regex_junho)\n",
    "        depois = substituir(depois,\"/07/\",regex_julho)\n",
    "        depois = substituir(depois,\"/08/\",regex_agosto)\n",
    "        depois = substituir(depois,\"/09/\",regex_setembro)\n",
    "        depois = substituir(depois,\"/10/\",regex_outubro)\n",
    "        depois = substituir(depois,\"/11/\",regex_novembro)\n",
    "        depois = substituir(depois,\"/12/\",regex_dezembro)\n",
    "        depois = substituir(depois,r\"\\1\\2 <fim>\",regex_data)\n",
    "        depois = substituir(depois,\" \",regex_ultimas_linhas)\n",
    "        depois = substituir(depois,\"acórdão nº \",regex_numero)\n",
    "        depois = substituir(depois,\"\",regex_pontuacao)\n",
    "        depois = substituir(depois,\" \",regex_quebra_de_linha)\n",
    "        \n",
    "        depois = substituir(depois,\" \",regex_espacos_em_branco_em_duplicidade)\n",
    "        \n",
    "        tabela.loc[i,'conteudo'] = depois\n",
    "        print('..', end = \"\")\n",
    "\n",
    "    print('\\nTexto processado com sucesso !')"
   ]
  },
  {
   "cell_type": "code",
   "execution_count": 130,
   "id": "526c95cd",
   "metadata": {},
   "outputs": [
    {
     "name": "stdout",
     "output_type": "stream",
     "text": [
      "Aguarde um momento ...\n",
      "Texto processado com sucesso !\n"
     ]
    },
    {
     "data": {
      "text/html": [
       "<div>\n",
       "<style scoped>\n",
       "    .dataframe tbody tr th:only-of-type {\n",
       "        vertical-align: middle;\n",
       "    }\n",
       "\n",
       "    .dataframe tbody tr th {\n",
       "        vertical-align: top;\n",
       "    }\n",
       "\n",
       "    .dataframe thead th {\n",
       "        text-align: right;\n",
       "    }\n",
       "</style>\n",
       "<table border=\"1\" class=\"dataframe\">\n",
       "  <thead>\n",
       "    <tr style=\"text-align: right;\">\n",
       "      <th></th>\n",
       "      <th>indice</th>\n",
       "      <th>conteudo</th>\n",
       "      <th>conteudo_atualizado</th>\n",
       "    </tr>\n",
       "  </thead>\n",
       "  <tbody>\n",
       "    <tr>\n",
       "      <th>0</th>\n",
       "      <td>19</td>\n",
       "      <td>stado do Acre.  \\nACÓRDÃO Ne 176 \\nFeito \\t : ...</td>\n",
       "      <td>acórdão nº 176 feito \\t processo n 2 57091tce...</td>\n",
       "    </tr>\n",
       "    <tr>\n",
       "      <th>1</th>\n",
       "      <td>127</td>\n",
       "      <td>Tribunal de Contas do Estado do Acre\\nSecretar...</td>\n",
       "      <td>acórdão nº 7556 natureza do feito processo nº...</td>\n",
       "    </tr>\n",
       "    <tr>\n",
       "      <th>2</th>\n",
       "      <td>128</td>\n",
       "      <td>Tribunal de Contas do Estado do Acre\\nSecretar...</td>\n",
       "      <td>acórdão nº 7557 natureza do feito processo nº...</td>\n",
       "    </tr>\n",
       "    <tr>\n",
       "      <th>3</th>\n",
       "      <td>129</td>\n",
       "      <td>Tribunal de Contas do Estado do Acre\\nSecretar...</td>\n",
       "      <td>acórdão nº 7560 natureza do feito processo nº...</td>\n",
       "    </tr>\n",
       "    <tr>\n",
       "      <th>4</th>\n",
       "      <td>130</td>\n",
       "      <td>Tribunal de Contas do Estado do Acre\\nSecretar...</td>\n",
       "      <td>acórdão nº 7564 natureza do feito processo nº...</td>\n",
       "    </tr>\n",
       "  </tbody>\n",
       "</table>\n",
       "</div>"
      ],
      "text/plain": [
       "   indice                                           conteudo  \\\n",
       "0      19  stado do Acre.  \\nACÓRDÃO Ne 176 \\nFeito \\t : ...   \n",
       "1     127  Tribunal de Contas do Estado do Acre\\nSecretar...   \n",
       "2     128  Tribunal de Contas do Estado do Acre\\nSecretar...   \n",
       "3     129  Tribunal de Contas do Estado do Acre\\nSecretar...   \n",
       "4     130  Tribunal de Contas do Estado do Acre\\nSecretar...   \n",
       "\n",
       "                                 conteudo_atualizado  \n",
       "0   acórdão nº 176 feito \\t processo n 2 57091tce...  \n",
       "1   acórdão nº 7556 natureza do feito processo nº...  \n",
       "2   acórdão nº 7557 natureza do feito processo nº...  \n",
       "3   acórdão nº 7560 natureza do feito processo nº...  \n",
       "4   acórdão nº 7564 natureza do feito processo nº...  "
      ]
     },
     "execution_count": 130,
     "metadata": {},
     "output_type": "execute_result"
    }
   ],
   "source": [
    "tratar_textos(passo01)\n",
    "passo01.head()"
   ]
  },
  {
   "cell_type": "code",
   "execution_count": 126,
   "id": "e8554488",
   "metadata": {},
   "outputs": [],
   "source": [
    "passo01 = passo01"
   ]
  },
  {
   "cell_type": "code",
   "execution_count": 127,
   "id": "03a2c120",
   "metadata": {},
   "outputs": [
    {
     "data": {
      "text/html": [
       "<div>\n",
       "<style scoped>\n",
       "    .dataframe tbody tr th:only-of-type {\n",
       "        vertical-align: middle;\n",
       "    }\n",
       "\n",
       "    .dataframe tbody tr th {\n",
       "        vertical-align: top;\n",
       "    }\n",
       "\n",
       "    .dataframe thead th {\n",
       "        text-align: right;\n",
       "    }\n",
       "</style>\n",
       "<table border=\"1\" class=\"dataframe\">\n",
       "  <thead>\n",
       "    <tr style=\"text-align: right;\">\n",
       "      <th></th>\n",
       "      <th>indice</th>\n",
       "      <th>conteudo</th>\n",
       "      <th>conteudo_atualizado</th>\n",
       "    </tr>\n",
       "  </thead>\n",
       "  <tbody>\n",
       "    <tr>\n",
       "      <th>0</th>\n",
       "      <td>19</td>\n",
       "      <td>stado do Acre.  \\nACÓRDÃO Ne 176 \\nFeito \\t : ...</td>\n",
       "      <td>acórdão nº 176 feito \\t processo n 2 57091tce...</td>\n",
       "    </tr>\n",
       "    <tr>\n",
       "      <th>1</th>\n",
       "      <td>127</td>\n",
       "      <td>Tribunal de Contas do Estado do Acre\\nSecretar...</td>\n",
       "      <td>acórdão nº 7556 natureza do feito processo nº...</td>\n",
       "    </tr>\n",
       "    <tr>\n",
       "      <th>2</th>\n",
       "      <td>128</td>\n",
       "      <td>Tribunal de Contas do Estado do Acre\\nSecretar...</td>\n",
       "      <td>acórdão nº 7557 natureza do feito processo nº...</td>\n",
       "    </tr>\n",
       "    <tr>\n",
       "      <th>3</th>\n",
       "      <td>129</td>\n",
       "      <td>Tribunal de Contas do Estado do Acre\\nSecretar...</td>\n",
       "      <td>acórdão nº 7560 natureza do feito processo nº...</td>\n",
       "    </tr>\n",
       "    <tr>\n",
       "      <th>4</th>\n",
       "      <td>130</td>\n",
       "      <td>Tribunal de Contas do Estado do Acre\\nSecretar...</td>\n",
       "      <td>acórdão nº 7564 natureza do feito processo nº...</td>\n",
       "    </tr>\n",
       "  </tbody>\n",
       "</table>\n",
       "</div>"
      ],
      "text/plain": [
       "   indice                                           conteudo  \\\n",
       "0      19  stado do Acre.  \\nACÓRDÃO Ne 176 \\nFeito \\t : ...   \n",
       "1     127  Tribunal de Contas do Estado do Acre\\nSecretar...   \n",
       "2     128  Tribunal de Contas do Estado do Acre\\nSecretar...   \n",
       "3     129  Tribunal de Contas do Estado do Acre\\nSecretar...   \n",
       "4     130  Tribunal de Contas do Estado do Acre\\nSecretar...   \n",
       "\n",
       "                                 conteudo_atualizado  \n",
       "0   acórdão nº 176 feito \\t processo n 2 57091tce...  \n",
       "1   acórdão nº 7556 natureza do feito processo nº...  \n",
       "2   acórdão nº 7557 natureza do feito processo nº...  \n",
       "3   acórdão nº 7560 natureza do feito processo nº...  \n",
       "4   acórdão nº 7564 natureza do feito processo nº...  "
      ]
     },
     "execution_count": 127,
     "metadata": {},
     "output_type": "execute_result"
    }
   ],
   "source": [
    "passo01.head()"
   ]
  },
  {
   "cell_type": "code",
   "execution_count": 128,
   "id": "be51c565",
   "metadata": {},
   "outputs": [
    {
     "ename": "NameError",
     "evalue": "name 'passo03' is not defined",
     "output_type": "error",
     "traceback": [
      "\u001b[1;31m---------------------------------------------------------------------------\u001b[0m",
      "\u001b[1;31mNameError\u001b[0m                                 Traceback (most recent call last)",
      "\u001b[1;32mc:\\Users\\anton\\OneDrive - Casa Jares\\Projeto_BI_Ciencia_Dados\\Projeto_Leitura_Documentos\\Grupo_NLP_02.ipynb Cell 28\u001b[0m line \u001b[0;36m2\n\u001b[0;32m      <a href='vscode-notebook-cell:/c%3A/Users/anton/OneDrive%20-%20Casa%20Jares/Projeto_BI_Ciencia_Dados/Projeto_Leitura_Documentos/Grupo_NLP_02.ipynb#Y112sZmlsZQ%3D%3D?line=0'>1</a>\u001b[0m \u001b[39m# salvando as informações em acordaos.xLsx        \u001b[39;00m\n\u001b[1;32m----> <a href='vscode-notebook-cell:/c%3A/Users/anton/OneDrive%20-%20Casa%20Jares/Projeto_BI_Ciencia_Dados/Projeto_Leitura_Documentos/Grupo_NLP_02.ipynb#Y112sZmlsZQ%3D%3D?line=1'>2</a>\u001b[0m passo03\u001b[39m.\u001b[39mto_excel(\u001b[39mf\u001b[39m\u001b[39m\"\u001b[39m\u001b[39m{\u001b[39;00mdiretorio_planilhas\u001b[39m}\u001b[39;00m\u001b[39m\\\\\u001b[39;00m\u001b[39macordaos03.xlsx\u001b[39m\u001b[39m\"\u001b[39m)\n",
      "\u001b[1;31mNameError\u001b[0m: name 'passo03' is not defined"
     ]
    }
   ],
   "source": [
    "# salvando as informações em acordaos.xLsx        \n",
    "passo03.to_excel(f\"{diretorio_planilhas}\\\\acordaos03.xlsx\")"
   ]
  },
  {
   "cell_type": "markdown",
   "id": "b5b95e20",
   "metadata": {},
   "source": [
    "# Continuar do Grupo NLP 03"
   ]
  },
  {
   "cell_type": "code",
   "execution_count": null,
   "id": "a4594ee4",
   "metadata": {},
   "outputs": [],
   "source": [
    "passo03.conteudo[145]"
   ]
  },
  {
   "cell_type": "markdown",
   "id": "97f698cb",
   "metadata": {},
   "source": [
    "# Continuar no notebook Grupo_NLP_03.ipynb\n",
    "------\n",
    "Para cada etapa teremos novos notebook's (*.ipynb) e planilha's (*.xls) para manter a independência entre cada etapa.\n",
    "\n",
    "Havendo erro a corrigir será feito de forma independente."
   ]
  }
 ],
 "metadata": {
  "kernelspec": {
   "display_name": "Python 3 (ipykernel)",
   "language": "python",
   "name": "python3"
  },
  "language_info": {
   "codemirror_mode": {
    "name": "ipython",
    "version": 3
   },
   "file_extension": ".py",
   "mimetype": "text/x-python",
   "name": "python",
   "nbconvert_exporter": "python",
   "pygments_lexer": "ipython3",
   "version": "3.11.5"
  }
 },
 "nbformat": 4,
 "nbformat_minor": 5
}
