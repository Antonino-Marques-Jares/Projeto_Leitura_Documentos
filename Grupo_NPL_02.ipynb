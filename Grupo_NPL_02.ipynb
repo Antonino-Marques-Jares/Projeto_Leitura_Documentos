{
 "cells": [
  {
   "cell_type": "markdown",
   "metadata": {},
   "source": [
    "# A\\) Etapas do Pré - Processamento\n",
    "## 2) Fazer a leitura do xls que foi criado na etapa anterior e retirar NAN'S\n",
    "## 3\\) Fazer a leitura do xls anterior e retirar texto inicial e final que não será objeto do estudo\n",
    "\n",
    "> \n",
    ">Utilizaremos programação Python com biblioteca PANDAS e Expressão Regular\n",
    "> "
   ]
  },
  {
   "cell_type": "code",
   "execution_count": null,
   "metadata": {},
   "outputs": [],
   "source": [
    "import glob\n",
    "import pandas as pd\n",
    "import re\n",
    "from pypdf import PdfReader"
   ]
  },
  {
   "cell_type": "code",
   "execution_count": null,
   "metadata": {},
   "outputs": [],
   "source": [
    "diretorio_planilhas = \"C:\\\\DataSets\\\\Projeto_Leitura_Documentos\\\\planilhas\""
   ]
  },
  {
   "cell_type": "code",
   "execution_count": null,
   "metadata": {},
   "outputs": [],
   "source": [
    "def substituir(texto_atual,texto_novo,regex):\n",
    "    return regex.sub(texto_novo,texto_atual)"
   ]
  },
  {
   "cell_type": "code",
   "execution_count": null,
   "metadata": {},
   "outputs": [],
   "source": [
    "import regex\n",
    "\n",
    "def retorna_data(texto):\n",
    "    return regex.search(\"rio branco  ([0-9][0-9]-[0-9][0-9]-[0-9][0-9][0-9][0-9])\",texto).group(1)\n"
   ]
  },
  {
   "cell_type": "markdown",
   "metadata": {},
   "source": [
    "# Continuando a partir do acordao 01\n",
    "# Apagando coluna 'Unnamed: 0'"
   ]
  },
  {
   "cell_type": "code",
   "execution_count": null,
   "metadata": {},
   "outputs": [],
   "source": [
    "transitorio = pd.read_csv(f\"{diretorio_planilhas}\\\\transitorio.csv\",index_col=[0])\n",
    "passo01 = pd.read_csv(f\"{diretorio_planilhas}\\\\acordaos01.csv\",index_col=[0])"
   ]
  },
  {
   "cell_type": "code",
   "execution_count": null,
   "metadata": {},
   "outputs": [],
   "source": [
    "# atualiza\n",
    "passo01 = passo01\n",
    "passo01.head()"
   ]
  },
  {
   "cell_type": "markdown",
   "metadata": {},
   "source": [
    "# Leitura registro a registro"
   ]
  },
  {
   "cell_type": "code",
   "execution_count": null,
   "metadata": {},
   "outputs": [],
   "source": [
    "def retorna_conteudo(lista,indice):\n",
    "  return lista.conteudo[indice]"
   ]
  },
  {
   "cell_type": "code",
   "execution_count": null,
   "metadata": {},
   "outputs": [],
   "source": [
    "def quantidade_ocorrencias(tabela,expressao_regular_a_procurar):\n",
    "    resultado = []\n",
    "    for i in tabela.index:\n",
    "        previa = re.findall(expressao_regular_a_procurar,tabela.conteudo[i])\n",
    "        if previa != []:\n",
    "            resultado = resultado + previa\n",
    "    return f\"Encontrado {len(resultado)} vezes\""
   ]
  },
  {
   "cell_type": "markdown",
   "metadata": {},
   "source": [
    "# Fazendo pesquisa nos registros:"
   ]
  },
  {
   "cell_type": "code",
   "execution_count": null,
   "metadata": {},
   "outputs": [],
   "source": [
    "quantidade_ocorrencias(passo01,\" A C Ó R D Ã O \")"
   ]
  },
  {
   "cell_type": "code",
   "execution_count": null,
   "metadata": {},
   "outputs": [],
   "source": [
    "def substituir(texto_original,novo_texto,regex):\n",
    "    return regex.sub(novo_texto,texto_original)"
   ]
  },
  {
   "cell_type": "markdown",
   "metadata": {},
   "source": [
    "# Fazendo pré-compilação do regex (expressão regular) para ganhar desempenho"
   ]
  },
  {
   "cell_type": "code",
   "execution_count": null,
   "metadata": {},
   "outputs": [],
   "source": [
    "regex_stado_do_acre = re.compile(r\"^stado do acre\\.\")\n",
    "regex_acordao = re.compile(r\"a c ó r d ã o\")\n",
    "regex_pontos = re.compile(r\"\\.\")\n",
    "regex_tracos = re.compile(r\"(-|-){1,}\")\n",
    "regex_acordam = re.compile(r\" a c o r d a m \")\n",
    "regex_espacos_em_branco_em_duplicidade = re.compile(r\"( {2,})\")\n",
    "regex_tribunal_secretaria = re.compile(r\"tribunal de contas do estado do acre(.|\\n)secretaria das sessões\")\n",
    "regex_missao = re.compile(r\"(missão)(:|)(.*)(social)\")\n",
    "regex_endereco = re.compile(r\"(av ceará)(.|\\n)*(govbr)\")\n",
    "regex_sala_das_sessoes = re.compile(r\"sala das sessões do tribunal de contas do estado do acre\")\n",
    "regex_dia_sessao = re.compile(r\"(rio branco )(.|)( acre)(,|)( [0-9][0-9] de | [0-9] de )(janeiro|fevereiro|março|maio|junho|julho|agosto|setembro|outubro|novembro|dezembro)( de )([0-9][0-9][0-9][0-9])(\\.|)\")\n",
    "regex_virgula = re.compile(r\"( ,|,)\")\n",
    "\n",
    "#Padronizando as datas\n",
    "regex_janeiro = re.compile(r\"( de janeiro de )\")\n",
    "regex_fevereiro = re.compile(r\"( de fevereiro de )\")\n",
    "regex_marco = re.compile(r\"( de março de )\")\n",
    "regex_abril = re.compile(r\"( de abril de )\")\n",
    "regex_maio = re.compile(r\"( de maio de )\")\n",
    "regex_junho = re.compile(r\"( de junho de )\")\n",
    "regex_julho = re.compile(r\"( de julho de )\")\n",
    "regex_agosto = re.compile(r\"( de agosto de )\")\n",
    "regex_setembro = re.compile(r\"( de setembro de )\")\n",
    "regex_outubro = re.compile(r\"( de outubro de )\")\n",
    "regex_novembro = re.compile(r\"( de novembro de )\")\n",
    "regex_dezembro = re.compile(r\"( de dezembro de )\")\n",
    "regex_data = re.compile(r\"(rio branco)( |, )([0-9][0-9])([0-9][0-9])([0-9][0-9][0-9][0-9])\")\n",
    "regex_ultimas_linhas = re.compile(r\"(<fim?>)(.|\\n){1,}\")\n",
    "\n",
    "\n",
    "\n",
    "#Retirando as pontuações\n",
    "regex_pontuacao = re.compile(r\"[^\\w\\s]\")\n",
    "regex_apagar_01 = re.compile(r\"(tribunal de contas do estado do acre |secretaria das sessões | natureza do feito| feito | n )\")\n",
    "regex_numeros = re.compile(r\"[0-9]\")\n",
    "\n",
    "regex_numero_acordao = re.compile(r\"(acórdão n |acórdão ni |acórdão n. |acórdão n º )\")\n",
    "regex_quebra_de_linha = re.compile(r\"(\\n){1,}\")\n",
    "regex_complemento_acordao = re.compile(r\"(plen)(á|a)(riotceac)\")\n",
    "regex_tceac_ss = re.compile(r\"(tribunal de contas do estado do acre)(.*)(secretaria das sessões)\")\n",
    "regex_acordao = re.compile(r\"(a c ó r d ã o)\")\n",
    "regex_ate_acordao = re.compile('^(.*)(br|)( |)(acórdão nº{1})')\n",
    "regex_espacos_em_branco_em_duplicidade = re.compile(r\"( {2,})\")\n",
    "regex_acordao_acordao = re.compile(r\"(acórdão acórdão)\")\n",
    "regex_acordao_complemento = re.compile(r\"(plenáriotceac|plenariotceac)\")\n",
    "regex_especiais = re.compile(r\"[ºª]\")\n",
    "regex_nao_visuais = re.compile(r\"(\\r|\\t){1,}\")\n",
    "\n",
    "regex_apagar_02 = re.compile(\"(acórdão |processo |tceacre |tceac |tce |tribunal de contas do estado do acre |secretaria das sessões |anexos |assunto )\")\n",
    "regex_uma_a_duas_letras = re.compile(\" [a-z]{1,2} \")"
   ]
  },
  {
   "cell_type": "code",
   "execution_count": null,
   "metadata": {},
   "outputs": [],
   "source": [
    "# ATENÇÃO: Todas substituição com Expressão Regular serão executadas nesta etapa Grupo_NLP_02 "
   ]
  },
  {
   "cell_type": "code",
   "execution_count": null,
   "metadata": {},
   "outputs": [],
   "source": [
    "def fazer_primeiras_substituicoes(tabela):\n",
    "    print('Aguarde', end = \"\")\n",
    "    for i in tabela.index:\n",
    "        #padronizando em letras minúsculas\n",
    "        antes = tabela.conteudo[i].lower()\n",
    "        \n",
    "        depois = substituir(antes,\" \",regex_stado_do_acre)\n",
    "        depois = substituir(depois,\" \",regex_complemento_acordao)\n",
    "        depois = substituir(depois,\"\",regex_especiais)\n",
    "        depois = substituir(depois,\" \",regex_nao_visuais)\n",
    "        depois = substituir(depois,\" acórdão \",regex_acordao)\n",
    "        depois = substituir(depois,\"\",regex_pontos)\n",
    "        depois = substituir(depois,\" \",regex_tracos)\n",
    "        depois = substituir(depois,\" acordam \",regex_acordam)\n",
    "        depois = substituir(depois,\" \",regex_tribunal_secretaria)\n",
    "        depois = substituir(depois,\" \",regex_missao)\n",
    "        depois = substituir(depois,\" \",regex_endereco)\n",
    "        depois = substituir(depois,\" \",regex_sala_das_sessoes)\n",
    "        depois = substituir(depois,r\"\\1\\4\\5\\6\\7\\8\",regex_dia_sessao)\n",
    "        \n",
    "        depois = substituir(depois,\" \",regex_virgula)\n",
    "        depois = substituir(depois,\"-01-\",regex_janeiro)\n",
    "        depois = substituir(depois,\"-02-\",regex_fevereiro)\n",
    "        depois = substituir(depois,\"-03-\",regex_marco)\n",
    "        depois = substituir(depois,\"-04-\",regex_abril)\n",
    "        depois = substituir(depois,\"-05-\",regex_maio)\n",
    "        depois = substituir(depois,\"-06-\",regex_junho)\n",
    "        depois = substituir(depois,\"-07-\",regex_julho)\n",
    "        depois = substituir(depois,\"-08-\",regex_agosto)\n",
    "        depois = substituir(depois,\"-09-\",regex_setembro)\n",
    "        depois = substituir(depois,\"-10-\",regex_outubro)\n",
    "        depois = substituir(depois,\"-11-\",regex_novembro)\n",
    "        depois = substituir(depois,\"-12-\",regex_dezembro)\n",
    "        depois = substituir(depois,r\"\\2\\3\\3\",regex_data)\n",
    "        \n",
    "        depois = substituir(depois,\" \",regex_ultimas_linhas)\n",
    "        depois = substituir(depois,\"acórdão \",regex_numero_acordao)\n",
    "        depois = substituir(depois,\"\",regex_pontuacao)\n",
    "        depois = substituir(depois,\" \",regex_quebra_de_linha)\n",
    "        \n",
    "        depois = substituir(depois,\" \",regex_apagar_01)\n",
    "        depois = substituir(depois,\" \",regex_espacos_em_branco_em_duplicidade)\n",
    "\n",
    "        tabela.loc[i,'conteudo_atualizado'] = depois\n",
    "        print('.', end = \"\")\n",
    "\n",
    "    print('\\nTexto processado com sucesso !')"
   ]
  },
  {
   "cell_type": "code",
   "execution_count": null,
   "metadata": {},
   "outputs": [],
   "source": [
    "#Substituições antes de pegar o acórdão e a data\n",
    "fazer_primeiras_substituicoes(passo01)\n",
    "passo01.head() "
   ]
  },
  {
   "cell_type": "code",
   "execution_count": null,
   "metadata": {},
   "outputs": [],
   "source": [
    "# atualizando acordao02\n",
    "transitorio['indice'] = passo01['indice']\n",
    "transitorio['acordao'] = passo01['indice']\n",
    "transitorio['dia'] = passo01['indice']\n",
    "transitorio['conteudo'] = passo01['conteudo_atualizado']\n",
    "transitorio.to_csv(f\"{diretorio_planilhas}\\\\acordaos02.csv\")"
   ]
  },
  {
   "cell_type": "code",
   "execution_count": null,
   "metadata": {},
   "outputs": [],
   "source": [
    "transitorio.head"
   ]
  },
  {
   "cell_type": "code",
   "execution_count": null,
   "metadata": {},
   "outputs": [],
   "source": [
    "for i in transitorio.index:\n",
    "    #padronizando em letras minúsculas\n",
    "    texto = transitorio.conteudo[i]\n",
    "    dia = re.findall(\"(rio branco)( |, )([0-9][0-9])([0-9][0-9])([0-9][0-9][0-9][0-9])\",texto)\n",
    "    if len(dia) == 1:\n",
    "        transitorio.dia[i] = dia[0][2]+'/'+dia[0][3]+'/'+dia[0][4]\n",
    "    else:\n",
    "        transitorio.dia[i] = \"00/00/0000\""
   ]
  },
  {
   "cell_type": "code",
   "execution_count": null,
   "metadata": {},
   "outputs": [],
   "source": [
    "transitorio.dia[129]"
   ]
  },
  {
   "cell_type": "code",
   "execution_count": null,
   "metadata": {},
   "outputs": [],
   "source": [
    "for i in transitorio.index:\n",
    "    #padronizando em letras minúsculas\n",
    "    texto = transitorio.conteudo[i]\n",
    "    acordao = re.findall(\"(acórdão)( n. | n | )([0-9]{1,})( )\",texto)\n",
    "    if len(acordao) >= 1:\n",
    "        transitorio.acordao[i] = acordao[0][2]\n",
    "    else:\n",
    "        transitorio.acordao[i] = \"000000\""
   ]
  },
  {
   "cell_type": "code",
   "execution_count": null,
   "metadata": {},
   "outputs": [],
   "source": [
    "transitorio.head"
   ]
  },
  {
   "cell_type": "code",
   "execution_count": null,
   "metadata": {},
   "outputs": [],
   "source": [
    "def fazer_substituicoes_finais(tabela):\n",
    "    print('Aguarde', end = \"\")\n",
    "    for i in tabela.index:\n",
    "\n",
    "        #padronizando em letras minúsculas\n",
    "        antes = tabela.conteudo[i].lower()\n",
    "        \n",
    "        depois = substituir(antes,\" \",regex_numeros)\n",
    "        depois = substituir(depois,\" \",regex_apagar_02)\n",
    "        depois = substituir(depois,\" \",regex_uma_a_duas_letras)\n",
    "        depois = substituir(depois,\" \",regex_espacos_em_branco_em_duplicidade)\n",
    "        depois = substituir(depois,\" \",regex_nao_visuais)\n",
    "\n",
    "        tabela.loc[i,'conteudo_atualizado'] = depois\n",
    "        print('.', end = \"\")\n",
    "\n",
    "    print('\\nTexto processado com sucesso !')"
   ]
  },
  {
   "cell_type": "code",
   "execution_count": null,
   "metadata": {},
   "outputs": [],
   "source": [
    "#Substituições após pegar o acórdão e a data\n",
    "fazer_substituicoes_finais(transitorio)\n",
    "transitorio.head()"
   ]
  },
  {
   "cell_type": "code",
   "execution_count": null,
   "metadata": {},
   "outputs": [],
   "source": [
    "# atualizando acordao02\n",
    "transitorio['conteudo'] = transitorio['conteudo_atualizado']\n",
    "transitorio = transitorio.drop(\"conteudo_atualizado\", axis = 1)\n",
    "transitorio.to_csv(f\"{diretorio_planilhas}\\\\acordaos02.csv\")\n",
    "transitorio.head()"
   ]
  },
  {
   "cell_type": "code",
   "execution_count": null,
   "metadata": {},
   "outputs": [],
   "source": [
    "transitorio.to_csv(f\"{diretorio_planilhas}\\\\acordaos03.csv\")"
   ]
  },
  {
   "cell_type": "code",
   "execution_count": null,
   "metadata": {},
   "outputs": [],
   "source": [
    "transitorio.dia[140]"
   ]
  },
  {
   "cell_type": "code",
   "execution_count": null,
   "metadata": {},
   "outputs": [],
   "source": [
    "transitorio.acordao[140] "
   ]
  },
  {
   "cell_type": "markdown",
   "metadata": {},
   "source": [
    "# Continuar no notebook Grupo_NLP_03.ipynb"
   ]
  }
 ],
 "metadata": {
  "language_info": {
   "name": "python"
  }
 },
 "nbformat": 4,
 "nbformat_minor": 2
}
