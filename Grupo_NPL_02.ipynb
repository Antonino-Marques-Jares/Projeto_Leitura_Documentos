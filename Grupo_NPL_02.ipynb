{
 "cells": [
  {
   "cell_type": "markdown",
   "metadata": {},
   "source": [
    "# 1\\) Etapas do Pré - Processamento"
   ]
  },
  {
   "cell_type": "code",
   "execution_count": 77,
   "metadata": {},
   "outputs": [],
   "source": [
    "import glob\n",
    "import pandas as pd\n",
    "import re\n",
    "from pypdf import PdfReader"
   ]
  },
  {
   "cell_type": "code",
   "execution_count": 78,
   "metadata": {},
   "outputs": [],
   "source": [
    "diretorio_planilhas = \"C:\\\\DataSets\\\\Projeto_Leitura_Documentos\\\\planilhas\""
   ]
  },
  {
   "cell_type": "code",
   "execution_count": 79,
   "metadata": {},
   "outputs": [],
   "source": [
    "def substituir(texto_atual,texto_novo,regex):\n",
    "    return regex.sub(texto_novo,texto_atual)"
   ]
  },
  {
   "cell_type": "markdown",
   "metadata": {},
   "source": [
    "# 2) Continuando a partir do acordao 01"
   ]
  },
  {
   "cell_type": "code",
   "execution_count": 80,
   "metadata": {},
   "outputs": [
    {
     "data": {
      "text/html": [
       "<div>\n",
       "<style scoped>\n",
       "    .dataframe tbody tr th:only-of-type {\n",
       "        vertical-align: middle;\n",
       "    }\n",
       "\n",
       "    .dataframe tbody tr th {\n",
       "        vertical-align: top;\n",
       "    }\n",
       "\n",
       "    .dataframe thead th {\n",
       "        text-align: right;\n",
       "    }\n",
       "</style>\n",
       "<table border=\"1\" class=\"dataframe\">\n",
       "  <thead>\n",
       "    <tr style=\"text-align: right;\">\n",
       "      <th></th>\n",
       "      <th>indice</th>\n",
       "      <th>conteudo</th>\n",
       "    </tr>\n",
       "  </thead>\n",
       "  <tbody>\n",
       "    <tr>\n",
       "      <th>19</th>\n",
       "      <td>19</td>\n",
       "      <td>stado do Acre.  \\nACÓRDÃO Ne 176 \\nFeito \\t : ...</td>\n",
       "    </tr>\n",
       "    <tr>\n",
       "      <th>127</th>\n",
       "      <td>127</td>\n",
       "      <td>Tribunal de Contas do Estado do Acre\\nSecretar...</td>\n",
       "    </tr>\n",
       "    <tr>\n",
       "      <th>128</th>\n",
       "      <td>128</td>\n",
       "      <td>Tribunal de Contas do Estado do Acre\\nSecretar...</td>\n",
       "    </tr>\n",
       "    <tr>\n",
       "      <th>129</th>\n",
       "      <td>129</td>\n",
       "      <td>Tribunal de Contas do Estado do Acre\\nSecretar...</td>\n",
       "    </tr>\n",
       "    <tr>\n",
       "      <th>130</th>\n",
       "      <td>130</td>\n",
       "      <td>Tribunal de Contas do Estado do Acre\\nSecretar...</td>\n",
       "    </tr>\n",
       "  </tbody>\n",
       "</table>\n",
       "</div>"
      ],
      "text/plain": [
       "     indice                                           conteudo\n",
       "19       19  stado do Acre.  \\nACÓRDÃO Ne 176 \\nFeito \\t : ...\n",
       "127     127  Tribunal de Contas do Estado do Acre\\nSecretar...\n",
       "128     128  Tribunal de Contas do Estado do Acre\\nSecretar...\n",
       "129     129  Tribunal de Contas do Estado do Acre\\nSecretar...\n",
       "130     130  Tribunal de Contas do Estado do Acre\\nSecretar..."
      ]
     },
     "execution_count": 80,
     "metadata": {},
     "output_type": "execute_result"
    }
   ],
   "source": [
    "passo01 = pd.read_csv(f\"{diretorio_planilhas}\\\\acordaos01.csv\",index_col=[0])\n",
    "passo01.head()"
   ]
  },
  {
   "cell_type": "markdown",
   "metadata": {},
   "source": [
    "# 3) Corrigindo indice (deixando sequêncial)\n",
    "#### OBS.: \n",
    "#### Lembrando que anteriormente haviamos excluido registros com Nan e quebrou a sequência\n",
    "#### a quebra de sequência no indice ocasiona diversos erros\n",
    "#### por isso estamos fazendo este ajuste.\n",
    "#### Também observar que deve começar de ZERO para facilotar o uso do FOR"
   ]
  },
  {
   "cell_type": "code",
   "execution_count": 81,
   "metadata": {},
   "outputs": [
    {
     "data": {
      "text/html": [
       "<div>\n",
       "<style scoped>\n",
       "    .dataframe tbody tr th:only-of-type {\n",
       "        vertical-align: middle;\n",
       "    }\n",
       "\n",
       "    .dataframe tbody tr th {\n",
       "        vertical-align: top;\n",
       "    }\n",
       "\n",
       "    .dataframe thead th {\n",
       "        text-align: right;\n",
       "    }\n",
       "</style>\n",
       "<table border=\"1\" class=\"dataframe\">\n",
       "  <thead>\n",
       "    <tr style=\"text-align: right;\">\n",
       "      <th></th>\n",
       "      <th>conteudo</th>\n",
       "    </tr>\n",
       "  </thead>\n",
       "  <tbody>\n",
       "    <tr>\n",
       "      <th>0</th>\n",
       "      <td>stado do Acre.  \\nACÓRDÃO Ne 176 \\nFeito \\t : ...</td>\n",
       "    </tr>\n",
       "    <tr>\n",
       "      <th>1</th>\n",
       "      <td>Tribunal de Contas do Estado do Acre\\nSecretar...</td>\n",
       "    </tr>\n",
       "    <tr>\n",
       "      <th>2</th>\n",
       "      <td>Tribunal de Contas do Estado do Acre\\nSecretar...</td>\n",
       "    </tr>\n",
       "    <tr>\n",
       "      <th>3</th>\n",
       "      <td>Tribunal de Contas do Estado do Acre\\nSecretar...</td>\n",
       "    </tr>\n",
       "    <tr>\n",
       "      <th>4</th>\n",
       "      <td>Tribunal de Contas do Estado do Acre\\nSecretar...</td>\n",
       "    </tr>\n",
       "  </tbody>\n",
       "</table>\n",
       "</div>"
      ],
      "text/plain": [
       "                                            conteudo\n",
       "0  stado do Acre.  \\nACÓRDÃO Ne 176 \\nFeito \\t : ...\n",
       "1  Tribunal de Contas do Estado do Acre\\nSecretar...\n",
       "2  Tribunal de Contas do Estado do Acre\\nSecretar...\n",
       "3  Tribunal de Contas do Estado do Acre\\nSecretar...\n",
       "4  Tribunal de Contas do Estado do Acre\\nSecretar..."
      ]
     },
     "execution_count": 81,
     "metadata": {},
     "output_type": "execute_result"
    }
   ],
   "source": [
    "indices = []\n",
    "n = -1\n",
    "for i in passo01.index:\n",
    "    n += 1\n",
    "    indices.append(n)\n",
    "\n",
    "extrutura_transitorio_indice = {\n",
    "  'indice': indices\n",
    "}\n",
    "passo01.index = extrutura_transitorio_indice['indice']\n",
    "passo01.drop('indice',axis='columns', inplace=True)\n",
    "passo01.head()"
   ]
  },
  {
   "cell_type": "markdown",
   "metadata": {},
   "source": [
    "# 4) Confirmando que não existe registros com Nan no Dataframe"
   ]
  },
  {
   "cell_type": "code",
   "execution_count": 82,
   "metadata": {},
   "outputs": [
    {
     "name": "stdout",
     "output_type": "stream",
     "text": [
      "Quantidade total de registos 2454 antes de apagar registros com NAN\n",
      "Quantidade de registos sem NaN em conteudo: 2454\n",
      "Quantidade de registos com NaN em conteudo: 0\n",
      "Quantidade de registos com null em conteudo: 0\n"
     ]
    }
   ],
   "source": [
    "def informações_tabela(tabela):\n",
    "    print(f\"Quantidade total de registos {passo01.shape[0]} antes de apagar registros com NAN\")\n",
    "    total_com_na_conteudo = passo01['conteudo'].isna().sum()\n",
    "    total_sem_na_conteudo = passo01['conteudo'].notna().sum()\n",
    "    total_isnull = passo01['conteudo'].isnull().sum()\n",
    "\n",
    "    print(f\"Quantidade de registos sem NaN em conteudo: {total_sem_na_conteudo}\")\n",
    "    print(f\"Quantidade de registos com NaN em conteudo: {total_com_na_conteudo}\")\n",
    "    print(f\"Quantidade de registos com null em conteudo: {total_isnull}\")\n",
    "\n",
    "informações_tabela(passo01)"
   ]
  },
  {
   "cell_type": "markdown",
   "metadata": {},
   "source": [
    "# 5) Adicionando novas colunas \"acordao\" e \"dia\""
   ]
  },
  {
   "cell_type": "code",
   "execution_count": 83,
   "metadata": {},
   "outputs": [
    {
     "data": {
      "text/html": [
       "<div>\n",
       "<style scoped>\n",
       "    .dataframe tbody tr th:only-of-type {\n",
       "        vertical-align: middle;\n",
       "    }\n",
       "\n",
       "    .dataframe tbody tr th {\n",
       "        vertical-align: top;\n",
       "    }\n",
       "\n",
       "    .dataframe thead th {\n",
       "        text-align: right;\n",
       "    }\n",
       "</style>\n",
       "<table border=\"1\" class=\"dataframe\">\n",
       "  <thead>\n",
       "    <tr style=\"text-align: right;\">\n",
       "      <th></th>\n",
       "      <th>conteudo</th>\n",
       "      <th>acordao</th>\n",
       "      <th>dia</th>\n",
       "    </tr>\n",
       "  </thead>\n",
       "  <tbody>\n",
       "    <tr>\n",
       "      <th>0</th>\n",
       "      <td>stado do Acre.  \\nACÓRDÃO Ne 176 \\nFeito \\t : ...</td>\n",
       "      <td></td>\n",
       "      <td></td>\n",
       "    </tr>\n",
       "    <tr>\n",
       "      <th>1</th>\n",
       "      <td>Tribunal de Contas do Estado do Acre\\nSecretar...</td>\n",
       "      <td></td>\n",
       "      <td></td>\n",
       "    </tr>\n",
       "    <tr>\n",
       "      <th>2</th>\n",
       "      <td>Tribunal de Contas do Estado do Acre\\nSecretar...</td>\n",
       "      <td></td>\n",
       "      <td></td>\n",
       "    </tr>\n",
       "    <tr>\n",
       "      <th>3</th>\n",
       "      <td>Tribunal de Contas do Estado do Acre\\nSecretar...</td>\n",
       "      <td></td>\n",
       "      <td></td>\n",
       "    </tr>\n",
       "    <tr>\n",
       "      <th>4</th>\n",
       "      <td>Tribunal de Contas do Estado do Acre\\nSecretar...</td>\n",
       "      <td></td>\n",
       "      <td></td>\n",
       "    </tr>\n",
       "  </tbody>\n",
       "</table>\n",
       "</div>"
      ],
      "text/plain": [
       "                                            conteudo acordao dia\n",
       "0  stado do Acre.  \\nACÓRDÃO Ne 176 \\nFeito \\t : ...            \n",
       "1  Tribunal de Contas do Estado do Acre\\nSecretar...            \n",
       "2  Tribunal de Contas do Estado do Acre\\nSecretar...            \n",
       "3  Tribunal de Contas do Estado do Acre\\nSecretar...            \n",
       "4  Tribunal de Contas do Estado do Acre\\nSecretar...            "
      ]
     },
     "execution_count": 83,
     "metadata": {},
     "output_type": "execute_result"
    }
   ],
   "source": [
    "# atualiza\n",
    "passo01['acordao'] = ''\n",
    "passo01['dia'] = ''\n",
    "passo01.head()"
   ]
  },
  {
   "cell_type": "markdown",
   "metadata": {},
   "source": [
    "# 6) Fazendo pesquisa nos registros:"
   ]
  },
  {
   "cell_type": "code",
   "execution_count": 84,
   "metadata": {},
   "outputs": [],
   "source": [
    "def quantidade_ocorrencias(tabela,expressao_regular_a_procurar):\n",
    "    resultado = []\n",
    "    for i in tabela.index:\n",
    "        previa = re.findall(expressao_regular_a_procurar,tabela.conteudo[i])\n",
    "        if previa != []:\n",
    "            resultado = resultado + previa\n",
    "    return f\"Encontrado {len(resultado)} vezes\"\n",
    "\n"
   ]
  },
  {
   "cell_type": "code",
   "execution_count": 85,
   "metadata": {},
   "outputs": [
    {
     "data": {
      "text/plain": [
       "'Encontrado 1183 vezes'"
      ]
     },
     "execution_count": 85,
     "metadata": {},
     "output_type": "execute_result"
    }
   ],
   "source": [
    "quantidade_ocorrencias(passo01,\"[0-9] [0-9]\")"
   ]
  },
  {
   "cell_type": "code",
   "execution_count": null,
   "metadata": {},
   "outputs": [],
   "source": []
  },
  {
   "cell_type": "code",
   "execution_count": 86,
   "metadata": {},
   "outputs": [],
   "source": [
    "def substituir(texto_original,novo_texto,regex):\n",
    "    return regex.sub(novo_texto,texto_original)"
   ]
  },
  {
   "cell_type": "markdown",
   "metadata": {},
   "source": [
    "# 7) Fazendo pré-compilação do regex \n",
    "##### Objetivo: Para para ganhar desempenho"
   ]
  },
  {
   "cell_type": "code",
   "execution_count": 87,
   "metadata": {},
   "outputs": [],
   "source": [
    "regex_estado_do_acre = re.compile(r\"^stado do acre\\.\")\n",
    "regex_acordao = re.compile(r\"a c ó r d ã o\")\n",
    "regex_pontos = re.compile(r\"\\.\")\n",
    "regex_tracos = re.compile(r\"(-|-){1,}\")\n",
    "regex_acordam = re.compile(r\" a c o r d a m \")\n",
    "regex_espacos_em_branco_em_duplicidade = re.compile(r\"( {2,})\")\n",
    "regex_tribunal_secretaria = re.compile(r\"tribunal de contas do estado do acre(.|\\n)secretaria das sessões\")\n",
    "regex_missao = re.compile(r\"(missão)(:|)(.*)(social)\")\n",
    "regex_endereco = re.compile(r\"(av ceará)(.|\\n)*(govbr)\")\n",
    "regex_sala_das_sessoes = re.compile(r\"sala das sessões do tribunal de contas do estado do acre\")\n",
    "regex_dia_sessao = re.compile(r\"(rio branco )(.|)( acre)(,|)( [0-9][0-9] de | [0-9] de )(janeiro|fevereiro|março|maio|junho|julho|agosto|setembro|outubro|novembro|dezembro)( de )([0-9][0-9][0-9][0-9])(\\.|)\")\n",
    "regex_virgula = re.compile(r\"( ,|,)\")\n",
    "\n",
    "#Padronizando as datas\n",
    "regex_janeiro = re.compile(r\"( de janeiro de )\")\n",
    "regex_fevereiro = re.compile(r\"( de fevereiro de )\")\n",
    "regex_marco = re.compile(r\"( de março de )\")\n",
    "regex_abril = re.compile(r\"( de abril de )\")\n",
    "regex_maio = re.compile(r\"( de maio de | maio de )\")\n",
    "regex_junho = re.compile(r\"( de junho de )\")\n",
    "regex_julho = re.compile(r\"( de julho de )\")\n",
    "regex_agosto = re.compile(r\"( de agosto de )\")\n",
    "regex_setembro = re.compile(r\"( de setembro de )\")\n",
    "regex_outubro = re.compile(r\"( de outubro de )\")\n",
    "regex_novembro = re.compile(r\"( de novembro de )\")\n",
    "regex_dezembro = re.compile(r\"( de dezembro de )\")\n",
    "regex_data = re.compile(r\"(rio branco)( |, )([0-9][0-9])([0-9][0-9])([0-9][0-9][0-9][0-9])\")\n",
    "regex_ultimas_linhas = re.compile(r\"(<fim?>)(.|\\n){1,}\")\n",
    "\n",
    "#Retirando as pontuações\n",
    "regex_pontuacao = re.compile(r\"[^\\w\\s]\")\n",
    "regex_apagar_01 = re.compile(r\"(tribunal de contas do estado do acre |secretaria das sessões | natureza do feito| feito | n )\")\n",
    "regex_numeros = re.compile(r\"[0-9]\")\n",
    "regex_espacos_entre_numeros = re.compile(r\"([0-9])( )([0-9])\")\n",
    "regex_numero_encostado_em_letras = re.compile(r\"([0-9])([a-z])\")\n",
    "regex_espaco_entre_numeros = re.compile(r\"(.)([0-9])( )([0-9])\")\n",
    "\n",
    "regex_numero_acordao = re.compile(r\"(acórdão n |acórdão ni |acórdão n. |acórdão n º )\")\n",
    "regex_quebra_de_linha = re.compile(r\"(\\n){1,}\")\n",
    "regex_complemento_acordao = re.compile(r\"(plen)(á|a)(riotceac)\")\n",
    "regex_tceac_ss = re.compile(r\"(tribunal de contas do estado do acre)(.*)(secretaria das sessões)\")\n",
    "regex_acordao = re.compile(r\"(a c ó r d ã o|a co r d ã o|a c o r d ã o)\")\n",
    "regex_ate_acordao = re.compile('^(.*)(br|)( |)(acórdão nº{1})')\n",
    "regex_espacos_em_branco_em_duplicidade = re.compile(r\"( {2,})\")\n",
    "regex_acordao_acordao = re.compile(r\"(acórdão acórdão)\")\n",
    "regex_acordao_complemento = re.compile(r\"(plenáriotceac|plenariotceac)\")\n",
    "regex_especiais = re.compile(r\"[ºª]\")\n",
    "regex_nao_visuais = re.compile(r\"(\\r|\\t){1,}\")\n",
    "\n",
    "regex_apagar_02 = re.compile(\"(acórdão |processo |tceacre |tceac |tce |tribunal de contas do estado do acre |secretaria das sessões |anexos |assunto )\")\n",
    "regex_uma_a_duas_letras = re.compile(\" [a-z]{1,2} \")"
   ]
  },
  {
   "cell_type": "markdown",
   "metadata": {},
   "source": [
    "# 8) Funções de substituições\n",
    "#### 8.1) Faremos alterações para pegar o número do Acórdão (No início do documento)\n",
    "#### 8.2) Faremos alterações para pegar a data (No final do documento)"
   ]
  },
  {
   "cell_type": "code",
   "execution_count": 88,
   "metadata": {},
   "outputs": [],
   "source": [
    "def substituicoes_relacionado_a_data(tabela):\n",
    "    print('Aguarde', end = \"\")\n",
    "    for i in tabela.index:\n",
    "        #padronizando em letras minúsculas\n",
    "        antes = tabela.conteudo[i].lower()\n",
    "        \n",
    "        depois = substituir(antes,\" \",regex_pontuacao)\n",
    "        depois = substituir(depois,\" \",regex_quebra_de_linha)\n",
    "        depois = substituir(depois,\" \",regex_tracos)\n",
    "        \n",
    "        depois = substituir(depois,\"/01/\",regex_janeiro)\n",
    "        depois = substituir(depois,\"/02/\",regex_fevereiro)\n",
    "        depois = substituir(depois,\"/03/\",regex_marco)\n",
    "        depois = substituir(depois,\"/04/\",regex_abril)\n",
    "        depois = substituir(depois,\"/05/\",regex_maio)\n",
    "        depois = substituir(depois,\"/06/\",regex_junho)\n",
    "        depois = substituir(depois,\"/07/\",regex_julho)\n",
    "        depois = substituir(depois,\"/08/\",regex_agosto)\n",
    "        depois = substituir(depois,\"/09/\",regex_setembro)\n",
    "        depois = substituir(depois,\"/10/\",regex_outubro)\n",
    "        depois = substituir(depois,\"/11/\",regex_novembro)\n",
    "        depois = substituir(depois,\"/12/\",regex_dezembro)\n",
    "        depois = substituir(depois,r\"\\2\\3\\4\",regex_data)\n",
    "        depois = substituir(depois,\" \",regex_espacos_em_branco_em_duplicidade)\n",
    "\n",
    "        tabela.loc[i,'conteudo'] = depois\n",
    "\n",
    "def substituicoes_relacionado_a_acordao(tabela):\n",
    "    print('Aguarde', end = \"\")\n",
    "    for i in tabela.index:\n",
    "        #padronizando em letras minúsculas\n",
    "        antes = tabela.conteudo[i].lower()\n",
    "        \n",
    "        depois = substituir(antes,\" \",regex_estado_do_acre)\n",
    "        depois = substituir(depois,\" \",regex_complemento_acordao)\n",
    "        depois = substituir(depois,\" \",regex_especiais)\n",
    "        depois = substituir(depois,\" \",regex_nao_visuais)\n",
    "        depois = substituir(depois,\"acórdão\",regex_acordao)\n",
    "        depois = substituir(depois,\"\",regex_pontos)\n",
    "        \n",
    "        depois = substituir(depois,\" acordam \",regex_acordam)\n",
    "        depois = substituir(depois,\" \",regex_tribunal_secretaria)\n",
    "        depois = substituir(depois,\" \",regex_missao)\n",
    "        depois = substituir(depois,\" \",regex_endereco)\n",
    "        depois = substituir(depois,\" \",regex_sala_das_sessoes)\n",
    "        depois = substituir(depois,r\"\\1\\4\\5\\6\\7\\8\",regex_dia_sessao)\n",
    "        \n",
    "        depois = substituir(depois,\" \",regex_virgula)\n",
    "        \n",
    "        \n",
    "        depois = substituir(depois,\" \",regex_ultimas_linhas)\n",
    "        depois = substituir(depois,\"acórdão \",regex_numero_acordao)\n",
    "        depois = substituir(depois,\"\",regex_pontuacao)\n",
    "        depois = substituir(depois,\"\",regex_quebra_de_linha)\n",
    "        \n",
    "        depois = substituir(depois,\" \",regex_apagar_01)\n",
    "        depois = substituir(depois,\" \",regex_espacos_em_branco_em_duplicidade)\n",
    "\n",
    "        tabela.loc[i,'conteudo'] = depois\n",
    "\n"
   ]
  },
  {
   "cell_type": "markdown",
   "metadata": {},
   "source": [
    "# 9) Adicionando COLUNAS \"acordao\" e \"dia\""
   ]
  },
  {
   "cell_type": "code",
   "execution_count": 89,
   "metadata": {},
   "outputs": [
    {
     "name": "stdout",
     "output_type": "stream",
     "text": [
      "Aguarde"
     ]
    },
    {
     "data": {
      "text/html": [
       "<div>\n",
       "<style scoped>\n",
       "    .dataframe tbody tr th:only-of-type {\n",
       "        vertical-align: middle;\n",
       "    }\n",
       "\n",
       "    .dataframe tbody tr th {\n",
       "        vertical-align: top;\n",
       "    }\n",
       "\n",
       "    .dataframe thead th {\n",
       "        text-align: right;\n",
       "    }\n",
       "</style>\n",
       "<table border=\"1\" class=\"dataframe\">\n",
       "  <thead>\n",
       "    <tr style=\"text-align: right;\">\n",
       "      <th></th>\n",
       "      <th>conteudo</th>\n",
       "      <th>acordao</th>\n",
       "      <th>dia</th>\n",
       "    </tr>\n",
       "  </thead>\n",
       "  <tbody>\n",
       "    <tr>\n",
       "      <th>0</th>\n",
       "      <td>acórdão 176 processo 2 57091tceacre relator c...</td>\n",
       "      <td></td>\n",
       "      <td></td>\n",
       "    </tr>\n",
       "    <tr>\n",
       "      <th>1</th>\n",
       "      <td>acórdão 7556natureza do processo 12906200901t...</td>\n",
       "      <td></td>\n",
       "      <td></td>\n",
       "    </tr>\n",
       "    <tr>\n",
       "      <th>2</th>\n",
       "      <td>acórdão 7557natureza do processo 14779201140t...</td>\n",
       "      <td></td>\n",
       "      <td></td>\n",
       "    </tr>\n",
       "    <tr>\n",
       "      <th>3</th>\n",
       "      <td>acórdão 7560natureza do processo 14884201101t...</td>\n",
       "      <td></td>\n",
       "      <td></td>\n",
       "    </tr>\n",
       "    <tr>\n",
       "      <th>4</th>\n",
       "      <td>acórdão 7564natureza do processo 14626201150t...</td>\n",
       "      <td></td>\n",
       "      <td></td>\n",
       "    </tr>\n",
       "  </tbody>\n",
       "</table>\n",
       "</div>"
      ],
      "text/plain": [
       "                                            conteudo acordao dia\n",
       "0   acórdão 176 processo 2 57091tceacre relator c...            \n",
       "1   acórdão 7556natureza do processo 12906200901t...            \n",
       "2   acórdão 7557natureza do processo 14779201140t...            \n",
       "3   acórdão 7560natureza do processo 14884201101t...            \n",
       "4   acórdão 7564natureza do processo 14626201150t...            "
      ]
     },
     "execution_count": 89,
     "metadata": {},
     "output_type": "execute_result"
    }
   ],
   "source": [
    "substituicoes_relacionado_a_acordao(passo01)\n",
    "passo01.head()"
   ]
  },
  {
   "cell_type": "markdown",
   "metadata": {},
   "source": [
    "# 10) Adequações:\n",
    "#### 10.1) Retirando Espaço Vazio que esteja entre números\n",
    "#### 10.2) Separando números de letras"
   ]
  },
  {
   "cell_type": "code",
   "execution_count": 90,
   "metadata": {},
   "outputs": [
    {
     "data": {
      "text/html": [
       "<div>\n",
       "<style scoped>\n",
       "    .dataframe tbody tr th:only-of-type {\n",
       "        vertical-align: middle;\n",
       "    }\n",
       "\n",
       "    .dataframe tbody tr th {\n",
       "        vertical-align: top;\n",
       "    }\n",
       "\n",
       "    .dataframe thead th {\n",
       "        text-align: right;\n",
       "    }\n",
       "</style>\n",
       "<table border=\"1\" class=\"dataframe\">\n",
       "  <thead>\n",
       "    <tr style=\"text-align: right;\">\n",
       "      <th></th>\n",
       "      <th>conteudo</th>\n",
       "      <th>acordao</th>\n",
       "      <th>dia</th>\n",
       "    </tr>\n",
       "  </thead>\n",
       "  <tbody>\n",
       "    <tr>\n",
       "      <th>0</th>\n",
       "      <td>acórdão 176 processo 257091 tceacre relator c...</td>\n",
       "      <td></td>\n",
       "      <td></td>\n",
       "    </tr>\n",
       "    <tr>\n",
       "      <th>1</th>\n",
       "      <td>acórdão 7556 natureza do processo 12906200901...</td>\n",
       "      <td></td>\n",
       "      <td></td>\n",
       "    </tr>\n",
       "    <tr>\n",
       "      <th>2</th>\n",
       "      <td>acórdão 7557 natureza do processo 14779201140...</td>\n",
       "      <td></td>\n",
       "      <td></td>\n",
       "    </tr>\n",
       "    <tr>\n",
       "      <th>3</th>\n",
       "      <td>acórdão 7560 natureza do processo 14884201101...</td>\n",
       "      <td></td>\n",
       "      <td></td>\n",
       "    </tr>\n",
       "    <tr>\n",
       "      <th>4</th>\n",
       "      <td>acórdão 7564 natureza do processo 14626201150...</td>\n",
       "      <td></td>\n",
       "      <td></td>\n",
       "    </tr>\n",
       "  </tbody>\n",
       "</table>\n",
       "</div>"
      ],
      "text/plain": [
       "                                            conteudo acordao dia\n",
       "0   acórdão 176 processo 257091 tceacre relator c...            \n",
       "1   acórdão 7556 natureza do processo 12906200901...            \n",
       "2   acórdão 7557 natureza do processo 14779201140...            \n",
       "3   acórdão 7560 natureza do processo 14884201101...            \n",
       "4   acórdão 7564 natureza do processo 14626201150...            "
      ]
     },
     "execution_count": 90,
     "metadata": {},
     "output_type": "execute_result"
    }
   ],
   "source": [
    "conteudos = []\n",
    "try:\n",
    "    for texto in passo01['conteudo']:\n",
    "        resposta = substituir(texto,r\"\\1\\3\",regex_espacos_entre_numeros)\n",
    "        resposta = substituir(resposta,r\"\\1 \\2\",regex_numero_encostado_em_letras)\n",
    "        conteudos.append(resposta)\n",
    "except ValueError as numero_erro:\n",
    "    print(\"Erro ao retirar espaço vazio entre números :\", numero_erro)\n",
    "\n",
    "\n",
    "extrutura_transitorio_conteudos = {\n",
    "  'conteudo': conteudos\n",
    "}\n",
    "\n",
    "transitorio_conteudo = pd.DataFrame(extrutura_transitorio_conteudos)\n",
    "passo01['conteudo'] = transitorio_conteudo\n",
    "passo01.head()\n"
   ]
  },
  {
   "cell_type": "markdown",
   "metadata": {},
   "source": [
    "# 11) Pegando o número do Acórdão"
   ]
  },
  {
   "cell_type": "code",
   "execution_count": 91,
   "metadata": {},
   "outputs": [
    {
     "data": {
      "text/html": [
       "<div>\n",
       "<style scoped>\n",
       "    .dataframe tbody tr th:only-of-type {\n",
       "        vertical-align: middle;\n",
       "    }\n",
       "\n",
       "    .dataframe tbody tr th {\n",
       "        vertical-align: top;\n",
       "    }\n",
       "\n",
       "    .dataframe thead th {\n",
       "        text-align: right;\n",
       "    }\n",
       "</style>\n",
       "<table border=\"1\" class=\"dataframe\">\n",
       "  <thead>\n",
       "    <tr style=\"text-align: right;\">\n",
       "      <th></th>\n",
       "      <th>conteudo</th>\n",
       "      <th>acordao</th>\n",
       "      <th>dia</th>\n",
       "    </tr>\n",
       "  </thead>\n",
       "  <tbody>\n",
       "    <tr>\n",
       "      <th>0</th>\n",
       "      <td>acórdão 176 processo 257091 tceacre relator c...</td>\n",
       "      <td>176</td>\n",
       "      <td></td>\n",
       "    </tr>\n",
       "    <tr>\n",
       "      <th>1</th>\n",
       "      <td>acórdão 7556 natureza do processo 12906200901...</td>\n",
       "      <td>7556</td>\n",
       "      <td></td>\n",
       "    </tr>\n",
       "    <tr>\n",
       "      <th>2</th>\n",
       "      <td>acórdão 7557 natureza do processo 14779201140...</td>\n",
       "      <td>7557</td>\n",
       "      <td></td>\n",
       "    </tr>\n",
       "    <tr>\n",
       "      <th>3</th>\n",
       "      <td>acórdão 7560 natureza do processo 14884201101...</td>\n",
       "      <td>7560</td>\n",
       "      <td></td>\n",
       "    </tr>\n",
       "    <tr>\n",
       "      <th>4</th>\n",
       "      <td>acórdão 7564 natureza do processo 14626201150...</td>\n",
       "      <td>7564</td>\n",
       "      <td></td>\n",
       "    </tr>\n",
       "  </tbody>\n",
       "</table>\n",
       "</div>"
      ],
      "text/plain": [
       "                                            conteudo acordao dia\n",
       "0   acórdão 176 processo 257091 tceacre relator c...     176    \n",
       "1   acórdão 7556 natureza do processo 12906200901...    7556    \n",
       "2   acórdão 7557 natureza do processo 14779201140...    7557    \n",
       "3   acórdão 7560 natureza do processo 14884201101...    7560    \n",
       "4   acórdão 7564 natureza do processo 14626201150...    7564    "
      ]
     },
     "execution_count": 91,
     "metadata": {},
     "output_type": "execute_result"
    }
   ],
   "source": [
    "acordaos = []\n",
    "for i in passo01.index:\n",
    "    texto = passo01.conteudo[i]\n",
    "    acordao = re.findall(\"(acórdão)( n. | n | )([0-9]{1,})( )\",texto)\n",
    "    if len(acordao) >= 1:\n",
    "        acordaos.append(acordao[0][2]) \n",
    "    else:\n",
    "        acordaos.append(\"00000000\")\n",
    "\n",
    "extrutura_transitorio_acordaos = {\n",
    "  'acordao': acordaos\n",
    "}\n",
    "\n",
    "transitorio_acordaos = pd.DataFrame(extrutura_transitorio_acordaos)\n",
    "passo01['acordao'] = transitorio_acordaos\n",
    "passo01.head()"
   ]
  },
  {
   "cell_type": "markdown",
   "metadata": {},
   "source": [
    "# 12) Analisando o que falta de Acórdãos"
   ]
  },
  {
   "cell_type": "code",
   "execution_count": 92,
   "metadata": {},
   "outputs": [
    {
     "name": "stdout",
     "output_type": "stream",
     "text": [
      "Foram encontrados 20 registros SEM acordao:\n",
      "[199, 334, 670, 791, 1020, 1132, 1193, 1194, 1195, 1196, 1197, 1199, 1201, 1208, 1209, 1227, 1345, 1369, 1519, 1571]\n",
      "Foram encontrados 2434 registros COM acordao:\n",
      "[0, 1, 2, 3, 4, 5, 6, 7, 8, 9, 10, 11, 12, 13, 14, 15, 16, 17, 18, 19, 20, 21, 22, 23, 24, 25, 26, 27, 28, 29, 30, 31, 32, 33, 34, 35, 36, 37, 38, 39, 40, 41, 42, 43, 44, 45, 46, 47, 48, 49, 50, 51, 52, 53, 54, 55, 56, 57, 58, 59, 60, 61, 62, 63, 64, 65, 66, 67, 68, 69, 70, 71, 72, 73, 74, 75, 76, 77, 78, 79, 80, 81, 82, 83, 84, 85, 86, 87, 88, 89, 90, 91, 92, 93, 94, 95, 96, 97, 98, 99, 100, 101, 102, 103, 104, 105, 106, 107, 108, 109, 110, 111, 112, 113, 114, 115, 116, 117, 118, 119, 120, 121, 122, 123, 124, 125, 126, 127, 128, 129, 130, 131, 132, 133, 134, 135, 136, 137, 138, 139, 140, 141, 142, 143, 144, 145, 146, 147, 148, 149, 150, 151, 152, 153, 154, 155, 156, 157, 158, 159, 160, 161, 162, 163, 164, 165, 166, 167, 168, 169, 170, 171, 172, 173, 174, 175, 176, 177, 178, 179, 180, 181, 182, 183, 184, 185, 186, 187, 188, 189, 190, 191, 192, 193, 194, 195, 196, 197, 198, 200, 201, 202, 203, 204, 205, 206, 207, 208, 209, 210, 211, 212, 213, 214, 215, 216, 217, 218, 219, 220, 221, 222, 223, 224, 225, 226, 227, 228, 229, 230, 231, 232, 233, 234, 235, 236, 237, 238, 239, 240, 241, 242, 243, 244, 245, 246, 247, 248, 249, 250, 251, 252, 253, 254, 255, 256, 257, 258, 259, 260, 261, 262, 263, 264, 265, 266, 267, 268, 269, 270, 271, 272, 273, 274, 275, 276, 277, 278, 279, 280, 281, 282, 283, 284, 285, 286, 287, 288, 289, 290, 291, 292, 293, 294, 295, 296, 297, 298, 299, 300, 301, 302, 303, 304, 305, 306, 307, 308, 309, 310, 311, 312, 313, 314, 315, 316, 317, 318, 319, 320, 321, 322, 323, 324, 325, 326, 327, 328, 329, 330, 331, 332, 333, 335, 336, 337, 338, 339, 340, 341, 342, 343, 344, 345, 346, 347, 348, 349, 350, 351, 352, 353, 354, 355, 356, 357, 358, 359, 360, 361, 362, 363, 364, 365, 366, 367, 368, 369, 370, 371, 372, 373, 374, 375, 376, 377, 378, 379, 380, 381, 382, 383, 384, 385, 386, 387, 388, 389, 390, 391, 392, 393, 394, 395, 396, 397, 398, 399, 400, 401, 402, 403, 404, 405, 406, 407, 408, 409, 410, 411, 412, 413, 414, 415, 416, 417, 418, 419, 420, 421, 422, 423, 424, 425, 426, 427, 428, 429, 430, 431, 432, 433, 434, 435, 436, 437, 438, 439, 440, 441, 442, 443, 444, 445, 446, 447, 448, 449, 450, 451, 452, 453, 454, 455, 456, 457, 458, 459, 460, 461, 462, 463, 464, 465, 466, 467, 468, 469, 470, 471, 472, 473, 474, 475, 476, 477, 478, 479, 480, 481, 482, 483, 484, 485, 486, 487, 488, 489, 490, 491, 492, 493, 494, 495, 496, 497, 498, 499, 500, 501, 502, 503, 504, 505, 506, 507, 508, 509, 510, 511, 512, 513, 514, 515, 516, 517, 518, 519, 520, 521, 522, 523, 524, 525, 526, 527, 528, 529, 530, 531, 532, 533, 534, 535, 536, 537, 538, 539, 540, 541, 542, 543, 544, 545, 546, 547, 548, 549, 550, 551, 552, 553, 554, 555, 556, 557, 558, 559, 560, 561, 562, 563, 564, 565, 566, 567, 568, 569, 570, 571, 572, 573, 574, 575, 576, 577, 578, 579, 580, 581, 582, 583, 584, 585, 586, 587, 588, 589, 590, 591, 592, 593, 594, 595, 596, 597, 598, 599, 600, 601, 602, 603, 604, 605, 606, 607, 608, 609, 610, 611, 612, 613, 614, 615, 616, 617, 618, 619, 620, 621, 622, 623, 624, 625, 626, 627, 628, 629, 630, 631, 632, 633, 634, 635, 636, 637, 638, 639, 640, 641, 642, 643, 644, 645, 646, 647, 648, 649, 650, 651, 652, 653, 654, 655, 656, 657, 658, 659, 660, 661, 662, 663, 664, 665, 666, 667, 668, 669, 671, 672, 673, 674, 675, 676, 677, 678, 679, 680, 681, 682, 683, 684, 685, 686, 687, 688, 689, 690, 691, 692, 693, 694, 695, 696, 697, 698, 699, 700, 701, 702, 703, 704, 705, 706, 707, 708, 709, 710, 711, 712, 713, 714, 715, 716, 717, 718, 719, 720, 721, 722, 723, 724, 725, 726, 727, 728, 729, 730, 731, 732, 733, 734, 735, 736, 737, 738, 739, 740, 741, 742, 743, 744, 745, 746, 747, 748, 749, 750, 751, 752, 753, 754, 755, 756, 757, 758, 759, 760, 761, 762, 763, 764, 765, 766, 767, 768, 769, 770, 771, 772, 773, 774, 775, 776, 777, 778, 779, 780, 781, 782, 783, 784, 785, 786, 787, 788, 789, 790, 792, 793, 794, 795, 796, 797, 798, 799, 800, 801, 802, 803, 804, 805, 806, 807, 808, 809, 810, 811, 812, 813, 814, 815, 816, 817, 818, 819, 820, 821, 822, 823, 824, 825, 826, 827, 828, 829, 830, 831, 832, 833, 834, 835, 836, 837, 838, 839, 840, 841, 842, 843, 844, 845, 846, 847, 848, 849, 850, 851, 852, 853, 854, 855, 856, 857, 858, 859, 860, 861, 862, 863, 864, 865, 866, 867, 868, 869, 870, 871, 872, 873, 874, 875, 876, 877, 878, 879, 880, 881, 882, 883, 884, 885, 886, 887, 888, 889, 890, 891, 892, 893, 894, 895, 896, 897, 898, 899, 900, 901, 902, 903, 904, 905, 906, 907, 908, 909, 910, 911, 912, 913, 914, 915, 916, 917, 918, 919, 920, 921, 922, 923, 924, 925, 926, 927, 928, 929, 930, 931, 932, 933, 934, 935, 936, 937, 938, 939, 940, 941, 942, 943, 944, 945, 946, 947, 948, 949, 950, 951, 952, 953, 954, 955, 956, 957, 958, 959, 960, 961, 962, 963, 964, 965, 966, 967, 968, 969, 970, 971, 972, 973, 974, 975, 976, 977, 978, 979, 980, 981, 982, 983, 984, 985, 986, 987, 988, 989, 990, 991, 992, 993, 994, 995, 996, 997, 998, 999, 1000, 1001, 1002, 1003, 1004, 1005, 1006, 1007, 1008, 1009, 1010, 1011, 1012, 1013, 1014, 1015, 1016, 1017, 1018, 1019, 1021, 1022, 1023, 1024, 1025, 1026, 1027, 1028, 1029, 1030, 1031, 1032, 1033, 1034, 1035, 1036, 1037, 1038, 1039, 1040, 1041, 1042, 1043, 1044, 1045, 1046, 1047, 1048, 1049, 1050, 1051, 1052, 1053, 1054, 1055, 1056, 1057, 1058, 1059, 1060, 1061, 1062, 1063, 1064, 1065, 1066, 1067, 1068, 1069, 1070, 1071, 1072, 1073, 1074, 1075, 1076, 1077, 1078, 1079, 1080, 1081, 1082, 1083, 1084, 1085, 1086, 1087, 1088, 1089, 1090, 1091, 1092, 1093, 1094, 1095, 1096, 1097, 1098, 1099, 1100, 1101, 1102, 1103, 1104, 1105, 1106, 1107, 1108, 1109, 1110, 1111, 1112, 1113, 1114, 1115, 1116, 1117, 1118, 1119, 1120, 1121, 1122, 1123, 1124, 1125, 1126, 1127, 1128, 1129, 1130, 1131, 1133, 1134, 1135, 1136, 1137, 1138, 1139, 1140, 1141, 1142, 1143, 1144, 1145, 1146, 1147, 1148, 1149, 1150, 1151, 1152, 1153, 1154, 1155, 1156, 1157, 1158, 1159, 1160, 1161, 1162, 1163, 1164, 1165, 1166, 1167, 1168, 1169, 1170, 1171, 1172, 1173, 1174, 1175, 1176, 1177, 1178, 1179, 1180, 1181, 1182, 1183, 1184, 1185, 1186, 1187, 1188, 1189, 1190, 1191, 1192, 1198, 1200, 1202, 1203, 1204, 1205, 1206, 1207, 1210, 1211, 1212, 1213, 1214, 1215, 1216, 1217, 1218, 1219, 1220, 1221, 1222, 1223, 1224, 1225, 1226, 1228, 1229, 1230, 1231, 1232, 1233, 1234, 1235, 1236, 1237, 1238, 1239, 1240, 1241, 1242, 1243, 1244, 1245, 1246, 1247, 1248, 1249, 1250, 1251, 1252, 1253, 1254, 1255, 1256, 1257, 1258, 1259, 1260, 1261, 1262, 1263, 1264, 1265, 1266, 1267, 1268, 1269, 1270, 1271, 1272, 1273, 1274, 1275, 1276, 1277, 1278, 1279, 1280, 1281, 1282, 1283, 1284, 1285, 1286, 1287, 1288, 1289, 1290, 1291, 1292, 1293, 1294, 1295, 1296, 1297, 1298, 1299, 1300, 1301, 1302, 1303, 1304, 1305, 1306, 1307, 1308, 1309, 1310, 1311, 1312, 1313, 1314, 1315, 1316, 1317, 1318, 1319, 1320, 1321, 1322, 1323, 1324, 1325, 1326, 1327, 1328, 1329, 1330, 1331, 1332, 1333, 1334, 1335, 1336, 1337, 1338, 1339, 1340, 1341, 1342, 1343, 1344, 1346, 1347, 1348, 1349, 1350, 1351, 1352, 1353, 1354, 1355, 1356, 1357, 1358, 1359, 1360, 1361, 1362, 1363, 1364, 1365, 1366, 1367, 1368, 1370, 1371, 1372, 1373, 1374, 1375, 1376, 1377, 1378, 1379, 1380, 1381, 1382, 1383, 1384, 1385, 1386, 1387, 1388, 1389, 1390, 1391, 1392, 1393, 1394, 1395, 1396, 1397, 1398, 1399, 1400, 1401, 1402, 1403, 1404, 1405, 1406, 1407, 1408, 1409, 1410, 1411, 1412, 1413, 1414, 1415, 1416, 1417, 1418, 1419, 1420, 1421, 1422, 1423, 1424, 1425, 1426, 1427, 1428, 1429, 1430, 1431, 1432, 1433, 1434, 1435, 1436, 1437, 1438, 1439, 1440, 1441, 1442, 1443, 1444, 1445, 1446, 1447, 1448, 1449, 1450, 1451, 1452, 1453, 1454, 1455, 1456, 1457, 1458, 1459, 1460, 1461, 1462, 1463, 1464, 1465, 1466, 1467, 1468, 1469, 1470, 1471, 1472, 1473, 1474, 1475, 1476, 1477, 1478, 1479, 1480, 1481, 1482, 1483, 1484, 1485, 1486, 1487, 1488, 1489, 1490, 1491, 1492, 1493, 1494, 1495, 1496, 1497, 1498, 1499, 1500, 1501, 1502, 1503, 1504, 1505, 1506, 1507, 1508, 1509, 1510, 1511, 1512, 1513, 1514, 1515, 1516, 1517, 1518, 1520, 1521, 1522, 1523, 1524, 1525, 1526, 1527, 1528, 1529, 1530, 1531, 1532, 1533, 1534, 1535, 1536, 1537, 1538, 1539, 1540, 1541, 1542, 1543, 1544, 1545, 1546, 1547, 1548, 1549, 1550, 1551, 1552, 1553, 1554, 1555, 1556, 1557, 1558, 1559, 1560, 1561, 1562, 1563, 1564, 1565, 1566, 1567, 1568, 1569, 1570, 1572, 1573, 1574, 1575, 1576, 1577, 1578, 1579, 1580, 1581, 1582, 1583, 1584, 1585, 1586, 1587, 1588, 1589, 1590, 1591, 1592, 1593, 1594, 1595, 1596, 1597, 1598, 1599, 1600, 1601, 1602, 1603, 1604, 1605, 1606, 1607, 1608, 1609, 1610, 1611, 1612, 1613, 1614, 1615, 1616, 1617, 1618, 1619, 1620, 1621, 1622, 1623, 1624, 1625, 1626, 1627, 1628, 1629, 1630, 1631, 1632, 1633, 1634, 1635, 1636, 1637, 1638, 1639, 1640, 1641, 1642, 1643, 1644, 1645, 1646, 1647, 1648, 1649, 1650, 1651, 1652, 1653, 1654, 1655, 1656, 1657, 1658, 1659, 1660, 1661, 1662, 1663, 1664, 1665, 1666, 1667, 1668, 1669, 1670, 1671, 1672, 1673, 1674, 1675, 1676, 1677, 1678, 1679, 1680, 1681, 1682, 1683, 1684, 1685, 1686, 1687, 1688, 1689, 1690, 1691, 1692, 1693, 1694, 1695, 1696, 1697, 1698, 1699, 1700, 1701, 1702, 1703, 1704, 1705, 1706, 1707, 1708, 1709, 1710, 1711, 1712, 1713, 1714, 1715, 1716, 1717, 1718, 1719, 1720, 1721, 1722, 1723, 1724, 1725, 1726, 1727, 1728, 1729, 1730, 1731, 1732, 1733, 1734, 1735, 1736, 1737, 1738, 1739, 1740, 1741, 1742, 1743, 1744, 1745, 1746, 1747, 1748, 1749, 1750, 1751, 1752, 1753, 1754, 1755, 1756, 1757, 1758, 1759, 1760, 1761, 1762, 1763, 1764, 1765, 1766, 1767, 1768, 1769, 1770, 1771, 1772, 1773, 1774, 1775, 1776, 1777, 1778, 1779, 1780, 1781, 1782, 1783, 1784, 1785, 1786, 1787, 1788, 1789, 1790, 1791, 1792, 1793, 1794, 1795, 1796, 1797, 1798, 1799, 1800, 1801, 1802, 1803, 1804, 1805, 1806, 1807, 1808, 1809, 1810, 1811, 1812, 1813, 1814, 1815, 1816, 1817, 1818, 1819, 1820, 1821, 1822, 1823, 1824, 1825, 1826, 1827, 1828, 1829, 1830, 1831, 1832, 1833, 1834, 1835, 1836, 1837, 1838, 1839, 1840, 1841, 1842, 1843, 1844, 1845, 1846, 1847, 1848, 1849, 1850, 1851, 1852, 1853, 1854, 1855, 1856, 1857, 1858, 1859, 1860, 1861, 1862, 1863, 1864, 1865, 1866, 1867, 1868, 1869, 1870, 1871, 1872, 1873, 1874, 1875, 1876, 1877, 1878, 1879, 1880, 1881, 1882, 1883, 1884, 1885, 1886, 1887, 1888, 1889, 1890, 1891, 1892, 1893, 1894, 1895, 1896, 1897, 1898, 1899, 1900, 1901, 1902, 1903, 1904, 1905, 1906, 1907, 1908, 1909, 1910, 1911, 1912, 1913, 1914, 1915, 1916, 1917, 1918, 1919, 1920, 1921, 1922, 1923, 1924, 1925, 1926, 1927, 1928, 1929, 1930, 1931, 1932, 1933, 1934, 1935, 1936, 1937, 1938, 1939, 1940, 1941, 1942, 1943, 1944, 1945, 1946, 1947, 1948, 1949, 1950, 1951, 1952, 1953, 1954, 1955, 1956, 1957, 1958, 1959, 1960, 1961, 1962, 1963, 1964, 1965, 1966, 1967, 1968, 1969, 1970, 1971, 1972, 1973, 1974, 1975, 1976, 1977, 1978, 1979, 1980, 1981, 1982, 1983, 1984, 1985, 1986, 1987, 1988, 1989, 1990, 1991, 1992, 1993, 1994, 1995, 1996, 1997, 1998, 1999, 2000, 2001, 2002, 2003, 2004, 2005, 2006, 2007, 2008, 2009, 2010, 2011, 2012, 2013, 2014, 2015, 2016, 2017, 2018, 2019, 2020, 2021, 2022, 2023, 2024, 2025, 2026, 2027, 2028, 2029, 2030, 2031, 2032, 2033, 2034, 2035, 2036, 2037, 2038, 2039, 2040, 2041, 2042, 2043, 2044, 2045, 2046, 2047, 2048, 2049, 2050, 2051, 2052, 2053, 2054, 2055, 2056, 2057, 2058, 2059, 2060, 2061, 2062, 2063, 2064, 2065, 2066, 2067, 2068, 2069, 2070, 2071, 2072, 2073, 2074, 2075, 2076, 2077, 2078, 2079, 2080, 2081, 2082, 2083, 2084, 2085, 2086, 2087, 2088, 2089, 2090, 2091, 2092, 2093, 2094, 2095, 2096, 2097, 2098, 2099, 2100, 2101, 2102, 2103, 2104, 2105, 2106, 2107, 2108, 2109, 2110, 2111, 2112, 2113, 2114, 2115, 2116, 2117, 2118, 2119, 2120, 2121, 2122, 2123, 2124, 2125, 2126, 2127, 2128, 2129, 2130, 2131, 2132, 2133, 2134, 2135, 2136, 2137, 2138, 2139, 2140, 2141, 2142, 2143, 2144, 2145, 2146, 2147, 2148, 2149, 2150, 2151, 2152, 2153, 2154, 2155, 2156, 2157, 2158, 2159, 2160, 2161, 2162, 2163, 2164, 2165, 2166, 2167, 2168, 2169, 2170, 2171, 2172, 2173, 2174, 2175, 2176, 2177, 2178, 2179, 2180, 2181, 2182, 2183, 2184, 2185, 2186, 2187, 2188, 2189, 2190, 2191, 2192, 2193, 2194, 2195, 2196, 2197, 2198, 2199, 2200, 2201, 2202, 2203, 2204, 2205, 2206, 2207, 2208, 2209, 2210, 2211, 2212, 2213, 2214, 2215, 2216, 2217, 2218, 2219, 2220, 2221, 2222, 2223, 2224, 2225, 2226, 2227, 2228, 2229, 2230, 2231, 2232, 2233, 2234, 2235, 2236, 2237, 2238, 2239, 2240, 2241, 2242, 2243, 2244, 2245, 2246, 2247, 2248, 2249, 2250, 2251, 2252, 2253, 2254, 2255, 2256, 2257, 2258, 2259, 2260, 2261, 2262, 2263, 2264, 2265, 2266, 2267, 2268, 2269, 2270, 2271, 2272, 2273, 2274, 2275, 2276, 2277, 2278, 2279, 2280, 2281, 2282, 2283, 2284, 2285, 2286, 2287, 2288, 2289, 2290, 2291, 2292, 2293, 2294, 2295, 2296, 2297, 2298, 2299, 2300, 2301, 2302, 2303, 2304, 2305, 2306, 2307, 2308, 2309, 2310, 2311, 2312, 2313, 2314, 2315, 2316, 2317, 2318, 2319, 2320, 2321, 2322, 2323, 2324, 2325, 2326, 2327, 2328, 2329, 2330, 2331, 2332, 2333, 2334, 2335, 2336, 2337, 2338, 2339, 2340, 2341, 2342, 2343, 2344, 2345, 2346, 2347, 2348, 2349, 2350, 2351, 2352, 2353, 2354, 2355, 2356, 2357, 2358, 2359, 2360, 2361, 2362, 2363, 2364, 2365, 2366, 2367, 2368, 2369, 2370, 2371, 2372, 2373, 2374, 2375, 2376, 2377, 2378, 2379, 2380, 2381, 2382, 2383, 2384, 2385, 2386, 2387, 2388, 2389, 2390, 2391, 2392, 2393, 2394, 2395, 2396, 2397, 2398, 2399, 2400, 2401, 2402, 2403, 2404, 2405, 2406, 2407, 2408, 2409, 2410, 2411, 2412, 2413, 2414, 2415, 2416, 2417, 2418, 2419, 2420, 2421, 2422, 2423, 2424, 2425, 2426, 2427, 2428, 2429, 2430, 2431, 2432, 2433, 2434, 2435, 2436, 2437, 2438, 2439, 2440, 2441, 2442, 2443, 2444, 2445, 2446, 2447, 2448, 2449, 2450, 2451, 2452, 2453]\n"
     ]
    }
   ],
   "source": [
    "def Retorna_registros_sem_acordao(tabela):\n",
    "    resultado = []\n",
    "    for indice , acordao in enumerate(tabela['acordao']):\n",
    "        if acordao == '00000000':\n",
    "            resultado.append(indice)\n",
    "    return resultado\n",
    "\n",
    "def Retorna_registros_com_acordao(tabela):\n",
    "    resultado = []\n",
    "    for indice , acordao in enumerate(tabela['acordao']):\n",
    "        if acordao != '00000000':\n",
    "            resultado.append(indice)\n",
    "    return resultado\n",
    "\n",
    "sem_acordao = Retorna_registros_sem_acordao(passo01)\n",
    "com_acordao = Retorna_registros_com_acordao(passo01)\n",
    "print(f'Foram encontrados {len(sem_acordao)} registros SEM acordao:')\n",
    "print(sem_acordao)\n",
    "print(f'Foram encontrados {len(com_acordao)} registros COM acordao:')\n",
    "print(com_acordao)\n"
   ]
  },
  {
   "cell_type": "code",
   "execution_count": 93,
   "metadata": {},
   "outputs": [],
   "source": [
    "def analise_registros_numero_acordao():\n",
    "    linhas = []\n",
    "    antigo = pd.read_csv(f\"{diretorio_planilhas}\\\\transitorio01.csv\",index_col=[0])\n",
    "    print('Registros sem a DATA:\\n==========\\n')\n",
    "    for indice in sem_acordao:\n",
    "        linhas.append(f'\\nindice {indice}')\n",
    "        resultados = re.findall(\"(acórdão......................)\",antigo[\"conteudo\"][indice])\n",
    "        linhas.append(f'Antes = \\n')\n",
    "        for i, resultado in enumerate(resultados):\n",
    "            linhas.append(f'       {i} - {resultado}')\n",
    "        resultados = re.findall(\"(acórdão.......................)\",passo01[\"conteudo\"][indice])\n",
    "        linhas.append(f'Agora = \\n')\n",
    "        for i, resultado in enumerate(resultados):\n",
    "            linhas.append(f'       {i} - {resultado}')\n",
    "    print('================\\nVER RESPOSTA EM CSV RESULTADOS_SEM_NUMERO_ACORDAO\\n===============')\n",
    "\n",
    "    extrutura_resultado = {\n",
    "    'linha': linhas\n",
    "    }\n",
    "    transitorio_acordao_numero = pd.DataFrame(extrutura_resultado)\n",
    "    transitorio_acordao_numero.to_csv(f\"{diretorio_planilhas}\\\\resultados_sem_acordao.csv\")"
   ]
  },
  {
   "cell_type": "markdown",
   "metadata": {},
   "source": [
    "# 13) Finalizar ultimos Acórdãos"
   ]
  },
  {
   "cell_type": "code",
   "execution_count": 94,
   "metadata": {},
   "outputs": [],
   "source": [
    "def analise_acordao(inicio_em):\n",
    "    antigo = pd.read_csv(f\"{diretorio_planilhas}\\\\transitorio01.csv\",index_col=[0])\n",
    "    proxima = inicio_em\n",
    "    inicio = 0 + proxima\n",
    "    final = 5 + proxima\n",
    "    pagina_atual = sem_acordao[inicio:final]\n",
    "    print('Registros sem a ACORDAO:\\n==========\\n')\n",
    "    for indice in pagina_atual:\n",
    "        print(f'\\nindice {indice}')\n",
    "        print(f'Antes = \\n       {antigo[\"conteudo\"][indice][0:300]}')\n",
    "        print(f'Agora = \\n       {passo01[\"conteudo\"][indice][0:300]}')\n",
    "        resultados = re.findall(\"acordao..........................\",antigo[\"conteudo\"][indice])\n",
    "        print(f'Resultado Agora: {passo01[\"acordao\"][indice]}')\n",
    "        for i, acordao in enumerate(resultados):\n",
    "            print(f'       {i} - {acordao[0:30]}')\n",
    "    print('==================\\n')"
   ]
  },
  {
   "cell_type": "code",
   "execution_count": 95,
   "metadata": {},
   "outputs": [],
   "source": [
    "#for texto in sem_acordao:\n",
    "   # print(passo01['conteudo'][sem_acordao][0:100])"
   ]
  },
  {
   "cell_type": "code",
   "execution_count": 96,
   "metadata": {},
   "outputs": [],
   "source": [
    "#analise_acordao(199)"
   ]
  },
  {
   "cell_type": "markdown",
   "metadata": {},
   "source": [
    "# 14) Adequações"
   ]
  },
  {
   "cell_type": "code",
   "execution_count": 97,
   "metadata": {},
   "outputs": [
    {
     "data": {
      "text/html": [
       "<div>\n",
       "<style scoped>\n",
       "    .dataframe tbody tr th:only-of-type {\n",
       "        vertical-align: middle;\n",
       "    }\n",
       "\n",
       "    .dataframe tbody tr th {\n",
       "        vertical-align: top;\n",
       "    }\n",
       "\n",
       "    .dataframe thead th {\n",
       "        text-align: right;\n",
       "    }\n",
       "</style>\n",
       "<table border=\"1\" class=\"dataframe\">\n",
       "  <thead>\n",
       "    <tr style=\"text-align: right;\">\n",
       "      <th></th>\n",
       "      <th>conteudo</th>\n",
       "      <th>acordao</th>\n",
       "      <th>dia</th>\n",
       "    </tr>\n",
       "  </thead>\n",
       "  <tbody>\n",
       "    <tr>\n",
       "      <th>0</th>\n",
       "      <td>acórdão 176 processo 257091 tceacre relator c...</td>\n",
       "      <td>176</td>\n",
       "      <td></td>\n",
       "    </tr>\n",
       "    <tr>\n",
       "      <th>1</th>\n",
       "      <td>acórdão 7556 natureza do processo 12906200901...</td>\n",
       "      <td>7556</td>\n",
       "      <td></td>\n",
       "    </tr>\n",
       "    <tr>\n",
       "      <th>2</th>\n",
       "      <td>acórdão 7557 natureza do processo 14779201140...</td>\n",
       "      <td>7557</td>\n",
       "      <td></td>\n",
       "    </tr>\n",
       "    <tr>\n",
       "      <th>3</th>\n",
       "      <td>acórdão 7560 natureza do processo 14884201101...</td>\n",
       "      <td>7560</td>\n",
       "      <td></td>\n",
       "    </tr>\n",
       "    <tr>\n",
       "      <th>4</th>\n",
       "      <td>acórdão 7564 natureza do processo 14626201150...</td>\n",
       "      <td>7564</td>\n",
       "      <td></td>\n",
       "    </tr>\n",
       "  </tbody>\n",
       "</table>\n",
       "</div>"
      ],
      "text/plain": [
       "                                            conteudo acordao dia\n",
       "0   acórdão 176 processo 257091 tceacre relator c...     176    \n",
       "1   acórdão 7556 natureza do processo 12906200901...    7556    \n",
       "2   acórdão 7557 natureza do processo 14779201140...    7557    \n",
       "3   acórdão 7560 natureza do processo 14884201101...    7560    \n",
       "4   acórdão 7564 natureza do processo 14626201150...    7564    "
      ]
     },
     "execution_count": 97,
     "metadata": {},
     "output_type": "execute_result"
    }
   ],
   "source": [
    "# Pré compilação\n",
    "regex_janeiro_cortado = re.compile(r\"janeir o\")\n",
    "regex_fevereiro_cortado = re.compile(r\"(fevere iro|fevereir o)\")\n",
    "regex_marco_cortado = re.compile(r\"març o\")\n",
    "regex_maio_cortado = re.compile(r\"m aio\")\n",
    "regex_agosto_cortado = re.compile(r\"agost o\")\n",
    "regex_outubro_cortado = re.compile(r\"outubr o\")\n",
    "regex_novembro_cortado = re.compile(r\"(novembr o|novem bro)\")\n",
    "regex_dezembro_cortado = re.compile(r\"(dezem bro)\")\n",
    "regex_primeiro = re.compile(r\"(1º)\")\n",
    "regex_rio_branco_acre = re.compile(r\"rio brancoacre |rio branco ac \")\n",
    "regex_data = re.compile(r\"(rio branco acre )([0-9][0-9])([0-9][0-9])([0-9][0-9][0-9][0-9])\")\n",
    "\n",
    "\n",
    "\n",
    "conteudos = []\n",
    "try:\n",
    "    for texto in passo01['conteudo']:\n",
    "        resposta = substituir(texto,r\"janeiro\",regex_janeiro_cortado)\n",
    "        resposta = substituir(resposta,r\"fevereiro\",regex_fevereiro_cortado)\n",
    "        resposta = substituir(resposta,r\"março\",regex_marco_cortado)\n",
    "        resposta = substituir(resposta,r\"maio\",regex_maio_cortado)\n",
    "        resposta = substituir(resposta,r\"agosto\",regex_agosto_cortado)\n",
    "        resposta = substituir(resposta,r\"outubro\",regex_outubro_cortado)\n",
    "        resposta = substituir(resposta,r\"novembro\",regex_novembro_cortado)\n",
    "        resposta = substituir(resposta,r\"dezembro\",regex_dezembro_cortado)\n",
    "        resposta = substituir(resposta,r\"01\",regex_primeiro)\n",
    "        resposta = substituir(resposta,r\"\\2/\\3/\\4\",regex_data)\n",
    "        resposta = substituir(resposta,r\"rio branco acre \",regex_rio_branco_acre)\n",
    "        resposta = substituir(resposta,\" \",regex_espacos_em_branco_em_duplicidade)\n",
    "        conteudos.append(resposta)\n",
    "except ValueError as numero_erro:\n",
    "    print(\"Erro ao retirar espaço vazio entre números :\", numero_erro)\n",
    "\n",
    "\n",
    "extrutura_transitorio_conteudos = {\n",
    "  'conteudo': conteudos\n",
    "}\n",
    "\n",
    "transitorio_conteudo = pd.DataFrame(extrutura_transitorio_conteudos)\n",
    "passo01['conteudo'] = transitorio_conteudo\n",
    "passo01.head()"
   ]
  },
  {
   "cell_type": "markdown",
   "metadata": {},
   "source": [
    "# 15) Pegando Data"
   ]
  },
  {
   "cell_type": "code",
   "execution_count": 98,
   "metadata": {},
   "outputs": [
    {
     "name": "stdout",
     "output_type": "stream",
     "text": [
      "Aguarde"
     ]
    },
    {
     "data": {
      "text/html": [
       "<div>\n",
       "<style scoped>\n",
       "    .dataframe tbody tr th:only-of-type {\n",
       "        vertical-align: middle;\n",
       "    }\n",
       "\n",
       "    .dataframe tbody tr th {\n",
       "        vertical-align: top;\n",
       "    }\n",
       "\n",
       "    .dataframe thead th {\n",
       "        text-align: right;\n",
       "    }\n",
       "</style>\n",
       "<table border=\"1\" class=\"dataframe\">\n",
       "  <thead>\n",
       "    <tr style=\"text-align: right;\">\n",
       "      <th></th>\n",
       "      <th>conteudo</th>\n",
       "      <th>acordao</th>\n",
       "      <th>dia</th>\n",
       "    </tr>\n",
       "  </thead>\n",
       "  <tbody>\n",
       "    <tr>\n",
       "      <th>0</th>\n",
       "      <td>acórdão 176 processo 257091 tceacre relator c...</td>\n",
       "      <td>176</td>\n",
       "      <td></td>\n",
       "    </tr>\n",
       "    <tr>\n",
       "      <th>1</th>\n",
       "      <td>acórdão 7556 natureza do processo 12906200901...</td>\n",
       "      <td>7556</td>\n",
       "      <td></td>\n",
       "    </tr>\n",
       "    <tr>\n",
       "      <th>2</th>\n",
       "      <td>acórdão 7557 natureza do processo 14779201140...</td>\n",
       "      <td>7557</td>\n",
       "      <td></td>\n",
       "    </tr>\n",
       "    <tr>\n",
       "      <th>3</th>\n",
       "      <td>acórdão 7560 natureza do processo 14884201101...</td>\n",
       "      <td>7560</td>\n",
       "      <td></td>\n",
       "    </tr>\n",
       "    <tr>\n",
       "      <th>4</th>\n",
       "      <td>acórdão 7564 natureza do processo 14626201150...</td>\n",
       "      <td>7564</td>\n",
       "      <td></td>\n",
       "    </tr>\n",
       "  </tbody>\n",
       "</table>\n",
       "</div>"
      ],
      "text/plain": [
       "                                            conteudo acordao dia\n",
       "0   acórdão 176 processo 257091 tceacre relator c...     176    \n",
       "1   acórdão 7556 natureza do processo 12906200901...    7556    \n",
       "2   acórdão 7557 natureza do processo 14779201140...    7557    \n",
       "3   acórdão 7560 natureza do processo 14884201101...    7560    \n",
       "4   acórdão 7564 natureza do processo 14626201150...    7564    "
      ]
     },
     "execution_count": 98,
     "metadata": {},
     "output_type": "execute_result"
    }
   ],
   "source": [
    "substituicoes_relacionado_a_data(passo01)\n",
    "passo01.head()"
   ]
  },
  {
   "cell_type": "code",
   "execution_count": 99,
   "metadata": {},
   "outputs": [
    {
     "data": {
      "text/html": [
       "<div>\n",
       "<style scoped>\n",
       "    .dataframe tbody tr th:only-of-type {\n",
       "        vertical-align: middle;\n",
       "    }\n",
       "\n",
       "    .dataframe tbody tr th {\n",
       "        vertical-align: top;\n",
       "    }\n",
       "\n",
       "    .dataframe thead th {\n",
       "        text-align: right;\n",
       "    }\n",
       "</style>\n",
       "<table border=\"1\" class=\"dataframe\">\n",
       "  <thead>\n",
       "    <tr style=\"text-align: right;\">\n",
       "      <th></th>\n",
       "      <th>conteudo</th>\n",
       "      <th>acordao</th>\n",
       "      <th>dia</th>\n",
       "    </tr>\n",
       "  </thead>\n",
       "  <tbody>\n",
       "    <tr>\n",
       "      <th>0</th>\n",
       "      <td>acórdão 176 processo 257091 tceacre relator c...</td>\n",
       "      <td>176</td>\n",
       "      <td>02/04/1992</td>\n",
       "    </tr>\n",
       "    <tr>\n",
       "      <th>1</th>\n",
       "      <td>acórdão 7556 natureza do processo 12906200901...</td>\n",
       "      <td>7556</td>\n",
       "      <td>02/02/2012</td>\n",
       "    </tr>\n",
       "    <tr>\n",
       "      <th>2</th>\n",
       "      <td>acórdão 7557 natureza do processo 14779201140...</td>\n",
       "      <td>7557</td>\n",
       "      <td>02/02/2012</td>\n",
       "    </tr>\n",
       "    <tr>\n",
       "      <th>3</th>\n",
       "      <td>acórdão 7560 natureza do processo 14884201101...</td>\n",
       "      <td>7560</td>\n",
       "      <td>02/02/2012</td>\n",
       "    </tr>\n",
       "    <tr>\n",
       "      <th>4</th>\n",
       "      <td>acórdão 7564 natureza do processo 14626201150...</td>\n",
       "      <td>7564</td>\n",
       "      <td>02/02/2012</td>\n",
       "    </tr>\n",
       "  </tbody>\n",
       "</table>\n",
       "</div>"
      ],
      "text/plain": [
       "                                            conteudo acordao         dia\n",
       "0   acórdão 176 processo 257091 tceacre relator c...     176  02/04/1992\n",
       "1   acórdão 7556 natureza do processo 12906200901...    7556  02/02/2012\n",
       "2   acórdão 7557 natureza do processo 14779201140...    7557  02/02/2012\n",
       "3   acórdão 7560 natureza do processo 14884201101...    7560  02/02/2012\n",
       "4   acórdão 7564 natureza do processo 14626201150...    7564  02/02/2012"
      ]
     },
     "execution_count": 99,
     "metadata": {},
     "output_type": "execute_result"
    }
   ],
   "source": [
    "\n",
    "dias = []\n",
    "try:\n",
    "    for i, texto in enumerate(passo01['conteudo']):\n",
    "        dia = re.findall(\"(rio branco)( acre |, | )([0-9][0-9]|[0-9])\\/([0-9][0-9])\\/([0-9][0-9][0-9][0-9])\",texto)\n",
    "        if len(dia) >= 1:\n",
    "            #print(f'{i} dia {dia[0][0]+dia[0][1]+dia[0][2]+\"/\"+dia[0][3]+\"/\"+dia[0][4]}')\n",
    "            dias.append(dia[0][2]+'/'+dia[0][3]+'/'+dia[0][4])\n",
    "        else:\n",
    "            dias.append(\"00/00/0000\")\n",
    "except ValueError as numero_erro:\n",
    "    print(\"Erro ao pegar a data :\", numero_erro)\n",
    "\n",
    "\n",
    "extrutura_transitorio_dias = {\n",
    "  'dia': dias\n",
    "}\n",
    "\n",
    "transitorio_dia = pd.DataFrame(extrutura_transitorio_dias)\n",
    "passo01['dia'] = transitorio_dia\n",
    "passo01.head()"
   ]
  },
  {
   "cell_type": "markdown",
   "metadata": {},
   "source": [
    "# 16) Analisando o que falta de Datas"
   ]
  },
  {
   "cell_type": "code",
   "execution_count": 100,
   "metadata": {},
   "outputs": [
    {
     "name": "stdout",
     "output_type": "stream",
     "text": [
      "Foram encontrados 610 registros SEM DATA:\n",
      "[20, 21, 31, 49, 51, 53, 71, 73, 75, 77, 80, 82, 89, 98, 103, 111, 112, 113, 116, 121, 132, 135, 145, 146, 152, 161, 162, 165, 172, 177, 192, 193, 199, 200, 203, 213, 214, 216, 218, 221, 233, 234, 237, 238, 244, 245, 269, 275, 282, 289, 293, 297, 298, 299, 301, 310, 317, 321, 324, 330, 332, 333, 334, 337, 338, 339, 341, 343, 348, 350, 356, 358, 369, 370, 371, 372, 374, 379, 380, 387, 392, 396, 398, 400, 402, 407, 409, 411, 412, 413, 418, 422, 423, 425, 437, 438, 439, 440, 441, 445, 447, 448, 449, 450, 465, 470, 473, 474, 475, 476, 484, 492, 500, 505, 513, 514, 515, 518, 521, 523, 530, 534, 537, 551, 557, 562, 563, 570, 574, 575, 577, 582, 584, 586, 587, 589, 590, 598, 603, 608, 609, 614, 616, 622, 624, 625, 629, 634, 635, 636, 643, 645, 648, 650, 651, 653, 654, 655, 661, 672, 678, 679, 691, 694, 695, 696, 701, 702, 703, 711, 712, 713, 715, 716, 717, 718, 720, 724, 727, 728, 730, 731, 734, 736, 737, 743, 744, 747, 749, 750, 751, 753, 754, 756, 757, 758, 760, 763, 766, 767, 771, 772, 773, 774, 785, 787, 788, 789, 790, 791, 794, 795, 809, 810, 812, 813, 816, 817, 819, 820, 822, 826, 827, 828, 831, 832, 833, 835, 840, 841, 842, 844, 847, 872, 874, 875, 876, 879, 880, 882, 883, 885, 887, 888, 889, 890, 891, 892, 896, 898, 900, 901, 903, 905, 910, 911, 913, 914, 915, 918, 920, 925, 929, 930, 931, 937, 938, 941, 942, 945, 946, 947, 949, 964, 968, 969, 970, 972, 973, 977, 979, 980, 982, 983, 987, 994, 997, 999, 1000, 1001, 1002, 1005, 1006, 1009, 1010, 1012, 1014, 1015, 1016, 1017, 1018, 1019, 1021, 1022, 1023, 1025, 1026, 1031, 1032, 1033, 1034, 1035, 1036, 1037, 1041, 1042, 1044, 1045, 1047, 1050, 1052, 1053, 1070, 1071, 1072, 1073, 1074, 1076, 1077, 1080, 1081, 1086, 1088, 1089, 1091, 1092, 1093, 1096, 1098, 1099, 1100, 1103, 1106, 1107, 1108, 1110, 1111, 1114, 1115, 1117, 1118, 1119, 1121, 1123, 1124, 1125, 1126, 1128, 1129, 1131, 1132, 1133, 1135, 1141, 1142, 1143, 1145, 1148, 1149, 1150, 1152, 1154, 1157, 1158, 1159, 1160, 1162, 1163, 1164, 1165, 1167, 1170, 1171, 1179, 1180, 1182, 1187, 1188, 1189, 1192, 1194, 1197, 1198, 1199, 1200, 1201, 1203, 1204, 1205, 1206, 1207, 1208, 1209, 1212, 1213, 1216, 1217, 1219, 1220, 1221, 1225, 1227, 1228, 1229, 1230, 1231, 1233, 1234, 1237, 1239, 1240, 1242, 1243, 1244, 1245, 1246, 1247, 1250, 1251, 1252, 1253, 1254, 1261, 1263, 1265, 1266, 1267, 1269, 1270, 1271, 1273, 1274, 1276, 1279, 1280, 1283, 1284, 1286, 1289, 1290, 1291, 1292, 1296, 1298, 1299, 1300, 1301, 1302, 1303, 1304, 1305, 1306, 1310, 1312, 1314, 1315, 1316, 1319, 1320, 1321, 1322, 1323, 1324, 1325, 1327, 1328, 1333, 1334, 1335, 1336, 1337, 1338, 1339, 1340, 1343, 1344, 1345, 1346, 1347, 1350, 1353, 1355, 1359, 1360, 1363, 1369, 1370, 1377, 1378, 1379, 1380, 1381, 1389, 1390, 1398, 1399, 1404, 1405, 1406, 1410, 1411, 1413, 1416, 1419, 1420, 1422, 1425, 1426, 1428, 1429, 1436, 1437, 1439, 1443, 1461, 1464, 1465, 1470, 1473, 1479, 1480, 1481, 1482, 1483, 1484, 1487, 1489, 1490, 1492, 1494, 1495, 1496, 1497, 1498, 1500, 1502, 1503, 1504, 1505, 1507, 1509, 1510, 1511, 1512, 1519, 1521, 1523, 1525, 1526, 1527, 1529, 1530, 1535, 1542, 1544, 1546, 1548, 1549, 1551, 1554, 1555, 1557, 1559, 1560, 1561, 1562, 1565, 1567, 1568, 1569, 1570, 1571, 1573, 1577, 1579, 1581, 1583, 1586, 1589, 1592, 1594, 1640, 1837, 1845, 2154, 2226, 2233, 2248, 2264, 2268, 2292, 2314, 2359, 2369, 2397, 2403, 2412, 2430, 2432, 2441]\n",
      "Foram encontrados 1844 registros COM DATA:\n",
      "[0, 1, 2, 3, 4, 5, 6, 7, 8, 9, 10, 11, 12, 13, 14, 15, 16, 17, 18, 19, 22, 23, 24, 25, 26, 27, 28, 29, 30, 32, 33, 34, 35, 36, 37, 38, 39, 40, 41, 42, 43, 44, 45, 46, 47, 48, 50, 52, 54, 55, 56, 57, 58, 59, 60, 61, 62, 63, 64, 65, 66, 67, 68, 69, 70, 72, 74, 76, 78, 79, 81, 83, 84, 85, 86, 87, 88, 90, 91, 92, 93, 94, 95, 96, 97, 99, 100, 101, 102, 104, 105, 106, 107, 108, 109, 110, 114, 115, 117, 118, 119, 120, 122, 123, 124, 125, 126, 127, 128, 129, 130, 131, 133, 134, 136, 137, 138, 139, 140, 141, 142, 143, 144, 147, 148, 149, 150, 151, 153, 154, 155, 156, 157, 158, 159, 160, 163, 164, 166, 167, 168, 169, 170, 171, 173, 174, 175, 176, 178, 179, 180, 181, 182, 183, 184, 185, 186, 187, 188, 189, 190, 191, 194, 195, 196, 197, 198, 201, 202, 204, 205, 206, 207, 208, 209, 210, 211, 212, 215, 217, 219, 220, 222, 223, 224, 225, 226, 227, 228, 229, 230, 231, 232, 235, 236, 239, 240, 241, 242, 243, 246, 247, 248, 249, 250, 251, 252, 253, 254, 255, 256, 257, 258, 259, 260, 261, 262, 263, 264, 265, 266, 267, 268, 270, 271, 272, 273, 274, 276, 277, 278, 279, 280, 281, 283, 284, 285, 286, 287, 288, 290, 291, 292, 294, 295, 296, 300, 302, 303, 304, 305, 306, 307, 308, 309, 311, 312, 313, 314, 315, 316, 318, 319, 320, 322, 323, 325, 326, 327, 328, 329, 331, 335, 336, 340, 342, 344, 345, 346, 347, 349, 351, 352, 353, 354, 355, 357, 359, 360, 361, 362, 363, 364, 365, 366, 367, 368, 373, 375, 376, 377, 378, 381, 382, 383, 384, 385, 386, 388, 389, 390, 391, 393, 394, 395, 397, 399, 401, 403, 404, 405, 406, 408, 410, 414, 415, 416, 417, 419, 420, 421, 424, 426, 427, 428, 429, 430, 431, 432, 433, 434, 435, 436, 442, 443, 444, 446, 451, 452, 453, 454, 455, 456, 457, 458, 459, 460, 461, 462, 463, 464, 466, 467, 468, 469, 471, 472, 477, 478, 479, 480, 481, 482, 483, 485, 486, 487, 488, 489, 490, 491, 493, 494, 495, 496, 497, 498, 499, 501, 502, 503, 504, 506, 507, 508, 509, 510, 511, 512, 516, 517, 519, 520, 522, 524, 525, 526, 527, 528, 529, 531, 532, 533, 535, 536, 538, 539, 540, 541, 542, 543, 544, 545, 546, 547, 548, 549, 550, 552, 553, 554, 555, 556, 558, 559, 560, 561, 564, 565, 566, 567, 568, 569, 571, 572, 573, 576, 578, 579, 580, 581, 583, 585, 588, 591, 592, 593, 594, 595, 596, 597, 599, 600, 601, 602, 604, 605, 606, 607, 610, 611, 612, 613, 615, 617, 618, 619, 620, 621, 623, 626, 627, 628, 630, 631, 632, 633, 637, 638, 639, 640, 641, 642, 644, 646, 647, 649, 652, 656, 657, 658, 659, 660, 662, 663, 664, 665, 666, 667, 668, 669, 670, 671, 673, 674, 675, 676, 677, 680, 681, 682, 683, 684, 685, 686, 687, 688, 689, 690, 692, 693, 697, 698, 699, 700, 704, 705, 706, 707, 708, 709, 710, 714, 719, 721, 722, 723, 725, 726, 729, 732, 733, 735, 738, 739, 740, 741, 742, 745, 746, 748, 752, 755, 759, 761, 762, 764, 765, 768, 769, 770, 775, 776, 777, 778, 779, 780, 781, 782, 783, 784, 786, 792, 793, 796, 797, 798, 799, 800, 801, 802, 803, 804, 805, 806, 807, 808, 811, 814, 815, 818, 821, 823, 824, 825, 829, 830, 834, 836, 837, 838, 839, 843, 845, 846, 848, 849, 850, 851, 852, 853, 854, 855, 856, 857, 858, 859, 860, 861, 862, 863, 864, 865, 866, 867, 868, 869, 870, 871, 873, 877, 878, 881, 884, 886, 893, 894, 895, 897, 899, 902, 904, 906, 907, 908, 909, 912, 916, 917, 919, 921, 922, 923, 924, 926, 927, 928, 932, 933, 934, 935, 936, 939, 940, 943, 944, 948, 950, 951, 952, 953, 954, 955, 956, 957, 958, 959, 960, 961, 962, 963, 965, 966, 967, 971, 974, 975, 976, 978, 981, 984, 985, 986, 988, 989, 990, 991, 992, 993, 995, 996, 998, 1003, 1004, 1007, 1008, 1011, 1013, 1020, 1024, 1027, 1028, 1029, 1030, 1038, 1039, 1040, 1043, 1046, 1048, 1049, 1051, 1054, 1055, 1056, 1057, 1058, 1059, 1060, 1061, 1062, 1063, 1064, 1065, 1066, 1067, 1068, 1069, 1075, 1078, 1079, 1082, 1083, 1084, 1085, 1087, 1090, 1094, 1095, 1097, 1101, 1102, 1104, 1105, 1109, 1112, 1113, 1116, 1120, 1122, 1127, 1130, 1134, 1136, 1137, 1138, 1139, 1140, 1144, 1146, 1147, 1151, 1153, 1155, 1156, 1161, 1166, 1168, 1169, 1172, 1173, 1174, 1175, 1176, 1177, 1178, 1181, 1183, 1184, 1185, 1186, 1190, 1191, 1193, 1195, 1196, 1202, 1210, 1211, 1214, 1215, 1218, 1222, 1223, 1224, 1226, 1232, 1235, 1236, 1238, 1241, 1248, 1249, 1255, 1256, 1257, 1258, 1259, 1260, 1262, 1264, 1268, 1272, 1275, 1277, 1278, 1281, 1282, 1285, 1287, 1288, 1293, 1294, 1295, 1297, 1307, 1308, 1309, 1311, 1313, 1317, 1318, 1326, 1329, 1330, 1331, 1332, 1341, 1342, 1348, 1349, 1351, 1352, 1354, 1356, 1357, 1358, 1361, 1362, 1364, 1365, 1366, 1367, 1368, 1371, 1372, 1373, 1374, 1375, 1376, 1382, 1383, 1384, 1385, 1386, 1387, 1388, 1391, 1392, 1393, 1394, 1395, 1396, 1397, 1400, 1401, 1402, 1403, 1407, 1408, 1409, 1412, 1414, 1415, 1417, 1418, 1421, 1423, 1424, 1427, 1430, 1431, 1432, 1433, 1434, 1435, 1438, 1440, 1441, 1442, 1444, 1445, 1446, 1447, 1448, 1449, 1450, 1451, 1452, 1453, 1454, 1455, 1456, 1457, 1458, 1459, 1460, 1462, 1463, 1466, 1467, 1468, 1469, 1471, 1472, 1474, 1475, 1476, 1477, 1478, 1485, 1486, 1488, 1491, 1493, 1499, 1501, 1506, 1508, 1513, 1514, 1515, 1516, 1517, 1518, 1520, 1522, 1524, 1528, 1531, 1532, 1533, 1534, 1536, 1537, 1538, 1539, 1540, 1541, 1543, 1545, 1547, 1550, 1552, 1553, 1556, 1558, 1563, 1564, 1566, 1572, 1574, 1575, 1576, 1578, 1580, 1582, 1584, 1585, 1587, 1588, 1590, 1591, 1593, 1595, 1596, 1597, 1598, 1599, 1600, 1601, 1602, 1603, 1604, 1605, 1606, 1607, 1608, 1609, 1610, 1611, 1612, 1613, 1614, 1615, 1616, 1617, 1618, 1619, 1620, 1621, 1622, 1623, 1624, 1625, 1626, 1627, 1628, 1629, 1630, 1631, 1632, 1633, 1634, 1635, 1636, 1637, 1638, 1639, 1641, 1642, 1643, 1644, 1645, 1646, 1647, 1648, 1649, 1650, 1651, 1652, 1653, 1654, 1655, 1656, 1657, 1658, 1659, 1660, 1661, 1662, 1663, 1664, 1665, 1666, 1667, 1668, 1669, 1670, 1671, 1672, 1673, 1674, 1675, 1676, 1677, 1678, 1679, 1680, 1681, 1682, 1683, 1684, 1685, 1686, 1687, 1688, 1689, 1690, 1691, 1692, 1693, 1694, 1695, 1696, 1697, 1698, 1699, 1700, 1701, 1702, 1703, 1704, 1705, 1706, 1707, 1708, 1709, 1710, 1711, 1712, 1713, 1714, 1715, 1716, 1717, 1718, 1719, 1720, 1721, 1722, 1723, 1724, 1725, 1726, 1727, 1728, 1729, 1730, 1731, 1732, 1733, 1734, 1735, 1736, 1737, 1738, 1739, 1740, 1741, 1742, 1743, 1744, 1745, 1746, 1747, 1748, 1749, 1750, 1751, 1752, 1753, 1754, 1755, 1756, 1757, 1758, 1759, 1760, 1761, 1762, 1763, 1764, 1765, 1766, 1767, 1768, 1769, 1770, 1771, 1772, 1773, 1774, 1775, 1776, 1777, 1778, 1779, 1780, 1781, 1782, 1783, 1784, 1785, 1786, 1787, 1788, 1789, 1790, 1791, 1792, 1793, 1794, 1795, 1796, 1797, 1798, 1799, 1800, 1801, 1802, 1803, 1804, 1805, 1806, 1807, 1808, 1809, 1810, 1811, 1812, 1813, 1814, 1815, 1816, 1817, 1818, 1819, 1820, 1821, 1822, 1823, 1824, 1825, 1826, 1827, 1828, 1829, 1830, 1831, 1832, 1833, 1834, 1835, 1836, 1838, 1839, 1840, 1841, 1842, 1843, 1844, 1846, 1847, 1848, 1849, 1850, 1851, 1852, 1853, 1854, 1855, 1856, 1857, 1858, 1859, 1860, 1861, 1862, 1863, 1864, 1865, 1866, 1867, 1868, 1869, 1870, 1871, 1872, 1873, 1874, 1875, 1876, 1877, 1878, 1879, 1880, 1881, 1882, 1883, 1884, 1885, 1886, 1887, 1888, 1889, 1890, 1891, 1892, 1893, 1894, 1895, 1896, 1897, 1898, 1899, 1900, 1901, 1902, 1903, 1904, 1905, 1906, 1907, 1908, 1909, 1910, 1911, 1912, 1913, 1914, 1915, 1916, 1917, 1918, 1919, 1920, 1921, 1922, 1923, 1924, 1925, 1926, 1927, 1928, 1929, 1930, 1931, 1932, 1933, 1934, 1935, 1936, 1937, 1938, 1939, 1940, 1941, 1942, 1943, 1944, 1945, 1946, 1947, 1948, 1949, 1950, 1951, 1952, 1953, 1954, 1955, 1956, 1957, 1958, 1959, 1960, 1961, 1962, 1963, 1964, 1965, 1966, 1967, 1968, 1969, 1970, 1971, 1972, 1973, 1974, 1975, 1976, 1977, 1978, 1979, 1980, 1981, 1982, 1983, 1984, 1985, 1986, 1987, 1988, 1989, 1990, 1991, 1992, 1993, 1994, 1995, 1996, 1997, 1998, 1999, 2000, 2001, 2002, 2003, 2004, 2005, 2006, 2007, 2008, 2009, 2010, 2011, 2012, 2013, 2014, 2015, 2016, 2017, 2018, 2019, 2020, 2021, 2022, 2023, 2024, 2025, 2026, 2027, 2028, 2029, 2030, 2031, 2032, 2033, 2034, 2035, 2036, 2037, 2038, 2039, 2040, 2041, 2042, 2043, 2044, 2045, 2046, 2047, 2048, 2049, 2050, 2051, 2052, 2053, 2054, 2055, 2056, 2057, 2058, 2059, 2060, 2061, 2062, 2063, 2064, 2065, 2066, 2067, 2068, 2069, 2070, 2071, 2072, 2073, 2074, 2075, 2076, 2077, 2078, 2079, 2080, 2081, 2082, 2083, 2084, 2085, 2086, 2087, 2088, 2089, 2090, 2091, 2092, 2093, 2094, 2095, 2096, 2097, 2098, 2099, 2100, 2101, 2102, 2103, 2104, 2105, 2106, 2107, 2108, 2109, 2110, 2111, 2112, 2113, 2114, 2115, 2116, 2117, 2118, 2119, 2120, 2121, 2122, 2123, 2124, 2125, 2126, 2127, 2128, 2129, 2130, 2131, 2132, 2133, 2134, 2135, 2136, 2137, 2138, 2139, 2140, 2141, 2142, 2143, 2144, 2145, 2146, 2147, 2148, 2149, 2150, 2151, 2152, 2153, 2155, 2156, 2157, 2158, 2159, 2160, 2161, 2162, 2163, 2164, 2165, 2166, 2167, 2168, 2169, 2170, 2171, 2172, 2173, 2174, 2175, 2176, 2177, 2178, 2179, 2180, 2181, 2182, 2183, 2184, 2185, 2186, 2187, 2188, 2189, 2190, 2191, 2192, 2193, 2194, 2195, 2196, 2197, 2198, 2199, 2200, 2201, 2202, 2203, 2204, 2205, 2206, 2207, 2208, 2209, 2210, 2211, 2212, 2213, 2214, 2215, 2216, 2217, 2218, 2219, 2220, 2221, 2222, 2223, 2224, 2225, 2227, 2228, 2229, 2230, 2231, 2232, 2234, 2235, 2236, 2237, 2238, 2239, 2240, 2241, 2242, 2243, 2244, 2245, 2246, 2247, 2249, 2250, 2251, 2252, 2253, 2254, 2255, 2256, 2257, 2258, 2259, 2260, 2261, 2262, 2263, 2265, 2266, 2267, 2269, 2270, 2271, 2272, 2273, 2274, 2275, 2276, 2277, 2278, 2279, 2280, 2281, 2282, 2283, 2284, 2285, 2286, 2287, 2288, 2289, 2290, 2291, 2293, 2294, 2295, 2296, 2297, 2298, 2299, 2300, 2301, 2302, 2303, 2304, 2305, 2306, 2307, 2308, 2309, 2310, 2311, 2312, 2313, 2315, 2316, 2317, 2318, 2319, 2320, 2321, 2322, 2323, 2324, 2325, 2326, 2327, 2328, 2329, 2330, 2331, 2332, 2333, 2334, 2335, 2336, 2337, 2338, 2339, 2340, 2341, 2342, 2343, 2344, 2345, 2346, 2347, 2348, 2349, 2350, 2351, 2352, 2353, 2354, 2355, 2356, 2357, 2358, 2360, 2361, 2362, 2363, 2364, 2365, 2366, 2367, 2368, 2370, 2371, 2372, 2373, 2374, 2375, 2376, 2377, 2378, 2379, 2380, 2381, 2382, 2383, 2384, 2385, 2386, 2387, 2388, 2389, 2390, 2391, 2392, 2393, 2394, 2395, 2396, 2398, 2399, 2400, 2401, 2402, 2404, 2405, 2406, 2407, 2408, 2409, 2410, 2411, 2413, 2414, 2415, 2416, 2417, 2418, 2419, 2420, 2421, 2422, 2423, 2424, 2425, 2426, 2427, 2428, 2429, 2431, 2433, 2434, 2435, 2436, 2437, 2438, 2439, 2440, 2442, 2443, 2444, 2445, 2446, 2447, 2448, 2449, 2450, 2451, 2452, 2453]\n"
     ]
    }
   ],
   "source": [
    "def Retorna_registros_sem_data(tabela):\n",
    "    resultado = []\n",
    "    for indice , data in enumerate(tabela['dia']):\n",
    "        if data == '00/00/0000':\n",
    "            resultado.append(indice)\n",
    "    return resultado\n",
    "\n",
    "def Retorna_registros_com_data(tabela):\n",
    "    resultado = []\n",
    "    for indice , data in enumerate(tabela['dia']):\n",
    "        if data != '00/00/0000':\n",
    "            resultado.append(indice)\n",
    "    return resultado\n",
    "\n",
    "sem_data = Retorna_registros_sem_data(passo01)\n",
    "com_data = Retorna_registros_com_data(passo01)\n",
    "print(f'Foram encontrados {len(sem_data)} registros SEM DATA:')\n",
    "print(sem_data)\n",
    "print(f'Foram encontrados {len(com_data)} registros COM DATA:')\n",
    "print(com_data)"
   ]
  },
  {
   "cell_type": "code",
   "execution_count": 101,
   "metadata": {},
   "outputs": [
    {
     "data": {
      "text/plain": [
       "'00/00/0000'"
      ]
     },
     "execution_count": 101,
     "metadata": {},
     "output_type": "execute_result"
    }
   ],
   "source": [
    "passo01['dia'][31]"
   ]
  },
  {
   "cell_type": "markdown",
   "metadata": {},
   "source": [
    "# 17) Analise em registros que não consegui pegar a data"
   ]
  },
  {
   "cell_type": "code",
   "execution_count": 102,
   "metadata": {},
   "outputs": [],
   "source": [
    "def analise_registros_data():\n",
    "    linhas = []\n",
    "    antigo = pd.read_csv(f\"{diretorio_planilhas}\\\\transitorio01.csv\",index_col=[0])\n",
    "    print('Registros sem a DATA:\\n==========\\n')\n",
    "    for indice in sem_data:\n",
    "        linhas.append(f'\\nindice {indice}')\n",
    "        resultados = re.findall(\"(rio branco......................)\",antigo[\"conteudo\"][indice])\n",
    "        linhas.append(f'Antes = \\n')\n",
    "        for i, data in enumerate(resultados):\n",
    "            linhas.append(f'       {i} - {data}')\n",
    "        resultados = re.findall(\"(rio branco.......................)\",passo01[\"conteudo\"][indice])\n",
    "        linhas.append(f'Agora = \\n')\n",
    "        for i, data in enumerate(resultados):\n",
    "            linhas.append(f'       {i} - {data}')\n",
    "    print('================\\nVER RESPOSTA EM CSV RESULTADOS_SEM_DATA\\n===============')\n",
    "\n",
    "    extrutura_resultado = {\n",
    "    'linha': linhas\n",
    "    }\n",
    "    transitorio_dia = pd.DataFrame(extrutura_resultado)\n",
    "    transitorio_dia.to_csv(f\"{diretorio_planilhas}\\\\resultados_sem_data.csv\")"
   ]
  },
  {
   "cell_type": "code",
   "execution_count": 103,
   "metadata": {},
   "outputs": [],
   "source": [
    "#analise_registros_data()"
   ]
  },
  {
   "cell_type": "code",
   "execution_count": 104,
   "metadata": {},
   "outputs": [
    {
     "name": "stdout",
     "output_type": "stream",
     "text": [
      "Foram encontrados 610 registros SEM data:\n",
      "[20, 21, 31, 49, 51, 53, 71, 73, 75, 77, 80, 82, 89, 98, 103, 111, 112, 113, 116, 121, 132, 135, 145, 146, 152, 161, 162, 165, 172, 177, 192, 193, 199, 200, 203, 213, 214, 216, 218, 221, 233, 234, 237, 238, 244, 245, 269, 275, 282, 289, 293, 297, 298, 299, 301, 310, 317, 321, 324, 330, 332, 333, 334, 337, 338, 339, 341, 343, 348, 350, 356, 358, 369, 370, 371, 372, 374, 379, 380, 387, 392, 396, 398, 400, 402, 407, 409, 411, 412, 413, 418, 422, 423, 425, 437, 438, 439, 440, 441, 445, 447, 448, 449, 450, 465, 470, 473, 474, 475, 476, 484, 492, 500, 505, 513, 514, 515, 518, 521, 523, 530, 534, 537, 551, 557, 562, 563, 570, 574, 575, 577, 582, 584, 586, 587, 589, 590, 598, 603, 608, 609, 614, 616, 622, 624, 625, 629, 634, 635, 636, 643, 645, 648, 650, 651, 653, 654, 655, 661, 672, 678, 679, 691, 694, 695, 696, 701, 702, 703, 711, 712, 713, 715, 716, 717, 718, 720, 724, 727, 728, 730, 731, 734, 736, 737, 743, 744, 747, 749, 750, 751, 753, 754, 756, 757, 758, 760, 763, 766, 767, 771, 772, 773, 774, 785, 787, 788, 789, 790, 791, 794, 795, 809, 810, 812, 813, 816, 817, 819, 820, 822, 826, 827, 828, 831, 832, 833, 835, 840, 841, 842, 844, 847, 872, 874, 875, 876, 879, 880, 882, 883, 885, 887, 888, 889, 890, 891, 892, 896, 898, 900, 901, 903, 905, 910, 911, 913, 914, 915, 918, 920, 925, 929, 930, 931, 937, 938, 941, 942, 945, 946, 947, 949, 964, 968, 969, 970, 972, 973, 977, 979, 980, 982, 983, 987, 994, 997, 999, 1000, 1001, 1002, 1005, 1006, 1009, 1010, 1012, 1014, 1015, 1016, 1017, 1018, 1019, 1021, 1022, 1023, 1025, 1026, 1031, 1032, 1033, 1034, 1035, 1036, 1037, 1041, 1042, 1044, 1045, 1047, 1050, 1052, 1053, 1070, 1071, 1072, 1073, 1074, 1076, 1077, 1080, 1081, 1086, 1088, 1089, 1091, 1092, 1093, 1096, 1098, 1099, 1100, 1103, 1106, 1107, 1108, 1110, 1111, 1114, 1115, 1117, 1118, 1119, 1121, 1123, 1124, 1125, 1126, 1128, 1129, 1131, 1132, 1133, 1135, 1141, 1142, 1143, 1145, 1148, 1149, 1150, 1152, 1154, 1157, 1158, 1159, 1160, 1162, 1163, 1164, 1165, 1167, 1170, 1171, 1179, 1180, 1182, 1187, 1188, 1189, 1192, 1194, 1197, 1198, 1199, 1200, 1201, 1203, 1204, 1205, 1206, 1207, 1208, 1209, 1212, 1213, 1216, 1217, 1219, 1220, 1221, 1225, 1227, 1228, 1229, 1230, 1231, 1233, 1234, 1237, 1239, 1240, 1242, 1243, 1244, 1245, 1246, 1247, 1250, 1251, 1252, 1253, 1254, 1261, 1263, 1265, 1266, 1267, 1269, 1270, 1271, 1273, 1274, 1276, 1279, 1280, 1283, 1284, 1286, 1289, 1290, 1291, 1292, 1296, 1298, 1299, 1300, 1301, 1302, 1303, 1304, 1305, 1306, 1310, 1312, 1314, 1315, 1316, 1319, 1320, 1321, 1322, 1323, 1324, 1325, 1327, 1328, 1333, 1334, 1335, 1336, 1337, 1338, 1339, 1340, 1343, 1344, 1345, 1346, 1347, 1350, 1353, 1355, 1359, 1360, 1363, 1369, 1370, 1377, 1378, 1379, 1380, 1381, 1389, 1390, 1398, 1399, 1404, 1405, 1406, 1410, 1411, 1413, 1416, 1419, 1420, 1422, 1425, 1426, 1428, 1429, 1436, 1437, 1439, 1443, 1461, 1464, 1465, 1470, 1473, 1479, 1480, 1481, 1482, 1483, 1484, 1487, 1489, 1490, 1492, 1494, 1495, 1496, 1497, 1498, 1500, 1502, 1503, 1504, 1505, 1507, 1509, 1510, 1511, 1512, 1519, 1521, 1523, 1525, 1526, 1527, 1529, 1530, 1535, 1542, 1544, 1546, 1548, 1549, 1551, 1554, 1555, 1557, 1559, 1560, 1561, 1562, 1565, 1567, 1568, 1569, 1570, 1571, 1573, 1577, 1579, 1581, 1583, 1586, 1589, 1592, 1594, 1640, 1837, 1845, 2154, 2226, 2233, 2248, 2264, 2268, 2292, 2314, 2359, 2369, 2397, 2403, 2412, 2430, 2432, 2441]\n",
      "Exemplo: 00/00/0000\n",
      "Foram encontrados 1844 registros COM data:\n",
      "[0, 1, 2, 3, 4, 5, 6, 7, 8, 9, 10, 11, 12, 13, 14, 15, 16, 17, 18, 19, 22, 23, 24, 25, 26, 27, 28, 29, 30, 32, 33, 34, 35, 36, 37, 38, 39, 40, 41, 42, 43, 44, 45, 46, 47, 48, 50, 52, 54, 55, 56, 57, 58, 59, 60, 61, 62, 63, 64, 65, 66, 67, 68, 69, 70, 72, 74, 76, 78, 79, 81, 83, 84, 85, 86, 87, 88, 90, 91, 92, 93, 94, 95, 96, 97, 99, 100, 101, 102, 104, 105, 106, 107, 108, 109, 110, 114, 115, 117, 118, 119, 120, 122, 123, 124, 125, 126, 127, 128, 129, 130, 131, 133, 134, 136, 137, 138, 139, 140, 141, 142, 143, 144, 147, 148, 149, 150, 151, 153, 154, 155, 156, 157, 158, 159, 160, 163, 164, 166, 167, 168, 169, 170, 171, 173, 174, 175, 176, 178, 179, 180, 181, 182, 183, 184, 185, 186, 187, 188, 189, 190, 191, 194, 195, 196, 197, 198, 201, 202, 204, 205, 206, 207, 208, 209, 210, 211, 212, 215, 217, 219, 220, 222, 223, 224, 225, 226, 227, 228, 229, 230, 231, 232, 235, 236, 239, 240, 241, 242, 243, 246, 247, 248, 249, 250, 251, 252, 253, 254, 255, 256, 257, 258, 259, 260, 261, 262, 263, 264, 265, 266, 267, 268, 270, 271, 272, 273, 274, 276, 277, 278, 279, 280, 281, 283, 284, 285, 286, 287, 288, 290, 291, 292, 294, 295, 296, 300, 302, 303, 304, 305, 306, 307, 308, 309, 311, 312, 313, 314, 315, 316, 318, 319, 320, 322, 323, 325, 326, 327, 328, 329, 331, 335, 336, 340, 342, 344, 345, 346, 347, 349, 351, 352, 353, 354, 355, 357, 359, 360, 361, 362, 363, 364, 365, 366, 367, 368, 373, 375, 376, 377, 378, 381, 382, 383, 384, 385, 386, 388, 389, 390, 391, 393, 394, 395, 397, 399, 401, 403, 404, 405, 406, 408, 410, 414, 415, 416, 417, 419, 420, 421, 424, 426, 427, 428, 429, 430, 431, 432, 433, 434, 435, 436, 442, 443, 444, 446, 451, 452, 453, 454, 455, 456, 457, 458, 459, 460, 461, 462, 463, 464, 466, 467, 468, 469, 471, 472, 477, 478, 479, 480, 481, 482, 483, 485, 486, 487, 488, 489, 490, 491, 493, 494, 495, 496, 497, 498, 499, 501, 502, 503, 504, 506, 507, 508, 509, 510, 511, 512, 516, 517, 519, 520, 522, 524, 525, 526, 527, 528, 529, 531, 532, 533, 535, 536, 538, 539, 540, 541, 542, 543, 544, 545, 546, 547, 548, 549, 550, 552, 553, 554, 555, 556, 558, 559, 560, 561, 564, 565, 566, 567, 568, 569, 571, 572, 573, 576, 578, 579, 580, 581, 583, 585, 588, 591, 592, 593, 594, 595, 596, 597, 599, 600, 601, 602, 604, 605, 606, 607, 610, 611, 612, 613, 615, 617, 618, 619, 620, 621, 623, 626, 627, 628, 630, 631, 632, 633, 637, 638, 639, 640, 641, 642, 644, 646, 647, 649, 652, 656, 657, 658, 659, 660, 662, 663, 664, 665, 666, 667, 668, 669, 670, 671, 673, 674, 675, 676, 677, 680, 681, 682, 683, 684, 685, 686, 687, 688, 689, 690, 692, 693, 697, 698, 699, 700, 704, 705, 706, 707, 708, 709, 710, 714, 719, 721, 722, 723, 725, 726, 729, 732, 733, 735, 738, 739, 740, 741, 742, 745, 746, 748, 752, 755, 759, 761, 762, 764, 765, 768, 769, 770, 775, 776, 777, 778, 779, 780, 781, 782, 783, 784, 786, 792, 793, 796, 797, 798, 799, 800, 801, 802, 803, 804, 805, 806, 807, 808, 811, 814, 815, 818, 821, 823, 824, 825, 829, 830, 834, 836, 837, 838, 839, 843, 845, 846, 848, 849, 850, 851, 852, 853, 854, 855, 856, 857, 858, 859, 860, 861, 862, 863, 864, 865, 866, 867, 868, 869, 870, 871, 873, 877, 878, 881, 884, 886, 893, 894, 895, 897, 899, 902, 904, 906, 907, 908, 909, 912, 916, 917, 919, 921, 922, 923, 924, 926, 927, 928, 932, 933, 934, 935, 936, 939, 940, 943, 944, 948, 950, 951, 952, 953, 954, 955, 956, 957, 958, 959, 960, 961, 962, 963, 965, 966, 967, 971, 974, 975, 976, 978, 981, 984, 985, 986, 988, 989, 990, 991, 992, 993, 995, 996, 998, 1003, 1004, 1007, 1008, 1011, 1013, 1020, 1024, 1027, 1028, 1029, 1030, 1038, 1039, 1040, 1043, 1046, 1048, 1049, 1051, 1054, 1055, 1056, 1057, 1058, 1059, 1060, 1061, 1062, 1063, 1064, 1065, 1066, 1067, 1068, 1069, 1075, 1078, 1079, 1082, 1083, 1084, 1085, 1087, 1090, 1094, 1095, 1097, 1101, 1102, 1104, 1105, 1109, 1112, 1113, 1116, 1120, 1122, 1127, 1130, 1134, 1136, 1137, 1138, 1139, 1140, 1144, 1146, 1147, 1151, 1153, 1155, 1156, 1161, 1166, 1168, 1169, 1172, 1173, 1174, 1175, 1176, 1177, 1178, 1181, 1183, 1184, 1185, 1186, 1190, 1191, 1193, 1195, 1196, 1202, 1210, 1211, 1214, 1215, 1218, 1222, 1223, 1224, 1226, 1232, 1235, 1236, 1238, 1241, 1248, 1249, 1255, 1256, 1257, 1258, 1259, 1260, 1262, 1264, 1268, 1272, 1275, 1277, 1278, 1281, 1282, 1285, 1287, 1288, 1293, 1294, 1295, 1297, 1307, 1308, 1309, 1311, 1313, 1317, 1318, 1326, 1329, 1330, 1331, 1332, 1341, 1342, 1348, 1349, 1351, 1352, 1354, 1356, 1357, 1358, 1361, 1362, 1364, 1365, 1366, 1367, 1368, 1371, 1372, 1373, 1374, 1375, 1376, 1382, 1383, 1384, 1385, 1386, 1387, 1388, 1391, 1392, 1393, 1394, 1395, 1396, 1397, 1400, 1401, 1402, 1403, 1407, 1408, 1409, 1412, 1414, 1415, 1417, 1418, 1421, 1423, 1424, 1427, 1430, 1431, 1432, 1433, 1434, 1435, 1438, 1440, 1441, 1442, 1444, 1445, 1446, 1447, 1448, 1449, 1450, 1451, 1452, 1453, 1454, 1455, 1456, 1457, 1458, 1459, 1460, 1462, 1463, 1466, 1467, 1468, 1469, 1471, 1472, 1474, 1475, 1476, 1477, 1478, 1485, 1486, 1488, 1491, 1493, 1499, 1501, 1506, 1508, 1513, 1514, 1515, 1516, 1517, 1518, 1520, 1522, 1524, 1528, 1531, 1532, 1533, 1534, 1536, 1537, 1538, 1539, 1540, 1541, 1543, 1545, 1547, 1550, 1552, 1553, 1556, 1558, 1563, 1564, 1566, 1572, 1574, 1575, 1576, 1578, 1580, 1582, 1584, 1585, 1587, 1588, 1590, 1591, 1593, 1595, 1596, 1597, 1598, 1599, 1600, 1601, 1602, 1603, 1604, 1605, 1606, 1607, 1608, 1609, 1610, 1611, 1612, 1613, 1614, 1615, 1616, 1617, 1618, 1619, 1620, 1621, 1622, 1623, 1624, 1625, 1626, 1627, 1628, 1629, 1630, 1631, 1632, 1633, 1634, 1635, 1636, 1637, 1638, 1639, 1641, 1642, 1643, 1644, 1645, 1646, 1647, 1648, 1649, 1650, 1651, 1652, 1653, 1654, 1655, 1656, 1657, 1658, 1659, 1660, 1661, 1662, 1663, 1664, 1665, 1666, 1667, 1668, 1669, 1670, 1671, 1672, 1673, 1674, 1675, 1676, 1677, 1678, 1679, 1680, 1681, 1682, 1683, 1684, 1685, 1686, 1687, 1688, 1689, 1690, 1691, 1692, 1693, 1694, 1695, 1696, 1697, 1698, 1699, 1700, 1701, 1702, 1703, 1704, 1705, 1706, 1707, 1708, 1709, 1710, 1711, 1712, 1713, 1714, 1715, 1716, 1717, 1718, 1719, 1720, 1721, 1722, 1723, 1724, 1725, 1726, 1727, 1728, 1729, 1730, 1731, 1732, 1733, 1734, 1735, 1736, 1737, 1738, 1739, 1740, 1741, 1742, 1743, 1744, 1745, 1746, 1747, 1748, 1749, 1750, 1751, 1752, 1753, 1754, 1755, 1756, 1757, 1758, 1759, 1760, 1761, 1762, 1763, 1764, 1765, 1766, 1767, 1768, 1769, 1770, 1771, 1772, 1773, 1774, 1775, 1776, 1777, 1778, 1779, 1780, 1781, 1782, 1783, 1784, 1785, 1786, 1787, 1788, 1789, 1790, 1791, 1792, 1793, 1794, 1795, 1796, 1797, 1798, 1799, 1800, 1801, 1802, 1803, 1804, 1805, 1806, 1807, 1808, 1809, 1810, 1811, 1812, 1813, 1814, 1815, 1816, 1817, 1818, 1819, 1820, 1821, 1822, 1823, 1824, 1825, 1826, 1827, 1828, 1829, 1830, 1831, 1832, 1833, 1834, 1835, 1836, 1838, 1839, 1840, 1841, 1842, 1843, 1844, 1846, 1847, 1848, 1849, 1850, 1851, 1852, 1853, 1854, 1855, 1856, 1857, 1858, 1859, 1860, 1861, 1862, 1863, 1864, 1865, 1866, 1867, 1868, 1869, 1870, 1871, 1872, 1873, 1874, 1875, 1876, 1877, 1878, 1879, 1880, 1881, 1882, 1883, 1884, 1885, 1886, 1887, 1888, 1889, 1890, 1891, 1892, 1893, 1894, 1895, 1896, 1897, 1898, 1899, 1900, 1901, 1902, 1903, 1904, 1905, 1906, 1907, 1908, 1909, 1910, 1911, 1912, 1913, 1914, 1915, 1916, 1917, 1918, 1919, 1920, 1921, 1922, 1923, 1924, 1925, 1926, 1927, 1928, 1929, 1930, 1931, 1932, 1933, 1934, 1935, 1936, 1937, 1938, 1939, 1940, 1941, 1942, 1943, 1944, 1945, 1946, 1947, 1948, 1949, 1950, 1951, 1952, 1953, 1954, 1955, 1956, 1957, 1958, 1959, 1960, 1961, 1962, 1963, 1964, 1965, 1966, 1967, 1968, 1969, 1970, 1971, 1972, 1973, 1974, 1975, 1976, 1977, 1978, 1979, 1980, 1981, 1982, 1983, 1984, 1985, 1986, 1987, 1988, 1989, 1990, 1991, 1992, 1993, 1994, 1995, 1996, 1997, 1998, 1999, 2000, 2001, 2002, 2003, 2004, 2005, 2006, 2007, 2008, 2009, 2010, 2011, 2012, 2013, 2014, 2015, 2016, 2017, 2018, 2019, 2020, 2021, 2022, 2023, 2024, 2025, 2026, 2027, 2028, 2029, 2030, 2031, 2032, 2033, 2034, 2035, 2036, 2037, 2038, 2039, 2040, 2041, 2042, 2043, 2044, 2045, 2046, 2047, 2048, 2049, 2050, 2051, 2052, 2053, 2054, 2055, 2056, 2057, 2058, 2059, 2060, 2061, 2062, 2063, 2064, 2065, 2066, 2067, 2068, 2069, 2070, 2071, 2072, 2073, 2074, 2075, 2076, 2077, 2078, 2079, 2080, 2081, 2082, 2083, 2084, 2085, 2086, 2087, 2088, 2089, 2090, 2091, 2092, 2093, 2094, 2095, 2096, 2097, 2098, 2099, 2100, 2101, 2102, 2103, 2104, 2105, 2106, 2107, 2108, 2109, 2110, 2111, 2112, 2113, 2114, 2115, 2116, 2117, 2118, 2119, 2120, 2121, 2122, 2123, 2124, 2125, 2126, 2127, 2128, 2129, 2130, 2131, 2132, 2133, 2134, 2135, 2136, 2137, 2138, 2139, 2140, 2141, 2142, 2143, 2144, 2145, 2146, 2147, 2148, 2149, 2150, 2151, 2152, 2153, 2155, 2156, 2157, 2158, 2159, 2160, 2161, 2162, 2163, 2164, 2165, 2166, 2167, 2168, 2169, 2170, 2171, 2172, 2173, 2174, 2175, 2176, 2177, 2178, 2179, 2180, 2181, 2182, 2183, 2184, 2185, 2186, 2187, 2188, 2189, 2190, 2191, 2192, 2193, 2194, 2195, 2196, 2197, 2198, 2199, 2200, 2201, 2202, 2203, 2204, 2205, 2206, 2207, 2208, 2209, 2210, 2211, 2212, 2213, 2214, 2215, 2216, 2217, 2218, 2219, 2220, 2221, 2222, 2223, 2224, 2225, 2227, 2228, 2229, 2230, 2231, 2232, 2234, 2235, 2236, 2237, 2238, 2239, 2240, 2241, 2242, 2243, 2244, 2245, 2246, 2247, 2249, 2250, 2251, 2252, 2253, 2254, 2255, 2256, 2257, 2258, 2259, 2260, 2261, 2262, 2263, 2265, 2266, 2267, 2269, 2270, 2271, 2272, 2273, 2274, 2275, 2276, 2277, 2278, 2279, 2280, 2281, 2282, 2283, 2284, 2285, 2286, 2287, 2288, 2289, 2290, 2291, 2293, 2294, 2295, 2296, 2297, 2298, 2299, 2300, 2301, 2302, 2303, 2304, 2305, 2306, 2307, 2308, 2309, 2310, 2311, 2312, 2313, 2315, 2316, 2317, 2318, 2319, 2320, 2321, 2322, 2323, 2324, 2325, 2326, 2327, 2328, 2329, 2330, 2331, 2332, 2333, 2334, 2335, 2336, 2337, 2338, 2339, 2340, 2341, 2342, 2343, 2344, 2345, 2346, 2347, 2348, 2349, 2350, 2351, 2352, 2353, 2354, 2355, 2356, 2357, 2358, 2360, 2361, 2362, 2363, 2364, 2365, 2366, 2367, 2368, 2370, 2371, 2372, 2373, 2374, 2375, 2376, 2377, 2378, 2379, 2380, 2381, 2382, 2383, 2384, 2385, 2386, 2387, 2388, 2389, 2390, 2391, 2392, 2393, 2394, 2395, 2396, 2398, 2399, 2400, 2401, 2402, 2404, 2405, 2406, 2407, 2408, 2409, 2410, 2411, 2413, 2414, 2415, 2416, 2417, 2418, 2419, 2420, 2421, 2422, 2423, 2424, 2425, 2426, 2427, 2428, 2429, 2431, 2433, 2434, 2435, 2436, 2437, 2438, 2439, 2440, 2442, 2443, 2444, 2445, 2446, 2447, 2448, 2449, 2450, 2451, 2452, 2453]\n",
      "Exemplo: 02/04/1992\n"
     ]
    }
   ],
   "source": [
    "def Retorna_registros_sem_data(tabela):\n",
    "    resultado = []\n",
    "    for indice , dia in enumerate(tabela['dia']):\n",
    "        if dia == '00/00/0000':\n",
    "            resultado.append(indice)\n",
    "    return resultado\n",
    "\n",
    "def Retorna_registros_com_data(tabela):\n",
    "    resultado = []\n",
    "    for indice , dia in enumerate(tabela['dia']):\n",
    "        if dia != '00/00/0000':\n",
    "            resultado.append(indice)\n",
    "    return resultado\n",
    "\n",
    "\n",
    "\n",
    "sem_data = Retorna_registros_sem_data(passo01)\n",
    "com_data = Retorna_registros_com_data(passo01)\n",
    "print(f'Foram encontrados {len(sem_data)} registros SEM data:')\n",
    "print(sem_data)\n",
    "dia = passo01['dia'][20]\n",
    "print(f'Exemplo: {dia}')\n",
    "print(f'Foram encontrados {len(com_data)} registros COM data:')\n",
    "print(com_data)\n",
    "dia = passo01['dia'][0]\n",
    "print(f'Exemplo: {dia}')\n"
   ]
  },
  {
   "cell_type": "code",
   "execution_count": 105,
   "metadata": {},
   "outputs": [],
   "source": [
    "# passo01['dia'][0]"
   ]
  },
  {
   "cell_type": "markdown",
   "metadata": {},
   "source": [
    "# Com base no resultado acima fazer adequações no passo 14 !"
   ]
  },
  {
   "cell_type": "markdown",
   "metadata": {},
   "source": [
    "# Tratamentos finais\n",
    "### - Apagando Números"
   ]
  },
  {
   "cell_type": "code",
   "execution_count": 106,
   "metadata": {},
   "outputs": [],
   "source": [
    "def fazer_substituicoes_finais(tabela):\n",
    "    print('Aguarde', end = \"\")\n",
    "    for i in tabela.index:\n",
    "\n",
    "        #padronizando em letras minúsculas\n",
    "        antes = tabela.conteudo[i].lower()\n",
    "        \n",
    "        depois = substituir(antes,\" \",regex_numeros)\n",
    "        depois = substituir(depois,\" \",regex_apagar_02)\n",
    "        depois = substituir(depois,\" \",regex_uma_a_duas_letras)\n",
    "        depois = substituir(depois,\" \",regex_espacos_em_branco_em_duplicidade)\n",
    "        depois = substituir(depois,\" \",regex_nao_visuais)\n",
    "\n",
    "        tabela.loc[i,'conteudo'] = depois\n",
    "        print('.', end = \"\")\n",
    "\n",
    "    print('\\nTexto processado com sucesso !')"
   ]
  },
  {
   "cell_type": "code",
   "execution_count": 107,
   "metadata": {},
   "outputs": [
    {
     "name": "stdout",
     "output_type": "stream",
     "text": [
      "Aguarde......................................................................................................................................................................................................................................................................................................................................................................................................................................................................................................................................................................................................................................................................................................................................................................................................................................................................................................................................................................................................................................................................................................................................................................................................................................................................................................................................................................................................................................................................................................................................................................................................................................................................................................................................................................................................................................................................................................................................................................................................................................................................................................................................................................................................................................................................................................................................................................................................................................................................................................................................................\n",
      "Texto processado com sucesso !\n"
     ]
    },
    {
     "data": {
      "text/html": [
       "<div>\n",
       "<style scoped>\n",
       "    .dataframe tbody tr th:only-of-type {\n",
       "        vertical-align: middle;\n",
       "    }\n",
       "\n",
       "    .dataframe tbody tr th {\n",
       "        vertical-align: top;\n",
       "    }\n",
       "\n",
       "    .dataframe thead th {\n",
       "        text-align: right;\n",
       "    }\n",
       "</style>\n",
       "<table border=\"1\" class=\"dataframe\">\n",
       "  <thead>\n",
       "    <tr style=\"text-align: right;\">\n",
       "      <th></th>\n",
       "      <th>conteudo</th>\n",
       "      <th>acordao</th>\n",
       "      <th>dia</th>\n",
       "    </tr>\n",
       "  </thead>\n",
       "  <tbody>\n",
       "    <tr>\n",
       "      <th>0</th>\n",
       "      <td>relator conselheiro marciliano reis fleming v...</td>\n",
       "      <td>176</td>\n",
       "      <td>02/04/1992</td>\n",
       "    </tr>\n",
       "    <tr>\n",
       "      <th>1</th>\n",
       "      <td>natureza apenso prestação contas prefeitura m...</td>\n",
       "      <td>7556</td>\n",
       "      <td>02/02/2012</td>\n",
       "    </tr>\n",
       "    <tr>\n",
       "      <th>2</th>\n",
       "      <td>natureza tce prestação contas câmara municipa...</td>\n",
       "      <td>7557</td>\n",
       "      <td>02/02/2012</td>\n",
       "    </tr>\n",
       "    <tr>\n",
       "      <th>3</th>\n",
       "      <td>natureza anexos prestação contas empresa muni...</td>\n",
       "      <td>7560</td>\n",
       "      <td>02/02/2012</td>\n",
       "    </tr>\n",
       "    <tr>\n",
       "      <th>4</th>\n",
       "      <td>natureza tce relatório gestão fiscal prefeitu...</td>\n",
       "      <td>7564</td>\n",
       "      <td>02/02/2012</td>\n",
       "    </tr>\n",
       "  </tbody>\n",
       "</table>\n",
       "</div>"
      ],
      "text/plain": [
       "                                            conteudo acordao         dia\n",
       "0   relator conselheiro marciliano reis fleming v...     176  02/04/1992\n",
       "1   natureza apenso prestação contas prefeitura m...    7556  02/02/2012\n",
       "2   natureza tce prestação contas câmara municipa...    7557  02/02/2012\n",
       "3   natureza anexos prestação contas empresa muni...    7560  02/02/2012\n",
       "4   natureza tce relatório gestão fiscal prefeitu...    7564  02/02/2012"
      ]
     },
     "execution_count": 107,
     "metadata": {},
     "output_type": "execute_result"
    }
   ],
   "source": [
    "\n",
    "#Substituições após pegar o acórdão e a data\n",
    "fazer_substituicoes_finais(passo01)\n",
    "passo01.head()\n"
   ]
  },
  {
   "cell_type": "markdown",
   "metadata": {},
   "source": [
    "# Excluir registros que faltam número do Acórdão e data do julgamento"
   ]
  },
  {
   "cell_type": "code",
   "execution_count": 108,
   "metadata": {},
   "outputs": [],
   "source": [
    "set_sem_acordao = set(sem_acordao)\n",
    "set_sem_data = set(sem_data)\n",
    "indices_a_serem_excluidos = set_sem_acordao.union(set_sem_data)"
   ]
  },
  {
   "cell_type": "code",
   "execution_count": 109,
   "metadata": {},
   "outputs": [
    {
     "name": "stdout",
     "output_type": "stream",
     "text": [
      "Apagando 20 registros sem número do acordao\n",
      "Apagando 610 registros sem data\n",
      "Total registros no DataFrame 2454\n",
      "Total a excluir 615 (sem repetições)\n",
      "Após a exclusão o Dataframe ficará com 1839 linhas restantes\n"
     ]
    }
   ],
   "source": [
    "print(f'Apagando {len(sem_acordao)} registros sem número do acordao')\n",
    "print(f'Apagando {len(sem_data)} registros sem data')\n",
    "print(f'Total registros no DataFrame {passo01.shape[0]}')\n",
    "print(f'Total a excluir {len(indices_a_serem_excluidos)} (sem repetições)')\n",
    "print(f'Após a exclusão o Dataframe ficará com {passo01.shape[0] - len(indices_a_serem_excluidos)} linhas restantes')"
   ]
  },
  {
   "cell_type": "code",
   "execution_count": 110,
   "metadata": {},
   "outputs": [
    {
     "name": "stdout",
     "output_type": "stream",
     "text": [
      "<class 'list'>\n",
      "[20, 21, 31, 49, 51, 53, 71, 73, 75, 77, 80, 82, 89, 98, 103, 2154, 111, 112, 113, 116, 121, 132, 135, 145, 146, 152, 161, 162, 165, 172, 177, 2226, 2233, 192, 193, 199, 200, 2248, 203, 213, 214, 216, 2264, 218, 2268, 221, 233, 234, 237, 238, 244, 245, 2292, 2314, 269, 275, 282, 289, 293, 297, 298, 299, 301, 310, 2359, 317, 321, 2369, 324, 330, 332, 333, 334, 337, 338, 339, 341, 343, 348, 2397, 350, 2403, 356, 358, 2412, 369, 370, 371, 372, 374, 379, 380, 2430, 2432, 387, 392, 2441, 396, 398, 400, 402, 407, 409, 411, 412, 413, 418, 422, 423, 425, 437, 438, 439, 440, 441, 445, 447, 448, 449, 450, 465, 470, 473, 474, 475, 476, 484, 492, 500, 505, 513, 514, 515, 518, 521, 523, 530, 534, 537, 551, 557, 562, 563, 570, 574, 575, 577, 582, 584, 586, 587, 589, 590, 598, 603, 608, 609, 614, 616, 622, 624, 625, 629, 634, 635, 636, 643, 645, 648, 650, 651, 653, 654, 655, 661, 670, 672, 678, 679, 691, 694, 695, 696, 701, 702, 703, 711, 712, 713, 715, 716, 717, 718, 720, 724, 727, 728, 730, 731, 734, 736, 737, 743, 744, 747, 749, 750, 751, 753, 754, 756, 757, 758, 760, 763, 766, 767, 771, 772, 773, 774, 785, 787, 788, 789, 790, 791, 794, 795, 809, 810, 812, 813, 816, 817, 819, 820, 822, 826, 827, 828, 831, 832, 833, 835, 840, 841, 842, 844, 847, 872, 874, 875, 876, 879, 880, 882, 883, 885, 887, 888, 889, 890, 891, 892, 896, 898, 900, 901, 903, 905, 910, 911, 913, 914, 915, 918, 920, 925, 929, 930, 931, 937, 938, 941, 942, 945, 946, 947, 949, 964, 968, 969, 970, 972, 973, 977, 979, 980, 982, 983, 987, 994, 997, 999, 1000, 1001, 1002, 1005, 1006, 1009, 1010, 1012, 1014, 1015, 1016, 1017, 1018, 1019, 1020, 1021, 1022, 1023, 1025, 1026, 1031, 1032, 1033, 1034, 1035, 1036, 1037, 1041, 1042, 1044, 1045, 1047, 1050, 1052, 1053, 1070, 1071, 1072, 1073, 1074, 1076, 1077, 1080, 1081, 1086, 1088, 1089, 1091, 1092, 1093, 1096, 1098, 1099, 1100, 1103, 1106, 1107, 1108, 1110, 1111, 1114, 1115, 1117, 1118, 1119, 1121, 1123, 1124, 1125, 1126, 1128, 1129, 1131, 1132, 1133, 1135, 1141, 1142, 1143, 1145, 1148, 1149, 1150, 1152, 1154, 1157, 1158, 1159, 1160, 1162, 1163, 1164, 1165, 1167, 1170, 1171, 1179, 1180, 1182, 1187, 1188, 1189, 1192, 1193, 1194, 1195, 1196, 1197, 1198, 1199, 1200, 1201, 1203, 1204, 1205, 1206, 1207, 1208, 1209, 1212, 1213, 1216, 1217, 1219, 1220, 1221, 1225, 1227, 1228, 1229, 1230, 1231, 1233, 1234, 1237, 1239, 1240, 1242, 1243, 1244, 1245, 1246, 1247, 1250, 1251, 1252, 1253, 1254, 1261, 1263, 1265, 1266, 1267, 1269, 1270, 1271, 1273, 1274, 1276, 1279, 1280, 1283, 1284, 1286, 1289, 1290, 1291, 1292, 1296, 1298, 1299, 1300, 1301, 1302, 1303, 1304, 1305, 1306, 1310, 1312, 1314, 1315, 1316, 1319, 1320, 1321, 1322, 1323, 1324, 1325, 1327, 1328, 1333, 1334, 1335, 1336, 1337, 1338, 1339, 1340, 1343, 1344, 1345, 1346, 1347, 1350, 1353, 1355, 1359, 1360, 1363, 1369, 1370, 1377, 1378, 1379, 1380, 1381, 1389, 1390, 1398, 1399, 1404, 1405, 1406, 1410, 1411, 1413, 1416, 1419, 1420, 1422, 1425, 1426, 1428, 1429, 1436, 1437, 1439, 1443, 1461, 1464, 1465, 1470, 1473, 1479, 1480, 1481, 1482, 1483, 1484, 1487, 1489, 1490, 1492, 1494, 1495, 1496, 1497, 1498, 1500, 1502, 1503, 1504, 1505, 1507, 1509, 1510, 1511, 1512, 1519, 1521, 1523, 1525, 1526, 1527, 1529, 1530, 1535, 1542, 1544, 1546, 1548, 1549, 1551, 1554, 1555, 1557, 1559, 1560, 1561, 1562, 1565, 1567, 1568, 1569, 1570, 1571, 1573, 1577, 1579, 1581, 1583, 1586, 1589, 1592, 1594, 1640, 1837, 1845]\n"
     ]
    }
   ],
   "source": [
    "lista_a_excluir = list(indices_a_serem_excluidos)\n",
    "print(type(lista_a_excluir))\n",
    "print(lista_a_excluir)"
   ]
  },
  {
   "cell_type": "code",
   "execution_count": 111,
   "metadata": {},
   "outputs": [
    {
     "name": "stdout",
     "output_type": "stream",
     "text": [
      "Total registros no DataFrame 1839 após excluir os registros\n"
     ]
    }
   ],
   "source": [
    "passo02 = passo01.drop(lista_a_excluir,axis=0)\n",
    "print(f'Total registros no DataFrame {len(passo02.index)} após excluir os registros')"
   ]
  },
  {
   "cell_type": "markdown",
   "metadata": {},
   "source": [
    "# Salvando em acordaos02.csv"
   ]
  },
  {
   "cell_type": "code",
   "execution_count": 112,
   "metadata": {},
   "outputs": [
    {
     "data": {
      "text/html": [
       "<div>\n",
       "<style scoped>\n",
       "    .dataframe tbody tr th:only-of-type {\n",
       "        vertical-align: middle;\n",
       "    }\n",
       "\n",
       "    .dataframe tbody tr th {\n",
       "        vertical-align: top;\n",
       "    }\n",
       "\n",
       "    .dataframe thead th {\n",
       "        text-align: right;\n",
       "    }\n",
       "</style>\n",
       "<table border=\"1\" class=\"dataframe\">\n",
       "  <thead>\n",
       "    <tr style=\"text-align: right;\">\n",
       "      <th></th>\n",
       "      <th>conteudo</th>\n",
       "      <th>acordao</th>\n",
       "      <th>dia</th>\n",
       "    </tr>\n",
       "  </thead>\n",
       "  <tbody>\n",
       "    <tr>\n",
       "      <th>0</th>\n",
       "      <td>relator conselheiro marciliano reis fleming v...</td>\n",
       "      <td>176</td>\n",
       "      <td>02/04/1992</td>\n",
       "    </tr>\n",
       "    <tr>\n",
       "      <th>1</th>\n",
       "      <td>natureza apenso prestação contas prefeitura m...</td>\n",
       "      <td>7556</td>\n",
       "      <td>02/02/2012</td>\n",
       "    </tr>\n",
       "    <tr>\n",
       "      <th>2</th>\n",
       "      <td>natureza tce prestação contas câmara municipa...</td>\n",
       "      <td>7557</td>\n",
       "      <td>02/02/2012</td>\n",
       "    </tr>\n",
       "    <tr>\n",
       "      <th>3</th>\n",
       "      <td>natureza anexos prestação contas empresa muni...</td>\n",
       "      <td>7560</td>\n",
       "      <td>02/02/2012</td>\n",
       "    </tr>\n",
       "    <tr>\n",
       "      <th>4</th>\n",
       "      <td>natureza tce relatório gestão fiscal prefeitu...</td>\n",
       "      <td>7564</td>\n",
       "      <td>02/02/2012</td>\n",
       "    </tr>\n",
       "  </tbody>\n",
       "</table>\n",
       "</div>"
      ],
      "text/plain": [
       "                                            conteudo acordao         dia\n",
       "0   relator conselheiro marciliano reis fleming v...     176  02/04/1992\n",
       "1   natureza apenso prestação contas prefeitura m...    7556  02/02/2012\n",
       "2   natureza tce prestação contas câmara municipa...    7557  02/02/2012\n",
       "3   natureza anexos prestação contas empresa muni...    7560  02/02/2012\n",
       "4   natureza tce relatório gestão fiscal prefeitu...    7564  02/02/2012"
      ]
     },
     "execution_count": 112,
     "metadata": {},
     "output_type": "execute_result"
    }
   ],
   "source": [
    "indices = []\n",
    "n = -1\n",
    "for i in passo02.index:\n",
    "    n += 1\n",
    "    indices.append(n)\n",
    "\n",
    "extrutura_transitorio_indice = {\n",
    "  'indice': indices\n",
    "}\n",
    "\n",
    "passo02.index = extrutura_transitorio_indice['indice']\n",
    "passo02.head()"
   ]
  },
  {
   "cell_type": "code",
   "execution_count": 113,
   "metadata": {},
   "outputs": [],
   "source": [
    "passo02.to_csv(f\"{diretorio_planilhas}\\\\acordaos02.csv\")\n"
   ]
  },
  {
   "cell_type": "markdown",
   "metadata": {},
   "source": [
    "# Continuar no notebook Grupo_NLP_03.ipynb"
   ]
  }
 ],
 "metadata": {
  "kernelspec": {
   "display_name": "estudo",
   "language": "python",
   "name": "python3"
  },
  "language_info": {
   "codemirror_mode": {
    "name": "ipython",
    "version": 3
   },
   "file_extension": ".py",
   "mimetype": "text/x-python",
   "name": "python",
   "nbconvert_exporter": "python",
   "pygments_lexer": "ipython3",
   "version": "3.11.5"
  }
 },
 "nbformat": 4,
 "nbformat_minor": 2
}
